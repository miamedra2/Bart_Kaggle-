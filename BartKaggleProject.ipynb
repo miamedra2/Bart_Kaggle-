{
 "cells": [
  {
   "cell_type": "code",
   "execution_count": 1,
   "metadata": {},
   "outputs": [],
   "source": [
    "import pandas as pd\n",
    "import re\n",
    "import matplotlib.pyplot as plt\n",
    "import numpy as np"
   ]
  },
  {
   "cell_type": "code",
   "execution_count": 2,
   "metadata": {},
   "outputs": [
    {
     "name": "stdout",
     "output_type": "stream",
     "text": [
      "\u001b[31mdate-hour-soo-dest-2016.csv\u001b[m\u001b[m* \u001b[31mstation_info.csv\u001b[m\u001b[m*\r\n",
      "\u001b[31mdate-hour-soo-dest-2017.csv\u001b[m\u001b[m*\r\n"
     ]
    }
   ],
   "source": [
    "ls bart-ridership/"
   ]
  },
  {
   "cell_type": "code",
   "execution_count": 3,
   "metadata": {},
   "outputs": [],
   "source": [
    "df_2016 = pd.read_csv('bart-ridership/date-hour-soo-dest-2016.csv')\n",
    "df_2017 = pd.read_csv('bart-ridership/date-hour-soo-dest-2017.csv')\n",
    "df_station_info = pd.read_csv('bart-ridership/station_info.csv')"
   ]
  },
  {
   "cell_type": "code",
   "execution_count": null,
   "metadata": {},
   "outputs": [],
   "source": []
  },
  {
   "cell_type": "code",
   "execution_count": 4,
   "metadata": {},
   "outputs": [
    {
     "data": {
      "text/html": [
       "<div>\n",
       "<style scoped>\n",
       "    .dataframe tbody tr th:only-of-type {\n",
       "        vertical-align: middle;\n",
       "    }\n",
       "\n",
       "    .dataframe tbody tr th {\n",
       "        vertical-align: top;\n",
       "    }\n",
       "\n",
       "    .dataframe thead th {\n",
       "        text-align: right;\n",
       "    }\n",
       "</style>\n",
       "<table border=\"1\" class=\"dataframe\">\n",
       "  <thead>\n",
       "    <tr style=\"text-align: right;\">\n",
       "      <th></th>\n",
       "      <th>Origin</th>\n",
       "      <th>Destination</th>\n",
       "      <th>Throughput</th>\n",
       "      <th>DateTime</th>\n",
       "    </tr>\n",
       "  </thead>\n",
       "  <tbody>\n",
       "    <tr>\n",
       "      <th>0</th>\n",
       "      <td>12TH</td>\n",
       "      <td>12TH</td>\n",
       "      <td>1</td>\n",
       "      <td>2016-01-01 00:00:00</td>\n",
       "    </tr>\n",
       "    <tr>\n",
       "      <th>1</th>\n",
       "      <td>12TH</td>\n",
       "      <td>16TH</td>\n",
       "      <td>1</td>\n",
       "      <td>2016-01-01 00:00:00</td>\n",
       "    </tr>\n",
       "    <tr>\n",
       "      <th>2</th>\n",
       "      <td>12TH</td>\n",
       "      <td>24TH</td>\n",
       "      <td>4</td>\n",
       "      <td>2016-01-01 00:00:00</td>\n",
       "    </tr>\n",
       "    <tr>\n",
       "      <th>3</th>\n",
       "      <td>12TH</td>\n",
       "      <td>ASHB</td>\n",
       "      <td>4</td>\n",
       "      <td>2016-01-01 00:00:00</td>\n",
       "    </tr>\n",
       "    <tr>\n",
       "      <th>4</th>\n",
       "      <td>12TH</td>\n",
       "      <td>BALB</td>\n",
       "      <td>2</td>\n",
       "      <td>2016-01-01 00:00:00</td>\n",
       "    </tr>\n",
       "  </tbody>\n",
       "</table>\n",
       "</div>"
      ],
      "text/plain": [
       "  Origin Destination  Throughput             DateTime\n",
       "0   12TH        12TH           1  2016-01-01 00:00:00\n",
       "1   12TH        16TH           1  2016-01-01 00:00:00\n",
       "2   12TH        24TH           4  2016-01-01 00:00:00\n",
       "3   12TH        ASHB           4  2016-01-01 00:00:00\n",
       "4   12TH        BALB           2  2016-01-01 00:00:00"
      ]
     },
     "execution_count": 4,
     "metadata": {},
     "output_type": "execute_result"
    }
   ],
   "source": [
    "df_2016.head()"
   ]
  },
  {
   "cell_type": "code",
   "execution_count": 5,
   "metadata": {},
   "outputs": [
    {
     "data": {
      "text/plain": [
       "(9971582, 4)"
      ]
     },
     "execution_count": 5,
     "metadata": {},
     "output_type": "execute_result"
    }
   ],
   "source": [
    "df_2016.shape"
   ]
  },
  {
   "cell_type": "code",
   "execution_count": 6,
   "metadata": {},
   "outputs": [
    {
     "data": {
      "text/html": [
       "<div>\n",
       "<style scoped>\n",
       "    .dataframe tbody tr th:only-of-type {\n",
       "        vertical-align: middle;\n",
       "    }\n",
       "\n",
       "    .dataframe tbody tr th {\n",
       "        vertical-align: top;\n",
       "    }\n",
       "\n",
       "    .dataframe thead th {\n",
       "        text-align: right;\n",
       "    }\n",
       "</style>\n",
       "<table border=\"1\" class=\"dataframe\">\n",
       "  <thead>\n",
       "    <tr style=\"text-align: right;\">\n",
       "      <th></th>\n",
       "      <th>Origin</th>\n",
       "      <th>Destination</th>\n",
       "      <th>Throughput</th>\n",
       "      <th>DateTime</th>\n",
       "    </tr>\n",
       "  </thead>\n",
       "  <tbody>\n",
       "    <tr>\n",
       "      <th>0</th>\n",
       "      <td>12TH</td>\n",
       "      <td>19TH</td>\n",
       "      <td>1</td>\n",
       "      <td>2017-01-01 00:00:00</td>\n",
       "    </tr>\n",
       "    <tr>\n",
       "      <th>1</th>\n",
       "      <td>12TH</td>\n",
       "      <td>24TH</td>\n",
       "      <td>2</td>\n",
       "      <td>2017-01-01 00:00:00</td>\n",
       "    </tr>\n",
       "    <tr>\n",
       "      <th>2</th>\n",
       "      <td>12TH</td>\n",
       "      <td>BAYF</td>\n",
       "      <td>1</td>\n",
       "      <td>2017-01-01 00:00:00</td>\n",
       "    </tr>\n",
       "    <tr>\n",
       "      <th>3</th>\n",
       "      <td>12TH</td>\n",
       "      <td>CIVC</td>\n",
       "      <td>5</td>\n",
       "      <td>2017-01-01 00:00:00</td>\n",
       "    </tr>\n",
       "    <tr>\n",
       "      <th>4</th>\n",
       "      <td>12TH</td>\n",
       "      <td>COLS</td>\n",
       "      <td>2</td>\n",
       "      <td>2017-01-01 00:00:00</td>\n",
       "    </tr>\n",
       "  </tbody>\n",
       "</table>\n",
       "</div>"
      ],
      "text/plain": [
       "  Origin Destination  Throughput             DateTime\n",
       "0   12TH        19TH           1  2017-01-01 00:00:00\n",
       "1   12TH        24TH           2  2017-01-01 00:00:00\n",
       "2   12TH        BAYF           1  2017-01-01 00:00:00\n",
       "3   12TH        CIVC           5  2017-01-01 00:00:00\n",
       "4   12TH        COLS           2  2017-01-01 00:00:00"
      ]
     },
     "execution_count": 6,
     "metadata": {},
     "output_type": "execute_result"
    }
   ],
   "source": [
    "df_2017.head()"
   ]
  },
  {
   "cell_type": "code",
   "execution_count": 7,
   "metadata": {},
   "outputs": [
    {
     "data": {
      "text/plain": [
       "(3313625, 4)"
      ]
     },
     "execution_count": 7,
     "metadata": {},
     "output_type": "execute_result"
    }
   ],
   "source": [
    "df_2017.shape"
   ]
  },
  {
   "cell_type": "code",
   "execution_count": 8,
   "metadata": {},
   "outputs": [],
   "source": [
    "df = pd.concat([df_2016, df_2017])"
   ]
  },
  {
   "cell_type": "code",
   "execution_count": 9,
   "metadata": {},
   "outputs": [
    {
     "data": {
      "text/plain": [
       "(13285207, 4)"
      ]
     },
     "execution_count": 9,
     "metadata": {},
     "output_type": "execute_result"
    }
   ],
   "source": [
    "df.shape"
   ]
  },
  {
   "cell_type": "code",
   "execution_count": 10,
   "metadata": {},
   "outputs": [
    {
     "data": {
      "text/html": [
       "<div>\n",
       "<style scoped>\n",
       "    .dataframe tbody tr th:only-of-type {\n",
       "        vertical-align: middle;\n",
       "    }\n",
       "\n",
       "    .dataframe tbody tr th {\n",
       "        vertical-align: top;\n",
       "    }\n",
       "\n",
       "    .dataframe thead th {\n",
       "        text-align: right;\n",
       "    }\n",
       "</style>\n",
       "<table border=\"1\" class=\"dataframe\">\n",
       "  <thead>\n",
       "    <tr style=\"text-align: right;\">\n",
       "      <th></th>\n",
       "      <th>Origin</th>\n",
       "      <th>Destination</th>\n",
       "      <th>Throughput</th>\n",
       "      <th>DateTime</th>\n",
       "    </tr>\n",
       "  </thead>\n",
       "  <tbody>\n",
       "    <tr>\n",
       "      <th>0</th>\n",
       "      <td>12TH</td>\n",
       "      <td>12TH</td>\n",
       "      <td>1</td>\n",
       "      <td>2016-01-01 00:00:00</td>\n",
       "    </tr>\n",
       "    <tr>\n",
       "      <th>1</th>\n",
       "      <td>12TH</td>\n",
       "      <td>16TH</td>\n",
       "      <td>1</td>\n",
       "      <td>2016-01-01 00:00:00</td>\n",
       "    </tr>\n",
       "    <tr>\n",
       "      <th>2</th>\n",
       "      <td>12TH</td>\n",
       "      <td>24TH</td>\n",
       "      <td>4</td>\n",
       "      <td>2016-01-01 00:00:00</td>\n",
       "    </tr>\n",
       "    <tr>\n",
       "      <th>3</th>\n",
       "      <td>12TH</td>\n",
       "      <td>ASHB</td>\n",
       "      <td>4</td>\n",
       "      <td>2016-01-01 00:00:00</td>\n",
       "    </tr>\n",
       "    <tr>\n",
       "      <th>4</th>\n",
       "      <td>12TH</td>\n",
       "      <td>BALB</td>\n",
       "      <td>2</td>\n",
       "      <td>2016-01-01 00:00:00</td>\n",
       "    </tr>\n",
       "  </tbody>\n",
       "</table>\n",
       "</div>"
      ],
      "text/plain": [
       "  Origin Destination  Throughput             DateTime\n",
       "0   12TH        12TH           1  2016-01-01 00:00:00\n",
       "1   12TH        16TH           1  2016-01-01 00:00:00\n",
       "2   12TH        24TH           4  2016-01-01 00:00:00\n",
       "3   12TH        ASHB           4  2016-01-01 00:00:00\n",
       "4   12TH        BALB           2  2016-01-01 00:00:00"
      ]
     },
     "execution_count": 10,
     "metadata": {},
     "output_type": "execute_result"
    }
   ],
   "source": [
    "df.head()"
   ]
  },
  {
   "cell_type": "code",
   "execution_count": 11,
   "metadata": {},
   "outputs": [
    {
     "name": "stdout",
     "output_type": "stream",
     "text": [
      "<class 'pandas.core.frame.DataFrame'>\n",
      "Int64Index: 13285207 entries, 0 to 3313624\n",
      "Data columns (total 4 columns):\n",
      "Origin         object\n",
      "Destination    object\n",
      "Throughput     int64\n",
      "DateTime       object\n",
      "dtypes: int64(1), object(3)\n",
      "memory usage: 506.8+ MB\n"
     ]
    }
   ],
   "source": [
    "df.info()"
   ]
  },
  {
   "cell_type": "markdown",
   "metadata": {},
   "source": [
    "#### df_station cleanup"
   ]
  },
  {
   "cell_type": "code",
   "execution_count": 12,
   "metadata": {},
   "outputs": [
    {
     "data": {
      "text/html": [
       "<div>\n",
       "<style scoped>\n",
       "    .dataframe tbody tr th:only-of-type {\n",
       "        vertical-align: middle;\n",
       "    }\n",
       "\n",
       "    .dataframe tbody tr th {\n",
       "        vertical-align: top;\n",
       "    }\n",
       "\n",
       "    .dataframe thead th {\n",
       "        text-align: right;\n",
       "    }\n",
       "</style>\n",
       "<table border=\"1\" class=\"dataframe\">\n",
       "  <thead>\n",
       "    <tr style=\"text-align: right;\">\n",
       "      <th></th>\n",
       "      <th>Abbreviation</th>\n",
       "      <th>Description</th>\n",
       "      <th>Location</th>\n",
       "      <th>Name</th>\n",
       "    </tr>\n",
       "  </thead>\n",
       "  <tbody>\n",
       "    <tr>\n",
       "      <th>0</th>\n",
       "      <td>12TH</td>\n",
       "      <td>1245 Broadway, Oakland CA 94612&lt;br /&gt;12th St. ...</td>\n",
       "      <td>-122.271450,37.803768,0</td>\n",
       "      <td>12th St. Oakland City Center (12TH)</td>\n",
       "    </tr>\n",
       "    <tr>\n",
       "      <th>1</th>\n",
       "      <td>16TH</td>\n",
       "      <td>2000 Mission Street, San Francisco CA 94110&lt;br...</td>\n",
       "      <td>-122.419694,37.765062,0</td>\n",
       "      <td>16th St. Mission (16TH)</td>\n",
       "    </tr>\n",
       "    <tr>\n",
       "      <th>2</th>\n",
       "      <td>19TH</td>\n",
       "      <td>1900 Broadway, Oakland CA 94612&lt;br /&gt;19th Stre...</td>\n",
       "      <td>-122.268602,37.808350,0</td>\n",
       "      <td>19th St. Oakland (19TH)</td>\n",
       "    </tr>\n",
       "    <tr>\n",
       "      <th>3</th>\n",
       "      <td>24TH</td>\n",
       "      <td>2800 Mission Street, San Francisco CA 94110&lt;br...</td>\n",
       "      <td>-122.418143,37.752470,0</td>\n",
       "      <td>24th St. Mission (24TH)</td>\n",
       "    </tr>\n",
       "    <tr>\n",
       "      <th>4</th>\n",
       "      <td>ASHB</td>\n",
       "      <td>3100 Adeline Street, Berkeley CA 94703&lt;br /&gt;As...</td>\n",
       "      <td>-122.270062,37.852803,0</td>\n",
       "      <td>Ashby (ASHB)</td>\n",
       "    </tr>\n",
       "  </tbody>\n",
       "</table>\n",
       "</div>"
      ],
      "text/plain": [
       "  Abbreviation                                        Description  \\\n",
       "0         12TH  1245 Broadway, Oakland CA 94612<br />12th St. ...   \n",
       "1         16TH  2000 Mission Street, San Francisco CA 94110<br...   \n",
       "2         19TH  1900 Broadway, Oakland CA 94612<br />19th Stre...   \n",
       "3         24TH  2800 Mission Street, San Francisco CA 94110<br...   \n",
       "4         ASHB  3100 Adeline Street, Berkeley CA 94703<br />As...   \n",
       "\n",
       "                  Location                                 Name  \n",
       "0  -122.271450,37.803768,0  12th St. Oakland City Center (12TH)  \n",
       "1  -122.419694,37.765062,0              16th St. Mission (16TH)  \n",
       "2  -122.268602,37.808350,0              19th St. Oakland (19TH)  \n",
       "3  -122.418143,37.752470,0              24th St. Mission (24TH)  \n",
       "4  -122.270062,37.852803,0                         Ashby (ASHB)  "
      ]
     },
     "execution_count": 12,
     "metadata": {},
     "output_type": "execute_result"
    }
   ],
   "source": [
    "df_station_info.head()"
   ]
  },
  {
   "cell_type": "code",
   "execution_count": 13,
   "metadata": {},
   "outputs": [
    {
     "data": {
      "text/plain": [
       "(46, 4)"
      ]
     },
     "execution_count": 13,
     "metadata": {},
     "output_type": "execute_result"
    }
   ],
   "source": [
    "df_station_info.shape"
   ]
  },
  {
   "cell_type": "code",
   "execution_count": 14,
   "metadata": {},
   "outputs": [
    {
     "data": {
      "text/plain": [
       "\"1245 Broadway, Oakland CA 94612.  12th St. Oakland City Center Station is in the heart of Downtown Oakland, near historic Old Oakland and Oakland's Chinatown.\""
      ]
     },
     "execution_count": 14,
     "metadata": {},
     "output_type": "execute_result"
    }
   ],
   "source": [
    "df_station_info['Description'] = df_station_info['Description'].str.replace('<br />','.  ')\n",
    "df_station_info['Description'].iloc[0]"
   ]
  },
  {
   "cell_type": "markdown",
   "metadata": {},
   "source": [
    "#### Parse Logitude and Latitude from 'Location'"
   ]
  },
  {
   "cell_type": "code",
   "execution_count": 15,
   "metadata": {},
   "outputs": [],
   "source": [
    "longitude = []\n",
    "latitude = []\n",
    "\n",
    "for i in range(len(df_station_info['Location'].str.split(','))):\n",
    "    longitude.append(df_station_info['Location'].str.split(',')[i][0])\n",
    "    latitude.append(df_station_info['Location'].str.split(',')[i][1])"
   ]
  },
  {
   "cell_type": "code",
   "execution_count": 16,
   "metadata": {},
   "outputs": [],
   "source": [
    "df_station_info['Longitude'] = pd.Series(longitude)\n",
    "df_station_info['Latitude'] = pd.Series(latitude)\n",
    "df_station_info.drop('Location', axis =1, inplace = True)"
   ]
  },
  {
   "cell_type": "code",
   "execution_count": 17,
   "metadata": {},
   "outputs": [
    {
     "data": {
      "text/html": [
       "<div>\n",
       "<style scoped>\n",
       "    .dataframe tbody tr th:only-of-type {\n",
       "        vertical-align: middle;\n",
       "    }\n",
       "\n",
       "    .dataframe tbody tr th {\n",
       "        vertical-align: top;\n",
       "    }\n",
       "\n",
       "    .dataframe thead th {\n",
       "        text-align: right;\n",
       "    }\n",
       "</style>\n",
       "<table border=\"1\" class=\"dataframe\">\n",
       "  <thead>\n",
       "    <tr style=\"text-align: right;\">\n",
       "      <th></th>\n",
       "      <th>Abbreviation</th>\n",
       "      <th>Description</th>\n",
       "      <th>Name</th>\n",
       "      <th>Longitude</th>\n",
       "      <th>Latitude</th>\n",
       "    </tr>\n",
       "  </thead>\n",
       "  <tbody>\n",
       "    <tr>\n",
       "      <th>0</th>\n",
       "      <td>12TH</td>\n",
       "      <td>1245 Broadway, Oakland CA 94612.  12th St. Oak...</td>\n",
       "      <td>12th St. Oakland City Center (12TH)</td>\n",
       "      <td>-122.271450</td>\n",
       "      <td>37.803768</td>\n",
       "    </tr>\n",
       "    <tr>\n",
       "      <th>1</th>\n",
       "      <td>16TH</td>\n",
       "      <td>2000 Mission Street, San Francisco CA 94110.  ...</td>\n",
       "      <td>16th St. Mission (16TH)</td>\n",
       "      <td>-122.419694</td>\n",
       "      <td>37.765062</td>\n",
       "    </tr>\n",
       "    <tr>\n",
       "      <th>2</th>\n",
       "      <td>19TH</td>\n",
       "      <td>1900 Broadway, Oakland CA 94612.  19th Street ...</td>\n",
       "      <td>19th St. Oakland (19TH)</td>\n",
       "      <td>-122.268602</td>\n",
       "      <td>37.808350</td>\n",
       "    </tr>\n",
       "    <tr>\n",
       "      <th>3</th>\n",
       "      <td>24TH</td>\n",
       "      <td>2800 Mission Street, San Francisco CA 94110.  ...</td>\n",
       "      <td>24th St. Mission (24TH)</td>\n",
       "      <td>-122.418143</td>\n",
       "      <td>37.752470</td>\n",
       "    </tr>\n",
       "    <tr>\n",
       "      <th>4</th>\n",
       "      <td>ASHB</td>\n",
       "      <td>3100 Adeline Street, Berkeley CA 94703.  Ashby...</td>\n",
       "      <td>Ashby (ASHB)</td>\n",
       "      <td>-122.270062</td>\n",
       "      <td>37.852803</td>\n",
       "    </tr>\n",
       "  </tbody>\n",
       "</table>\n",
       "</div>"
      ],
      "text/plain": [
       "  Abbreviation                                        Description  \\\n",
       "0         12TH  1245 Broadway, Oakland CA 94612.  12th St. Oak...   \n",
       "1         16TH  2000 Mission Street, San Francisco CA 94110.  ...   \n",
       "2         19TH  1900 Broadway, Oakland CA 94612.  19th Street ...   \n",
       "3         24TH  2800 Mission Street, San Francisco CA 94110.  ...   \n",
       "4         ASHB  3100 Adeline Street, Berkeley CA 94703.  Ashby...   \n",
       "\n",
       "                                  Name    Longitude   Latitude  \n",
       "0  12th St. Oakland City Center (12TH)  -122.271450  37.803768  \n",
       "1              16th St. Mission (16TH)  -122.419694  37.765062  \n",
       "2              19th St. Oakland (19TH)  -122.268602  37.808350  \n",
       "3              24th St. Mission (24TH)  -122.418143  37.752470  \n",
       "4                         Ashby (ASHB)  -122.270062  37.852803  "
      ]
     },
     "execution_count": 17,
     "metadata": {},
     "output_type": "execute_result"
    }
   ],
   "source": [
    "df_station_info.head()"
   ]
  },
  {
   "cell_type": "code",
   "execution_count": 18,
   "metadata": {},
   "outputs": [],
   "source": [
    "df_location = df_station_info.drop(['Description', 'Name'], axis=1)"
   ]
  },
  {
   "cell_type": "code",
   "execution_count": 19,
   "metadata": {},
   "outputs": [
    {
     "data": {
      "text/html": [
       "<div>\n",
       "<style scoped>\n",
       "    .dataframe tbody tr th:only-of-type {\n",
       "        vertical-align: middle;\n",
       "    }\n",
       "\n",
       "    .dataframe tbody tr th {\n",
       "        vertical-align: top;\n",
       "    }\n",
       "\n",
       "    .dataframe thead th {\n",
       "        text-align: right;\n",
       "    }\n",
       "</style>\n",
       "<table border=\"1\" class=\"dataframe\">\n",
       "  <thead>\n",
       "    <tr style=\"text-align: right;\">\n",
       "      <th></th>\n",
       "      <th>Abbreviation</th>\n",
       "      <th>Longitude</th>\n",
       "      <th>Latitude</th>\n",
       "    </tr>\n",
       "  </thead>\n",
       "  <tbody>\n",
       "    <tr>\n",
       "      <th>0</th>\n",
       "      <td>12TH</td>\n",
       "      <td>-122.271450</td>\n",
       "      <td>37.803768</td>\n",
       "    </tr>\n",
       "    <tr>\n",
       "      <th>1</th>\n",
       "      <td>16TH</td>\n",
       "      <td>-122.419694</td>\n",
       "      <td>37.765062</td>\n",
       "    </tr>\n",
       "    <tr>\n",
       "      <th>2</th>\n",
       "      <td>19TH</td>\n",
       "      <td>-122.268602</td>\n",
       "      <td>37.808350</td>\n",
       "    </tr>\n",
       "    <tr>\n",
       "      <th>3</th>\n",
       "      <td>24TH</td>\n",
       "      <td>-122.418143</td>\n",
       "      <td>37.752470</td>\n",
       "    </tr>\n",
       "    <tr>\n",
       "      <th>4</th>\n",
       "      <td>ASHB</td>\n",
       "      <td>-122.270062</td>\n",
       "      <td>37.852803</td>\n",
       "    </tr>\n",
       "  </tbody>\n",
       "</table>\n",
       "</div>"
      ],
      "text/plain": [
       "  Abbreviation    Longitude   Latitude\n",
       "0         12TH  -122.271450  37.803768\n",
       "1         16TH  -122.419694  37.765062\n",
       "2         19TH  -122.268602  37.808350\n",
       "3         24TH  -122.418143  37.752470\n",
       "4         ASHB  -122.270062  37.852803"
      ]
     },
     "execution_count": 19,
     "metadata": {},
     "output_type": "execute_result"
    }
   ],
   "source": [
    "df_location.head()"
   ]
  },
  {
   "cell_type": "code",
   "execution_count": 20,
   "metadata": {},
   "outputs": [
    {
     "data": {
      "text/plain": [
       "(array(['12TH', '16TH', '19TH', '24TH', 'ASHB', 'BALB', 'BAYF', 'CAST',\n",
       "        'CIVC', 'COLS', 'COLM', 'CONC', 'DALY', 'DBRK', 'DELN', 'DUBL',\n",
       "        'EMBR', 'FRMT', 'FTVL', 'GLEN', 'HAYW', 'LAFY', 'LAKE', 'MCAR',\n",
       "        'MLBR', 'MONT', 'NBRK', 'NCON', 'OAKL', 'ORIN', 'PHIL', 'PITT',\n",
       "        'PLZA', 'POWL', 'RICH', 'ROCK', 'SANL', 'SBRN', 'SFIA', 'SHAY',\n",
       "        'SSAN', 'UCTY', 'WARM', 'WCRK', 'WDUB', 'WOAK'], dtype=object),\n",
       " array(['12TH', '16TH', '19TH', '24TH', 'ASHB', 'BALB', 'BAYF', 'CAST',\n",
       "        'CIVC', 'COLM', 'COLS', 'CONC', 'DALY', 'DBRK', 'DELN', 'DUBL',\n",
       "        'EMBR', 'FRMT', 'FTVL', 'GLEN', 'HAYW', 'LAFY', 'LAKE', 'MCAR',\n",
       "        'MLBR', 'MONT', 'NBRK', 'NCON', 'OAKL', 'ORIN', 'PHIL', 'PITT',\n",
       "        'PLZA', 'POWL', 'RICH', 'ROCK', 'SANL', 'SBRN', 'SFIA', 'SHAY',\n",
       "        'SSAN', 'UCTY', 'WCRK', 'WDUB', 'WOAK', 'WSPR'], dtype=object))"
      ]
     },
     "execution_count": 20,
     "metadata": {},
     "output_type": "execute_result"
    }
   ],
   "source": [
    "df_location['Abbreviation'].unique(), df['Origin'].unique()"
   ]
  },
  {
   "cell_type": "code",
   "execution_count": 21,
   "metadata": {},
   "outputs": [],
   "source": [
    "df['Origin'].replace('WSPR', 'WARM', inplace=True)\n",
    "df['Destination'].replace('WSPR', 'WARM', inplace=True)"
   ]
  },
  {
   "cell_type": "code",
   "execution_count": 22,
   "metadata": {},
   "outputs": [],
   "source": [
    "Longitude = df_location.drop('Latitude', axis=1).set_index('Abbreviation').T.to_dict('list')\n",
    "Latitude = df_location.drop('Longitude', axis=1).set_index('Abbreviation').T.to_dict('list')"
   ]
  },
  {
   "cell_type": "code",
   "execution_count": 23,
   "metadata": {},
   "outputs": [],
   "source": [
    "df['Longitude_Origin']= df['Origin'].apply(lambda x: Longitude[x][0])\n",
    "df['Latitude_Origin']= df['Origin'].apply(lambda x: Latitude[x][0])"
   ]
  },
  {
   "cell_type": "code",
   "execution_count": 24,
   "metadata": {},
   "outputs": [],
   "source": [
    "df['Longitude_Dest']= df['Destination'].apply(lambda x: Longitude[x][0])\n",
    "df['Latitude_Dest']= df['Destination'].apply(lambda x: Latitude[x][0])"
   ]
  },
  {
   "cell_type": "code",
   "execution_count": 25,
   "metadata": {},
   "outputs": [
    {
     "data": {
      "text/plain": [
       "0"
      ]
     },
     "execution_count": 25,
     "metadata": {},
     "output_type": "execute_result"
    }
   ],
   "source": [
    "df.duplicated().sum()"
   ]
  },
  {
   "cell_type": "code",
   "execution_count": 26,
   "metadata": {},
   "outputs": [
    {
     "data": {
      "text/html": [
       "<div>\n",
       "<style scoped>\n",
       "    .dataframe tbody tr th:only-of-type {\n",
       "        vertical-align: middle;\n",
       "    }\n",
       "\n",
       "    .dataframe tbody tr th {\n",
       "        vertical-align: top;\n",
       "    }\n",
       "\n",
       "    .dataframe thead th {\n",
       "        text-align: right;\n",
       "    }\n",
       "</style>\n",
       "<table border=\"1\" class=\"dataframe\">\n",
       "  <thead>\n",
       "    <tr style=\"text-align: right;\">\n",
       "      <th></th>\n",
       "      <th>Origin</th>\n",
       "      <th>Destination</th>\n",
       "      <th>Throughput</th>\n",
       "      <th>DateTime</th>\n",
       "      <th>Longitude_Origin</th>\n",
       "      <th>Latitude_Origin</th>\n",
       "      <th>Longitude_Dest</th>\n",
       "      <th>Latitude_Dest</th>\n",
       "    </tr>\n",
       "  </thead>\n",
       "  <tbody>\n",
       "    <tr>\n",
       "      <th>0</th>\n",
       "      <td>12TH</td>\n",
       "      <td>12TH</td>\n",
       "      <td>1</td>\n",
       "      <td>2016-01-01 00:00:00</td>\n",
       "      <td>-122.271450</td>\n",
       "      <td>37.803768</td>\n",
       "      <td>-122.271450</td>\n",
       "      <td>37.803768</td>\n",
       "    </tr>\n",
       "    <tr>\n",
       "      <th>1</th>\n",
       "      <td>12TH</td>\n",
       "      <td>16TH</td>\n",
       "      <td>1</td>\n",
       "      <td>2016-01-01 00:00:00</td>\n",
       "      <td>-122.271450</td>\n",
       "      <td>37.803768</td>\n",
       "      <td>-122.419694</td>\n",
       "      <td>37.765062</td>\n",
       "    </tr>\n",
       "    <tr>\n",
       "      <th>2</th>\n",
       "      <td>12TH</td>\n",
       "      <td>24TH</td>\n",
       "      <td>4</td>\n",
       "      <td>2016-01-01 00:00:00</td>\n",
       "      <td>-122.271450</td>\n",
       "      <td>37.803768</td>\n",
       "      <td>-122.418143</td>\n",
       "      <td>37.752470</td>\n",
       "    </tr>\n",
       "    <tr>\n",
       "      <th>3</th>\n",
       "      <td>12TH</td>\n",
       "      <td>ASHB</td>\n",
       "      <td>4</td>\n",
       "      <td>2016-01-01 00:00:00</td>\n",
       "      <td>-122.271450</td>\n",
       "      <td>37.803768</td>\n",
       "      <td>-122.270062</td>\n",
       "      <td>37.852803</td>\n",
       "    </tr>\n",
       "    <tr>\n",
       "      <th>4</th>\n",
       "      <td>12TH</td>\n",
       "      <td>BALB</td>\n",
       "      <td>2</td>\n",
       "      <td>2016-01-01 00:00:00</td>\n",
       "      <td>-122.271450</td>\n",
       "      <td>37.803768</td>\n",
       "      <td>-122.447506</td>\n",
       "      <td>37.721585</td>\n",
       "    </tr>\n",
       "    <tr>\n",
       "      <th>...</th>\n",
       "      <td>...</td>\n",
       "      <td>...</td>\n",
       "      <td>...</td>\n",
       "      <td>...</td>\n",
       "      <td>...</td>\n",
       "      <td>...</td>\n",
       "      <td>...</td>\n",
       "      <td>...</td>\n",
       "    </tr>\n",
       "    <tr>\n",
       "      <th>95</th>\n",
       "      <td>19TH</td>\n",
       "      <td>RICH</td>\n",
       "      <td>1</td>\n",
       "      <td>2016-01-01 00:00:00</td>\n",
       "      <td>-122.268602</td>\n",
       "      <td>37.808350</td>\n",
       "      <td>-122.353099</td>\n",
       "      <td>37.936853</td>\n",
       "    </tr>\n",
       "    <tr>\n",
       "      <th>96</th>\n",
       "      <td>19TH</td>\n",
       "      <td>ROCK</td>\n",
       "      <td>4</td>\n",
       "      <td>2016-01-01 00:00:00</td>\n",
       "      <td>-122.268602</td>\n",
       "      <td>37.808350</td>\n",
       "      <td>-122.251371</td>\n",
       "      <td>37.844702</td>\n",
       "    </tr>\n",
       "    <tr>\n",
       "      <th>97</th>\n",
       "      <td>19TH</td>\n",
       "      <td>SANL</td>\n",
       "      <td>9</td>\n",
       "      <td>2016-01-01 00:00:00</td>\n",
       "      <td>-122.268602</td>\n",
       "      <td>37.808350</td>\n",
       "      <td>-122.160844</td>\n",
       "      <td>37.721947</td>\n",
       "    </tr>\n",
       "    <tr>\n",
       "      <th>98</th>\n",
       "      <td>19TH</td>\n",
       "      <td>SBRN</td>\n",
       "      <td>2</td>\n",
       "      <td>2016-01-01 00:00:00</td>\n",
       "      <td>-122.268602</td>\n",
       "      <td>37.808350</td>\n",
       "      <td>-122.416287</td>\n",
       "      <td>37.637761</td>\n",
       "    </tr>\n",
       "    <tr>\n",
       "      <th>99</th>\n",
       "      <td>19TH</td>\n",
       "      <td>UCTY</td>\n",
       "      <td>3</td>\n",
       "      <td>2016-01-01 00:00:00</td>\n",
       "      <td>-122.268602</td>\n",
       "      <td>37.808350</td>\n",
       "      <td>-122.017388</td>\n",
       "      <td>37.590630</td>\n",
       "    </tr>\n",
       "  </tbody>\n",
       "</table>\n",
       "<p>100 rows × 8 columns</p>\n",
       "</div>"
      ],
      "text/plain": [
       "   Origin Destination  Throughput             DateTime Longitude_Origin  \\\n",
       "0    12TH        12TH           1  2016-01-01 00:00:00      -122.271450   \n",
       "1    12TH        16TH           1  2016-01-01 00:00:00      -122.271450   \n",
       "2    12TH        24TH           4  2016-01-01 00:00:00      -122.271450   \n",
       "3    12TH        ASHB           4  2016-01-01 00:00:00      -122.271450   \n",
       "4    12TH        BALB           2  2016-01-01 00:00:00      -122.271450   \n",
       "..    ...         ...         ...                  ...              ...   \n",
       "95   19TH        RICH           1  2016-01-01 00:00:00      -122.268602   \n",
       "96   19TH        ROCK           4  2016-01-01 00:00:00      -122.268602   \n",
       "97   19TH        SANL           9  2016-01-01 00:00:00      -122.268602   \n",
       "98   19TH        SBRN           2  2016-01-01 00:00:00      -122.268602   \n",
       "99   19TH        UCTY           3  2016-01-01 00:00:00      -122.268602   \n",
       "\n",
       "   Latitude_Origin Longitude_Dest Latitude_Dest  \n",
       "0        37.803768    -122.271450     37.803768  \n",
       "1        37.803768    -122.419694     37.765062  \n",
       "2        37.803768    -122.418143     37.752470  \n",
       "3        37.803768    -122.270062     37.852803  \n",
       "4        37.803768    -122.447506     37.721585  \n",
       "..             ...            ...           ...  \n",
       "95       37.808350    -122.353099     37.936853  \n",
       "96       37.808350    -122.251371     37.844702  \n",
       "97       37.808350    -122.160844     37.721947  \n",
       "98       37.808350    -122.416287     37.637761  \n",
       "99       37.808350    -122.017388     37.590630  \n",
       "\n",
       "[100 rows x 8 columns]"
      ]
     },
     "execution_count": 26,
     "metadata": {},
     "output_type": "execute_result"
    }
   ],
   "source": [
    "df.head(100)"
   ]
  },
  {
   "cell_type": "code",
   "execution_count": 27,
   "metadata": {},
   "outputs": [
    {
     "data": {
      "text/html": [
       "<div>\n",
       "<style scoped>\n",
       "    .dataframe tbody tr th:only-of-type {\n",
       "        vertical-align: middle;\n",
       "    }\n",
       "\n",
       "    .dataframe tbody tr th {\n",
       "        vertical-align: top;\n",
       "    }\n",
       "\n",
       "    .dataframe thead th {\n",
       "        text-align: right;\n",
       "    }\n",
       "</style>\n",
       "<table border=\"1\" class=\"dataframe\">\n",
       "  <thead>\n",
       "    <tr style=\"text-align: right;\">\n",
       "      <th></th>\n",
       "      <th>Origin</th>\n",
       "      <th>Destination</th>\n",
       "      <th>Throughput</th>\n",
       "    </tr>\n",
       "  </thead>\n",
       "  <tbody>\n",
       "    <tr>\n",
       "      <th>0</th>\n",
       "      <td>12TH</td>\n",
       "      <td>12TH</td>\n",
       "      <td>1</td>\n",
       "    </tr>\n",
       "    <tr>\n",
       "      <th>1</th>\n",
       "      <td>12TH</td>\n",
       "      <td>16TH</td>\n",
       "      <td>1</td>\n",
       "    </tr>\n",
       "    <tr>\n",
       "      <th>2</th>\n",
       "      <td>12TH</td>\n",
       "      <td>24TH</td>\n",
       "      <td>4</td>\n",
       "    </tr>\n",
       "    <tr>\n",
       "      <th>3</th>\n",
       "      <td>12TH</td>\n",
       "      <td>ASHB</td>\n",
       "      <td>4</td>\n",
       "    </tr>\n",
       "    <tr>\n",
       "      <th>4</th>\n",
       "      <td>12TH</td>\n",
       "      <td>BALB</td>\n",
       "      <td>2</td>\n",
       "    </tr>\n",
       "    <tr>\n",
       "      <th>5</th>\n",
       "      <td>12TH</td>\n",
       "      <td>BAYF</td>\n",
       "      <td>2</td>\n",
       "    </tr>\n",
       "    <tr>\n",
       "      <th>6</th>\n",
       "      <td>12TH</td>\n",
       "      <td>CIVC</td>\n",
       "      <td>7</td>\n",
       "    </tr>\n",
       "    <tr>\n",
       "      <th>7</th>\n",
       "      <td>12TH</td>\n",
       "      <td>CONC</td>\n",
       "      <td>2</td>\n",
       "    </tr>\n",
       "    <tr>\n",
       "      <th>8</th>\n",
       "      <td>12TH</td>\n",
       "      <td>DBRK</td>\n",
       "      <td>6</td>\n",
       "    </tr>\n",
       "    <tr>\n",
       "      <th>9</th>\n",
       "      <td>12TH</td>\n",
       "      <td>DELN</td>\n",
       "      <td>2</td>\n",
       "    </tr>\n",
       "    <tr>\n",
       "      <th>10</th>\n",
       "      <td>12TH</td>\n",
       "      <td>DUBL</td>\n",
       "      <td>1</td>\n",
       "    </tr>\n",
       "    <tr>\n",
       "      <th>11</th>\n",
       "      <td>12TH</td>\n",
       "      <td>EMBR</td>\n",
       "      <td>2</td>\n",
       "    </tr>\n",
       "    <tr>\n",
       "      <th>12</th>\n",
       "      <td>12TH</td>\n",
       "      <td>FTVL</td>\n",
       "      <td>1</td>\n",
       "    </tr>\n",
       "    <tr>\n",
       "      <th>13</th>\n",
       "      <td>12TH</td>\n",
       "      <td>LAFY</td>\n",
       "      <td>4</td>\n",
       "    </tr>\n",
       "    <tr>\n",
       "      <th>14</th>\n",
       "      <td>12TH</td>\n",
       "      <td>LAKE</td>\n",
       "      <td>2</td>\n",
       "    </tr>\n",
       "    <tr>\n",
       "      <th>15</th>\n",
       "      <td>12TH</td>\n",
       "      <td>MCAR</td>\n",
       "      <td>13</td>\n",
       "    </tr>\n",
       "    <tr>\n",
       "      <th>16</th>\n",
       "      <td>12TH</td>\n",
       "      <td>MONT</td>\n",
       "      <td>23</td>\n",
       "    </tr>\n",
       "    <tr>\n",
       "      <th>17</th>\n",
       "      <td>12TH</td>\n",
       "      <td>NBRK</td>\n",
       "      <td>5</td>\n",
       "    </tr>\n",
       "    <tr>\n",
       "      <th>18</th>\n",
       "      <td>12TH</td>\n",
       "      <td>ORIN</td>\n",
       "      <td>3</td>\n",
       "    </tr>\n",
       "    <tr>\n",
       "      <th>19</th>\n",
       "      <td>12TH</td>\n",
       "      <td>PHIL</td>\n",
       "      <td>3</td>\n",
       "    </tr>\n",
       "    <tr>\n",
       "      <th>20</th>\n",
       "      <td>12TH</td>\n",
       "      <td>PITT</td>\n",
       "      <td>2</td>\n",
       "    </tr>\n",
       "    <tr>\n",
       "      <th>21</th>\n",
       "      <td>12TH</td>\n",
       "      <td>PLZA</td>\n",
       "      <td>3</td>\n",
       "    </tr>\n",
       "    <tr>\n",
       "      <th>22</th>\n",
       "      <td>12TH</td>\n",
       "      <td>POWL</td>\n",
       "      <td>7</td>\n",
       "    </tr>\n",
       "    <tr>\n",
       "      <th>23</th>\n",
       "      <td>12TH</td>\n",
       "      <td>ROCK</td>\n",
       "      <td>2</td>\n",
       "    </tr>\n",
       "    <tr>\n",
       "      <th>24</th>\n",
       "      <td>12TH</td>\n",
       "      <td>SANL</td>\n",
       "      <td>3</td>\n",
       "    </tr>\n",
       "    <tr>\n",
       "      <th>25</th>\n",
       "      <td>12TH</td>\n",
       "      <td>SBRN</td>\n",
       "      <td>2</td>\n",
       "    </tr>\n",
       "    <tr>\n",
       "      <th>26</th>\n",
       "      <td>12TH</td>\n",
       "      <td>SHAY</td>\n",
       "      <td>5</td>\n",
       "    </tr>\n",
       "    <tr>\n",
       "      <th>27</th>\n",
       "      <td>12TH</td>\n",
       "      <td>WCRK</td>\n",
       "      <td>2</td>\n",
       "    </tr>\n",
       "    <tr>\n",
       "      <th>28</th>\n",
       "      <td>12TH</td>\n",
       "      <td>WOAK</td>\n",
       "      <td>4</td>\n",
       "    </tr>\n",
       "    <tr>\n",
       "      <th>29</th>\n",
       "      <td>16TH</td>\n",
       "      <td>12TH</td>\n",
       "      <td>9</td>\n",
       "    </tr>\n",
       "  </tbody>\n",
       "</table>\n",
       "</div>"
      ],
      "text/plain": [
       "   Origin Destination  Throughput\n",
       "0    12TH        12TH           1\n",
       "1    12TH        16TH           1\n",
       "2    12TH        24TH           4\n",
       "3    12TH        ASHB           4\n",
       "4    12TH        BALB           2\n",
       "5    12TH        BAYF           2\n",
       "6    12TH        CIVC           7\n",
       "7    12TH        CONC           2\n",
       "8    12TH        DBRK           6\n",
       "9    12TH        DELN           2\n",
       "10   12TH        DUBL           1\n",
       "11   12TH        EMBR           2\n",
       "12   12TH        FTVL           1\n",
       "13   12TH        LAFY           4\n",
       "14   12TH        LAKE           2\n",
       "15   12TH        MCAR          13\n",
       "16   12TH        MONT          23\n",
       "17   12TH        NBRK           5\n",
       "18   12TH        ORIN           3\n",
       "19   12TH        PHIL           3\n",
       "20   12TH        PITT           2\n",
       "21   12TH        PLZA           3\n",
       "22   12TH        POWL           7\n",
       "23   12TH        ROCK           2\n",
       "24   12TH        SANL           3\n",
       "25   12TH        SBRN           2\n",
       "26   12TH        SHAY           5\n",
       "27   12TH        WCRK           2\n",
       "28   12TH        WOAK           4\n",
       "29   16TH        12TH           9"
      ]
     },
     "execution_count": 27,
     "metadata": {},
     "output_type": "execute_result"
    }
   ],
   "source": [
    "df_through = df[df.columns[0:3]]\n",
    "df_through.head(30)"
   ]
  },
  {
   "cell_type": "code",
   "execution_count": 28,
   "metadata": {},
   "outputs": [],
   "source": [
    "df_though_sums_origin = pd.DataFrame(df_through.drop('Destination', axis=1).groupby('Origin', as_index=False)['Throughput'].sum())\n",
    "df_though_sums_dest = pd.DataFrame(df_through.drop('Origin', axis=1).groupby('Destination', as_index=False)['Throughput'].sum())"
   ]
  },
  {
   "cell_type": "code",
   "execution_count": 29,
   "metadata": {},
   "outputs": [],
   "source": [
    "df_though_sums_origin.rename(columns={'Origin': 'Station','Throughput': 'Origin_Through'}, inplace=True)"
   ]
  },
  {
   "cell_type": "code",
   "execution_count": 30,
   "metadata": {},
   "outputs": [],
   "source": [
    "df_though_sums_dest.rename(columns={'Destination': 'Station','Throughput': 'Dest_Through'}, inplace=True)"
   ]
  },
  {
   "cell_type": "code",
   "execution_count": 31,
   "metadata": {},
   "outputs": [
    {
     "data": {
      "text/html": [
       "<div>\n",
       "<style scoped>\n",
       "    .dataframe tbody tr th:only-of-type {\n",
       "        vertical-align: middle;\n",
       "    }\n",
       "\n",
       "    .dataframe tbody tr th {\n",
       "        vertical-align: top;\n",
       "    }\n",
       "\n",
       "    .dataframe thead th {\n",
       "        text-align: right;\n",
       "    }\n",
       "</style>\n",
       "<table border=\"1\" class=\"dataframe\">\n",
       "  <thead>\n",
       "    <tr style=\"text-align: right;\">\n",
       "      <th></th>\n",
       "      <th>Station</th>\n",
       "      <th>Origin_Through</th>\n",
       "      <th>Dest_Through</th>\n",
       "    </tr>\n",
       "  </thead>\n",
       "  <tbody>\n",
       "    <tr>\n",
       "      <th>0</th>\n",
       "      <td>12TH</td>\n",
       "      <td>5322811</td>\n",
       "      <td>5391954</td>\n",
       "    </tr>\n",
       "    <tr>\n",
       "      <th>1</th>\n",
       "      <td>16TH</td>\n",
       "      <td>5365000</td>\n",
       "      <td>5384505</td>\n",
       "    </tr>\n",
       "    <tr>\n",
       "      <th>2</th>\n",
       "      <td>19TH</td>\n",
       "      <td>5213690</td>\n",
       "      <td>5179220</td>\n",
       "    </tr>\n",
       "    <tr>\n",
       "      <th>3</th>\n",
       "      <td>24TH</td>\n",
       "      <td>5459492</td>\n",
       "      <td>5303096</td>\n",
       "    </tr>\n",
       "    <tr>\n",
       "      <th>4</th>\n",
       "      <td>ASHB</td>\n",
       "      <td>2297869</td>\n",
       "      <td>2219566</td>\n",
       "    </tr>\n",
       "  </tbody>\n",
       "</table>\n",
       "</div>"
      ],
      "text/plain": [
       "  Station  Origin_Through  Dest_Through\n",
       "0    12TH         5322811       5391954\n",
       "1    16TH         5365000       5384505\n",
       "2    19TH         5213690       5179220\n",
       "3    24TH         5459492       5303096\n",
       "4    ASHB         2297869       2219566"
      ]
     },
     "execution_count": 31,
     "metadata": {},
     "output_type": "execute_result"
    }
   ],
   "source": [
    "df_though_sums = pd.merge(df_though_sums_origin, df_though_sums_dest, on='Station')\n",
    "df_though_sums.head()"
   ]
  },
  {
   "cell_type": "code",
   "execution_count": 32,
   "metadata": {},
   "outputs": [],
   "source": [
    "df_though_sums['Total_Through'] = df_though_sums['Origin_Through'] + df_though_sums['Dest_Through']"
   ]
  },
  {
   "cell_type": "code",
   "execution_count": 33,
   "metadata": {},
   "outputs": [
    {
     "data": {
      "text/html": [
       "<div>\n",
       "<style scoped>\n",
       "    .dataframe tbody tr th:only-of-type {\n",
       "        vertical-align: middle;\n",
       "    }\n",
       "\n",
       "    .dataframe tbody tr th {\n",
       "        vertical-align: top;\n",
       "    }\n",
       "\n",
       "    .dataframe thead th {\n",
       "        text-align: right;\n",
       "    }\n",
       "</style>\n",
       "<table border=\"1\" class=\"dataframe\">\n",
       "  <thead>\n",
       "    <tr style=\"text-align: right;\">\n",
       "      <th></th>\n",
       "      <th>Station</th>\n",
       "      <th>Origin_Through</th>\n",
       "      <th>Dest_Through</th>\n",
       "      <th>Total_Through</th>\n",
       "    </tr>\n",
       "  </thead>\n",
       "  <tbody>\n",
       "    <tr>\n",
       "      <th>0</th>\n",
       "      <td>12TH</td>\n",
       "      <td>5322811</td>\n",
       "      <td>5391954</td>\n",
       "      <td>10714765</td>\n",
       "    </tr>\n",
       "    <tr>\n",
       "      <th>1</th>\n",
       "      <td>16TH</td>\n",
       "      <td>5365000</td>\n",
       "      <td>5384505</td>\n",
       "      <td>10749505</td>\n",
       "    </tr>\n",
       "    <tr>\n",
       "      <th>2</th>\n",
       "      <td>19TH</td>\n",
       "      <td>5213690</td>\n",
       "      <td>5179220</td>\n",
       "      <td>10392910</td>\n",
       "    </tr>\n",
       "    <tr>\n",
       "      <th>3</th>\n",
       "      <td>24TH</td>\n",
       "      <td>5459492</td>\n",
       "      <td>5303096</td>\n",
       "      <td>10762588</td>\n",
       "    </tr>\n",
       "    <tr>\n",
       "      <th>4</th>\n",
       "      <td>ASHB</td>\n",
       "      <td>2297869</td>\n",
       "      <td>2219566</td>\n",
       "      <td>4517435</td>\n",
       "    </tr>\n",
       "  </tbody>\n",
       "</table>\n",
       "</div>"
      ],
      "text/plain": [
       "  Station  Origin_Through  Dest_Through  Total_Through\n",
       "0    12TH         5322811       5391954       10714765\n",
       "1    16TH         5365000       5384505       10749505\n",
       "2    19TH         5213690       5179220       10392910\n",
       "3    24TH         5459492       5303096       10762588\n",
       "4    ASHB         2297869       2219566        4517435"
      ]
     },
     "execution_count": 33,
     "metadata": {},
     "output_type": "execute_result"
    }
   ],
   "source": [
    "df_though_sums.head()"
   ]
  },
  {
   "cell_type": "code",
   "execution_count": 34,
   "metadata": {},
   "outputs": [],
   "source": [
    "df_though_sums.drop(['Origin_Through', 'Dest_Through'], axis=1, inplace=True)"
   ]
  },
  {
   "cell_type": "markdown",
   "metadata": {},
   "source": [
    "#### So, the Station with the most Throughput is 'EMBR' - Embarcadero"
   ]
  },
  {
   "cell_type": "code",
   "execution_count": 35,
   "metadata": {},
   "outputs": [
    {
     "data": {
      "text/html": [
       "<div>\n",
       "<style scoped>\n",
       "    .dataframe tbody tr th:only-of-type {\n",
       "        vertical-align: middle;\n",
       "    }\n",
       "\n",
       "    .dataframe tbody tr th {\n",
       "        vertical-align: top;\n",
       "    }\n",
       "\n",
       "    .dataframe thead th {\n",
       "        text-align: right;\n",
       "    }\n",
       "</style>\n",
       "<table border=\"1\" class=\"dataframe\">\n",
       "  <thead>\n",
       "    <tr style=\"text-align: right;\">\n",
       "      <th></th>\n",
       "      <th>Station</th>\n",
       "      <th>Total_Through</th>\n",
       "    </tr>\n",
       "  </thead>\n",
       "  <tbody>\n",
       "    <tr>\n",
       "      <th>16</th>\n",
       "      <td>EMBR</td>\n",
       "      <td>34076644</td>\n",
       "    </tr>\n",
       "    <tr>\n",
       "      <th>25</th>\n",
       "      <td>MONT</td>\n",
       "      <td>33063895</td>\n",
       "    </tr>\n",
       "    <tr>\n",
       "      <th>33</th>\n",
       "      <td>POWL</td>\n",
       "      <td>26593039</td>\n",
       "    </tr>\n",
       "    <tr>\n",
       "      <th>8</th>\n",
       "      <td>CIVC</td>\n",
       "      <td>19536703</td>\n",
       "    </tr>\n",
       "    <tr>\n",
       "      <th>13</th>\n",
       "      <td>DBRK</td>\n",
       "      <td>10806360</td>\n",
       "    </tr>\n",
       "    <tr>\n",
       "      <th>3</th>\n",
       "      <td>24TH</td>\n",
       "      <td>10762588</td>\n",
       "    </tr>\n",
       "    <tr>\n",
       "      <th>1</th>\n",
       "      <td>16TH</td>\n",
       "      <td>10749505</td>\n",
       "    </tr>\n",
       "    <tr>\n",
       "      <th>0</th>\n",
       "      <td>12TH</td>\n",
       "      <td>10714765</td>\n",
       "    </tr>\n",
       "    <tr>\n",
       "      <th>2</th>\n",
       "      <td>19TH</td>\n",
       "      <td>10392910</td>\n",
       "    </tr>\n",
       "    <tr>\n",
       "      <th>5</th>\n",
       "      <td>BALB</td>\n",
       "      <td>9070671</td>\n",
       "    </tr>\n",
       "  </tbody>\n",
       "</table>\n",
       "</div>"
      ],
      "text/plain": [
       "   Station  Total_Through\n",
       "16    EMBR       34076644\n",
       "25    MONT       33063895\n",
       "33    POWL       26593039\n",
       "8     CIVC       19536703\n",
       "13    DBRK       10806360\n",
       "3     24TH       10762588\n",
       "1     16TH       10749505\n",
       "0     12TH       10714765\n",
       "2     19TH       10392910\n",
       "5     BALB        9070671"
      ]
     },
     "execution_count": 35,
     "metadata": {},
     "output_type": "execute_result"
    }
   ],
   "source": [
    "df_though_sums.sort_values('Total_Through', ascending=False).head(10)"
   ]
  },
  {
   "cell_type": "markdown",
   "metadata": {},
   "source": [
    "#### And the station that is least popular is 'WARM'"
   ]
  },
  {
   "cell_type": "code",
   "execution_count": 36,
   "metadata": {},
   "outputs": [
    {
     "data": {
      "text/html": [
       "<div>\n",
       "<style scoped>\n",
       "    .dataframe tbody tr th:only-of-type {\n",
       "        vertical-align: middle;\n",
       "    }\n",
       "\n",
       "    .dataframe tbody tr th {\n",
       "        vertical-align: top;\n",
       "    }\n",
       "\n",
       "    .dataframe thead th {\n",
       "        text-align: right;\n",
       "    }\n",
       "</style>\n",
       "<table border=\"1\" class=\"dataframe\">\n",
       "  <thead>\n",
       "    <tr style=\"text-align: right;\">\n",
       "      <th></th>\n",
       "      <th>Station</th>\n",
       "      <th>Total_Through</th>\n",
       "    </tr>\n",
       "  </thead>\n",
       "  <tbody>\n",
       "    <tr>\n",
       "      <th>37</th>\n",
       "      <td>SBRN</td>\n",
       "      <td>3081435</td>\n",
       "    </tr>\n",
       "    <tr>\n",
       "      <th>21</th>\n",
       "      <td>LAFY</td>\n",
       "      <td>2909804</td>\n",
       "    </tr>\n",
       "    <tr>\n",
       "      <th>40</th>\n",
       "      <td>SSAN</td>\n",
       "      <td>2870021</td>\n",
       "    </tr>\n",
       "    <tr>\n",
       "      <th>44</th>\n",
       "      <td>WDUB</td>\n",
       "      <td>2866915</td>\n",
       "    </tr>\n",
       "    <tr>\n",
       "      <th>39</th>\n",
       "      <td>SHAY</td>\n",
       "      <td>2427717</td>\n",
       "    </tr>\n",
       "    <tr>\n",
       "      <th>29</th>\n",
       "      <td>ORIN</td>\n",
       "      <td>2394412</td>\n",
       "    </tr>\n",
       "    <tr>\n",
       "      <th>7</th>\n",
       "      <td>CAST</td>\n",
       "      <td>2375800</td>\n",
       "    </tr>\n",
       "    <tr>\n",
       "      <th>27</th>\n",
       "      <td>NCON</td>\n",
       "      <td>2162392</td>\n",
       "    </tr>\n",
       "    <tr>\n",
       "      <th>28</th>\n",
       "      <td>OAKL</td>\n",
       "      <td>1320157</td>\n",
       "    </tr>\n",
       "    <tr>\n",
       "      <th>42</th>\n",
       "      <td>WARM</td>\n",
       "      <td>163509</td>\n",
       "    </tr>\n",
       "  </tbody>\n",
       "</table>\n",
       "</div>"
      ],
      "text/plain": [
       "   Station  Total_Through\n",
       "37    SBRN        3081435\n",
       "21    LAFY        2909804\n",
       "40    SSAN        2870021\n",
       "44    WDUB        2866915\n",
       "39    SHAY        2427717\n",
       "29    ORIN        2394412\n",
       "7     CAST        2375800\n",
       "27    NCON        2162392\n",
       "28    OAKL        1320157\n",
       "42    WARM         163509"
      ]
     },
     "execution_count": 36,
     "metadata": {},
     "output_type": "execute_result"
    }
   ],
   "source": [
    "df_though_sums.sort_values('Total_Through', ascending=False).tail(10)"
   ]
  },
  {
   "cell_type": "markdown",
   "metadata": {},
   "source": [
    "#### Best time to go from SF to Berkeley and get a seat"
   ]
  },
  {
   "cell_type": "code",
   "execution_count": 37,
   "metadata": {},
   "outputs": [
    {
     "data": {
      "text/html": [
       "<div>\n",
       "<style scoped>\n",
       "    .dataframe tbody tr th:only-of-type {\n",
       "        vertical-align: middle;\n",
       "    }\n",
       "\n",
       "    .dataframe tbody tr th {\n",
       "        vertical-align: top;\n",
       "    }\n",
       "\n",
       "    .dataframe thead th {\n",
       "        text-align: right;\n",
       "    }\n",
       "</style>\n",
       "<table border=\"1\" class=\"dataframe\">\n",
       "  <thead>\n",
       "    <tr style=\"text-align: right;\">\n",
       "      <th></th>\n",
       "      <th>Abbreviation</th>\n",
       "      <th>Description</th>\n",
       "    </tr>\n",
       "  </thead>\n",
       "  <tbody>\n",
       "    <tr>\n",
       "      <th>0</th>\n",
       "      <td>12TH</td>\n",
       "      <td>1245 Broadway, Oakland CA 94612.  12th St. Oak...</td>\n",
       "    </tr>\n",
       "    <tr>\n",
       "      <th>1</th>\n",
       "      <td>16TH</td>\n",
       "      <td>2000 Mission Street, San Francisco CA 94110.  ...</td>\n",
       "    </tr>\n",
       "    <tr>\n",
       "      <th>2</th>\n",
       "      <td>19TH</td>\n",
       "      <td>1900 Broadway, Oakland CA 94612.  19th Street ...</td>\n",
       "    </tr>\n",
       "    <tr>\n",
       "      <th>3</th>\n",
       "      <td>24TH</td>\n",
       "      <td>2800 Mission Street, San Francisco CA 94110.  ...</td>\n",
       "    </tr>\n",
       "    <tr>\n",
       "      <th>4</th>\n",
       "      <td>ASHB</td>\n",
       "      <td>3100 Adeline Street, Berkeley CA 94703.  Ashby...</td>\n",
       "    </tr>\n",
       "  </tbody>\n",
       "</table>\n",
       "</div>"
      ],
      "text/plain": [
       "  Abbreviation                                        Description\n",
       "0         12TH  1245 Broadway, Oakland CA 94612.  12th St. Oak...\n",
       "1         16TH  2000 Mission Street, San Francisco CA 94110.  ...\n",
       "2         19TH  1900 Broadway, Oakland CA 94612.  19th Street ...\n",
       "3         24TH  2800 Mission Street, San Francisco CA 94110.  ...\n",
       "4         ASHB  3100 Adeline Street, Berkeley CA 94703.  Ashby..."
      ]
     },
     "execution_count": 37,
     "metadata": {},
     "output_type": "execute_result"
    }
   ],
   "source": [
    "df_station_Descriptions = df_station_info.drop(['Name', 'Longitude', 'Latitude'], axis=1)\n",
    "df_station_Descriptions.head()"
   ]
  },
  {
   "cell_type": "code",
   "execution_count": 38,
   "metadata": {},
   "outputs": [],
   "source": [
    "df_station_in_SF_Berk = pd.DataFrame(df_station_Descriptions['Abbreviation'])\n",
    "df_station_in_SF_Berk.rename(columns={'Abbreviation': 'Station'}, inplace=True)\n",
    "df_station_in_SF_Berk['San_Francisco'] = df_station_Descriptions['Description'].str.contains('Francisco').replace([True, False], [1,0])\n",
    "df_station_in_SF_Berk['Berkeley'] = df_station_Descriptions['Description'].str.contains('Berkeley').replace([True, False], [1,0])\n"
   ]
  },
  {
   "cell_type": "code",
   "execution_count": 39,
   "metadata": {},
   "outputs": [
    {
     "data": {
      "text/html": [
       "<div>\n",
       "<style scoped>\n",
       "    .dataframe tbody tr th:only-of-type {\n",
       "        vertical-align: middle;\n",
       "    }\n",
       "\n",
       "    .dataframe tbody tr th {\n",
       "        vertical-align: top;\n",
       "    }\n",
       "\n",
       "    .dataframe thead th {\n",
       "        text-align: right;\n",
       "    }\n",
       "</style>\n",
       "<table border=\"1\" class=\"dataframe\">\n",
       "  <thead>\n",
       "    <tr style=\"text-align: right;\">\n",
       "      <th></th>\n",
       "      <th>Station</th>\n",
       "      <th>San_Francisco</th>\n",
       "      <th>Berkeley</th>\n",
       "    </tr>\n",
       "  </thead>\n",
       "  <tbody>\n",
       "    <tr>\n",
       "      <th>0</th>\n",
       "      <td>12TH</td>\n",
       "      <td>0</td>\n",
       "      <td>0</td>\n",
       "    </tr>\n",
       "    <tr>\n",
       "      <th>1</th>\n",
       "      <td>16TH</td>\n",
       "      <td>1</td>\n",
       "      <td>0</td>\n",
       "    </tr>\n",
       "    <tr>\n",
       "      <th>2</th>\n",
       "      <td>19TH</td>\n",
       "      <td>0</td>\n",
       "      <td>0</td>\n",
       "    </tr>\n",
       "    <tr>\n",
       "      <th>3</th>\n",
       "      <td>24TH</td>\n",
       "      <td>1</td>\n",
       "      <td>0</td>\n",
       "    </tr>\n",
       "    <tr>\n",
       "      <th>4</th>\n",
       "      <td>ASHB</td>\n",
       "      <td>0</td>\n",
       "      <td>1</td>\n",
       "    </tr>\n",
       "  </tbody>\n",
       "</table>\n",
       "</div>"
      ],
      "text/plain": [
       "  Station  San_Francisco  Berkeley\n",
       "0    12TH              0         0\n",
       "1    16TH              1         0\n",
       "2    19TH              0         0\n",
       "3    24TH              1         0\n",
       "4    ASHB              0         1"
      ]
     },
     "execution_count": 39,
     "metadata": {},
     "output_type": "execute_result"
    }
   ],
   "source": [
    "df_station_in_SF_Berk.head()"
   ]
  },
  {
   "cell_type": "code",
   "execution_count": 40,
   "metadata": {},
   "outputs": [],
   "source": [
    "df_berk = df_station_in_SF_Berk[df_station_in_SF_Berk['Berkeley'] == 1].drop('San_Francisco', axis=1)\n",
    "berkeley_stations = list(df_berk['Station'])"
   ]
  },
  {
   "cell_type": "code",
   "execution_count": 41,
   "metadata": {},
   "outputs": [],
   "source": [
    "df_sanfran = df_station_in_SF_Berk[df_station_in_SF_Berk['San_Francisco'] == 1].drop('Berkeley', axis=1)\n",
    "sanfran_stations = list(df_sanfran['Station'])"
   ]
  },
  {
   "cell_type": "code",
   "execution_count": 42,
   "metadata": {},
   "outputs": [],
   "source": [
    "df_time = df.iloc[:,0:4]"
   ]
  },
  {
   "cell_type": "code",
   "execution_count": 43,
   "metadata": {},
   "outputs": [
    {
     "data": {
      "text/html": [
       "<div>\n",
       "<style scoped>\n",
       "    .dataframe tbody tr th:only-of-type {\n",
       "        vertical-align: middle;\n",
       "    }\n",
       "\n",
       "    .dataframe tbody tr th {\n",
       "        vertical-align: top;\n",
       "    }\n",
       "\n",
       "    .dataframe thead th {\n",
       "        text-align: right;\n",
       "    }\n",
       "</style>\n",
       "<table border=\"1\" class=\"dataframe\">\n",
       "  <thead>\n",
       "    <tr style=\"text-align: right;\">\n",
       "      <th></th>\n",
       "      <th>Origin</th>\n",
       "      <th>Destination</th>\n",
       "      <th>Throughput</th>\n",
       "      <th>DateTime</th>\n",
       "    </tr>\n",
       "  </thead>\n",
       "  <tbody>\n",
       "    <tr>\n",
       "      <th>0</th>\n",
       "      <td>12TH</td>\n",
       "      <td>12TH</td>\n",
       "      <td>1</td>\n",
       "      <td>2016-01-01 00:00:00</td>\n",
       "    </tr>\n",
       "    <tr>\n",
       "      <th>1</th>\n",
       "      <td>12TH</td>\n",
       "      <td>16TH</td>\n",
       "      <td>1</td>\n",
       "      <td>2016-01-01 00:00:00</td>\n",
       "    </tr>\n",
       "    <tr>\n",
       "      <th>2</th>\n",
       "      <td>12TH</td>\n",
       "      <td>24TH</td>\n",
       "      <td>4</td>\n",
       "      <td>2016-01-01 00:00:00</td>\n",
       "    </tr>\n",
       "    <tr>\n",
       "      <th>3</th>\n",
       "      <td>12TH</td>\n",
       "      <td>ASHB</td>\n",
       "      <td>4</td>\n",
       "      <td>2016-01-01 00:00:00</td>\n",
       "    </tr>\n",
       "    <tr>\n",
       "      <th>4</th>\n",
       "      <td>12TH</td>\n",
       "      <td>BALB</td>\n",
       "      <td>2</td>\n",
       "      <td>2016-01-01 00:00:00</td>\n",
       "    </tr>\n",
       "  </tbody>\n",
       "</table>\n",
       "</div>"
      ],
      "text/plain": [
       "  Origin Destination  Throughput             DateTime\n",
       "0   12TH        12TH           1  2016-01-01 00:00:00\n",
       "1   12TH        16TH           1  2016-01-01 00:00:00\n",
       "2   12TH        24TH           4  2016-01-01 00:00:00\n",
       "3   12TH        ASHB           4  2016-01-01 00:00:00\n",
       "4   12TH        BALB           2  2016-01-01 00:00:00"
      ]
     },
     "execution_count": 43,
     "metadata": {},
     "output_type": "execute_result"
    }
   ],
   "source": [
    "df_time.head()"
   ]
  },
  {
   "cell_type": "code",
   "execution_count": 44,
   "metadata": {},
   "outputs": [
    {
     "data": {
      "text/html": [
       "<div>\n",
       "<style scoped>\n",
       "    .dataframe tbody tr th:only-of-type {\n",
       "        vertical-align: middle;\n",
       "    }\n",
       "\n",
       "    .dataframe tbody tr th {\n",
       "        vertical-align: top;\n",
       "    }\n",
       "\n",
       "    .dataframe thead th {\n",
       "        text-align: right;\n",
       "    }\n",
       "</style>\n",
       "<table border=\"1\" class=\"dataframe\">\n",
       "  <thead>\n",
       "    <tr style=\"text-align: right;\">\n",
       "      <th></th>\n",
       "      <th>Origin</th>\n",
       "      <th>Destination</th>\n",
       "      <th>Throughput</th>\n",
       "      <th>DateTime</th>\n",
       "    </tr>\n",
       "  </thead>\n",
       "  <tbody>\n",
       "    <tr>\n",
       "      <th>3313594</th>\n",
       "      <td>WOAK</td>\n",
       "      <td>ASHB</td>\n",
       "      <td>1</td>\n",
       "      <td>2017-05-03 23:00:00</td>\n",
       "    </tr>\n",
       "    <tr>\n",
       "      <th>2541381</th>\n",
       "      <td>GLEN</td>\n",
       "      <td>NBRK</td>\n",
       "      <td>1</td>\n",
       "      <td>2016-04-03 10:00:00</td>\n",
       "    </tr>\n",
       "    <tr>\n",
       "      <th>2541363</th>\n",
       "      <td>GLEN</td>\n",
       "      <td>ASHB</td>\n",
       "      <td>1</td>\n",
       "      <td>2016-04-03 10:00:00</td>\n",
       "    </tr>\n",
       "    <tr>\n",
       "      <th>8560674</th>\n",
       "      <td>SFIA</td>\n",
       "      <td>PLZA</td>\n",
       "      <td>1</td>\n",
       "      <td>2016-11-09 00:00:00</td>\n",
       "    </tr>\n",
       "    <tr>\n",
       "      <th>8560688</th>\n",
       "      <td>SSAN</td>\n",
       "      <td>ASHB</td>\n",
       "      <td>1</td>\n",
       "      <td>2016-11-09 00:00:00</td>\n",
       "    </tr>\n",
       "  </tbody>\n",
       "</table>\n",
       "</div>"
      ],
      "text/plain": [
       "        Origin Destination  Throughput             DateTime\n",
       "3313594   WOAK        ASHB           1  2017-05-03 23:00:00\n",
       "2541381   GLEN        NBRK           1  2016-04-03 10:00:00\n",
       "2541363   GLEN        ASHB           1  2016-04-03 10:00:00\n",
       "8560674   SFIA        PLZA           1  2016-11-09 00:00:00\n",
       "8560688   SSAN        ASHB           1  2016-11-09 00:00:00"
      ]
     },
     "execution_count": 44,
     "metadata": {},
     "output_type": "execute_result"
    }
   ],
   "source": [
    "df_best_throughput = df_time[(df_time['Destination'].isin(berkeley_stations)) & (df_time['Origin'].isin(sanfran_stations))].sort_values('Throughput', ascending=True)\n",
    "df_best_throughput.head()"
   ]
  },
  {
   "cell_type": "code",
   "execution_count": 45,
   "metadata": {},
   "outputs": [
    {
     "data": {
      "image/png": "[encoded data removed]",
      "text/plain": [
       "<Figure size 432x288 with 1 Axes>"
      ]
     },
     "metadata": {
      "needs_background": "light"
     },
     "output_type": "display_data"
    }
   ],
   "source": [
    "df_best_throughput['Throughput'].hist(bins = 100)\n",
    "plt.show()"
   ]
  },
  {
   "cell_type": "markdown",
   "metadata": {},
   "source": [
    "#### If there are at least 200 seats.."
   ]
  },
  {
   "cell_type": "code",
   "execution_count": 46,
   "metadata": {},
   "outputs": [
    {
     "data": {
      "text/plain": [
       "(351477, 4)"
      ]
     },
     "execution_count": 46,
     "metadata": {},
     "output_type": "execute_result"
    }
   ],
   "source": [
    "#df_best_throughput = df_best_throughput[df_best_throughput['Throughput'] < 200]\n",
    "df_best_throughput['Throughput'] = np.log(df_best_throughput['Throughput'])\n",
    "df_best_throughput.shape"
   ]
  },
  {
   "cell_type": "code",
   "execution_count": 47,
   "metadata": {},
   "outputs": [
    {
     "data": {
      "image/png": "[encoded data removed]",
      "text/plain": [
       "<Figure size 432x288 with 1 Axes>"
      ]
     },
     "metadata": {
      "needs_background": "light"
     },
     "output_type": "display_data"
    }
   ],
   "source": [
    "df_best_throughput['Throughput'].hist(bins = 100)\n",
    "plt.show()"
   ]
  },
  {
   "cell_type": "code",
   "execution_count": 48,
   "metadata": {},
   "outputs": [
    {
     "data": {
      "text/html": [
       "<div>\n",
       "<style scoped>\n",
       "    .dataframe tbody tr th:only-of-type {\n",
       "        vertical-align: middle;\n",
       "    }\n",
       "\n",
       "    .dataframe tbody tr th {\n",
       "        vertical-align: top;\n",
       "    }\n",
       "\n",
       "    .dataframe thead th {\n",
       "        text-align: right;\n",
       "    }\n",
       "</style>\n",
       "<table border=\"1\" class=\"dataframe\">\n",
       "  <thead>\n",
       "    <tr style=\"text-align: right;\">\n",
       "      <th></th>\n",
       "      <th>Origin</th>\n",
       "      <th>Destination</th>\n",
       "      <th>Throughput</th>\n",
       "      <th>DateTime</th>\n",
       "    </tr>\n",
       "  </thead>\n",
       "  <tbody>\n",
       "    <tr>\n",
       "      <th>3313594</th>\n",
       "      <td>WOAK</td>\n",
       "      <td>ASHB</td>\n",
       "      <td>0.0</td>\n",
       "      <td>2017-05-03 23:00:00</td>\n",
       "    </tr>\n",
       "    <tr>\n",
       "      <th>2541381</th>\n",
       "      <td>GLEN</td>\n",
       "      <td>NBRK</td>\n",
       "      <td>0.0</td>\n",
       "      <td>2016-04-03 10:00:00</td>\n",
       "    </tr>\n",
       "    <tr>\n",
       "      <th>2541363</th>\n",
       "      <td>GLEN</td>\n",
       "      <td>ASHB</td>\n",
       "      <td>0.0</td>\n",
       "      <td>2016-04-03 10:00:00</td>\n",
       "    </tr>\n",
       "    <tr>\n",
       "      <th>8560674</th>\n",
       "      <td>SFIA</td>\n",
       "      <td>PLZA</td>\n",
       "      <td>0.0</td>\n",
       "      <td>2016-11-09 00:00:00</td>\n",
       "    </tr>\n",
       "    <tr>\n",
       "      <th>8560688</th>\n",
       "      <td>SSAN</td>\n",
       "      <td>ASHB</td>\n",
       "      <td>0.0</td>\n",
       "      <td>2016-11-09 00:00:00</td>\n",
       "    </tr>\n",
       "  </tbody>\n",
       "</table>\n",
       "</div>"
      ],
      "text/plain": [
       "        Origin Destination  Throughput             DateTime\n",
       "3313594   WOAK        ASHB         0.0  2017-05-03 23:00:00\n",
       "2541381   GLEN        NBRK         0.0  2016-04-03 10:00:00\n",
       "2541363   GLEN        ASHB         0.0  2016-04-03 10:00:00\n",
       "8560674   SFIA        PLZA         0.0  2016-11-09 00:00:00\n",
       "8560688   SSAN        ASHB         0.0  2016-11-09 00:00:00"
      ]
     },
     "execution_count": 48,
     "metadata": {},
     "output_type": "execute_result"
    }
   ],
   "source": [
    "df_best_throughput.head()"
   ]
  },
  {
   "cell_type": "code",
   "execution_count": 49,
   "metadata": {},
   "outputs": [
    {
     "name": "stdout",
     "output_type": "stream",
     "text": [
      "<class 'pandas.core.frame.DataFrame'>\n",
      "Int64Index: 351477 entries, 3313594 to 5743538\n",
      "Data columns (total 4 columns):\n",
      "Origin         351477 non-null object\n",
      "Destination    351477 non-null object\n",
      "Throughput     351477 non-null float64\n",
      "DateTime       351477 non-null object\n",
      "dtypes: float64(1), object(3)\n",
      "memory usage: 13.4+ MB\n"
     ]
    }
   ],
   "source": [
    "df_best_throughput.info()"
   ]
  },
  {
   "cell_type": "code",
   "execution_count": 50,
   "metadata": {},
   "outputs": [],
   "source": [
    "df_best_throughput['DateTime'] = pd.to_datetime(df_best_throughput['DateTime'])"
   ]
  },
  {
   "cell_type": "code",
   "execution_count": 51,
   "metadata": {},
   "outputs": [],
   "source": [
    "df_best_throughput['day'] = df_best_throughput['DateTime'].apply(lambda x: x.weekday())\n",
    "df_best_throughput['hour'] = df_best_throughput['DateTime'].apply(lambda x: x.hour)\n",
    "df_best_throughput['Throughput'] = np.exp(df_best_throughput['Throughput'])"
   ]
  },
  {
   "cell_type": "code",
   "execution_count": 52,
   "metadata": {},
   "outputs": [
    {
     "data": {
      "text/html": [
       "<div>\n",
       "<style scoped>\n",
       "    .dataframe tbody tr th:only-of-type {\n",
       "        vertical-align: middle;\n",
       "    }\n",
       "\n",
       "    .dataframe tbody tr th {\n",
       "        vertical-align: top;\n",
       "    }\n",
       "\n",
       "    .dataframe thead th {\n",
       "        text-align: right;\n",
       "    }\n",
       "</style>\n",
       "<table border=\"1\" class=\"dataframe\">\n",
       "  <thead>\n",
       "    <tr style=\"text-align: right;\">\n",
       "      <th></th>\n",
       "      <th>Origin</th>\n",
       "      <th>Destination</th>\n",
       "      <th>Throughput</th>\n",
       "      <th>DateTime</th>\n",
       "      <th>day</th>\n",
       "      <th>hour</th>\n",
       "    </tr>\n",
       "  </thead>\n",
       "  <tbody>\n",
       "    <tr>\n",
       "      <th>3313594</th>\n",
       "      <td>WOAK</td>\n",
       "      <td>ASHB</td>\n",
       "      <td>1.0</td>\n",
       "      <td>2017-05-03 23:00:00</td>\n",
       "      <td>2</td>\n",
       "      <td>23</td>\n",
       "    </tr>\n",
       "    <tr>\n",
       "      <th>2541381</th>\n",
       "      <td>GLEN</td>\n",
       "      <td>NBRK</td>\n",
       "      <td>1.0</td>\n",
       "      <td>2016-04-03 10:00:00</td>\n",
       "      <td>6</td>\n",
       "      <td>10</td>\n",
       "    </tr>\n",
       "    <tr>\n",
       "      <th>2541363</th>\n",
       "      <td>GLEN</td>\n",
       "      <td>ASHB</td>\n",
       "      <td>1.0</td>\n",
       "      <td>2016-04-03 10:00:00</td>\n",
       "      <td>6</td>\n",
       "      <td>10</td>\n",
       "    </tr>\n",
       "    <tr>\n",
       "      <th>8560674</th>\n",
       "      <td>SFIA</td>\n",
       "      <td>PLZA</td>\n",
       "      <td>1.0</td>\n",
       "      <td>2016-11-09 00:00:00</td>\n",
       "      <td>2</td>\n",
       "      <td>0</td>\n",
       "    </tr>\n",
       "    <tr>\n",
       "      <th>8560688</th>\n",
       "      <td>SSAN</td>\n",
       "      <td>ASHB</td>\n",
       "      <td>1.0</td>\n",
       "      <td>2016-11-09 00:00:00</td>\n",
       "      <td>2</td>\n",
       "      <td>0</td>\n",
       "    </tr>\n",
       "  </tbody>\n",
       "</table>\n",
       "</div>"
      ],
      "text/plain": [
       "        Origin Destination  Throughput            DateTime  day  hour\n",
       "3313594   WOAK        ASHB         1.0 2017-05-03 23:00:00    2    23\n",
       "2541381   GLEN        NBRK         1.0 2016-04-03 10:00:00    6    10\n",
       "2541363   GLEN        ASHB         1.0 2016-04-03 10:00:00    6    10\n",
       "8560674   SFIA        PLZA         1.0 2016-11-09 00:00:00    2     0\n",
       "8560688   SSAN        ASHB         1.0 2016-11-09 00:00:00    2     0"
      ]
     },
     "execution_count": 52,
     "metadata": {},
     "output_type": "execute_result"
    }
   ],
   "source": [
    "df_best_throughput.head()"
   ]
  },
  {
   "cell_type": "markdown",
   "metadata": {},
   "source": [
    "#### Best Time to travel on Sunday"
   ]
  },
  {
   "cell_type": "code",
   "execution_count": 53,
   "metadata": {},
   "outputs": [
    {
     "data": {
      "image/png": "[encoded data removed]",
      "text/plain": [
       "<Figure size 432x288 with 1 Axes>"
      ]
     },
     "metadata": {
      "needs_background": "light"
     },
     "output_type": "display_data"
    }
   ],
   "source": [
    "df_best_throughput[df_best_throughput['day'] == 0]['Throughput'].hist(bins=100)\n",
    "plt.show()"
   ]
  },
  {
   "cell_type": "code",
   "execution_count": 54,
   "metadata": {},
   "outputs": [
    {
     "data": {
      "text/plain": [
       "[<matplotlib.lines.Line2D at 0x1219f4710>]"
      ]
     },
     "execution_count": 54,
     "metadata": {},
     "output_type": "execute_result"
    },
    {
     "data": {
      "image/png": "[encoded data removed]",
      "text/plain": [
       "<Figure size 432x288 with 1 Axes>"
      ]
     },
     "metadata": {
      "needs_background": "light"
     },
     "output_type": "display_data"
    }
   ],
   "source": [
    "plt.plot(df_best_throughput[df_best_throughput['day'] == 0]['Throughput'], df_best_throughput[df_best_throughput['day'] == 0]['hour'])"
   ]
  },
  {
   "cell_type": "markdown",
   "metadata": {},
   "source": [
    "#### Plot Throughput vs Time according to the Day.  Here the red vertical line correspond to 9am and 5pm."
   ]
  },
  {
   "cell_type": "code",
   "execution_count": 58,
   "metadata": {},
   "outputs": [],
   "source": [
    "def GetMinVal9to5(df_through_grouped, Day, hour_lowerbound, hour_upperbound):\n",
    "    return df_through_grouped[(df_through_grouped['day'] == 0) & \n",
    "                       (df_through_grouped['hour'] > hour_lowerbound) &\n",
    "                       (df_through_grouped['hour'] < hour_upperbound)].sort_values('Throughput', ascending=True).iloc[0]['hour']"
   ]
  },
  {
   "cell_type": "code",
   "execution_count": 59,
   "metadata": {},
   "outputs": [],
   "source": [
    "def Plot_ThroughputvsDay(Day):\n",
    "    df_through_grouped = df_best_throughput.groupby(['day', 'hour'], as_index=False).sum()\n",
    "    plt.plot(df_through_grouped[df_through_grouped['day'] == Day]['hour'], df_through_grouped[df_through_grouped['day'] == Day]['Throughput'], '-o')\n",
    "    plt.axvline(x=9, color='r')\n",
    "    plt.axvline(x=17, color='r')\n",
    "    plt.title('Throughput on day ' + str(Day))\n",
    "    plt.xlabel(\"Time (hrs)\")\n",
    "    plt.ylabel(\"Throughput (unitless)\")\n",
    "    \n",
    "    plt.figtext(.2, .7, \"Best Time to \\nTravel between \\n9-5: \" + str(GetMinVal9to5(df_through_grouped, Day,9,15)))\n",
    "\n",
    "    plt.figtext(.2, .55, \"Best Time to \\nTravel: \" + str(GetMinVal9to5(df_through_grouped, Day,0,25)))\n",
    "    \n",
    "    plt.show()"
   ]
  },
  {
   "cell_type": "code",
   "execution_count": 60,
   "metadata": {
    "scrolled": false
   },
   "outputs": [
    {
     "data": {
      "image/png": "[encoded data removed]",
      "text/plain": [
       "<Figure size 432x288 with 1 Axes>"
      ]
     },
     "metadata": {
      "needs_background": "light"
     },
     "output_type": "display_data"
    },
    {
     "data": {
      "image/png": "[encoded data removed]",
      "text/plain": [
       "<Figure size 432x288 with 1 Axes>"
      ]
     },
     "metadata": {
      "needs_background": "light"
     },
     "output_type": "display_data"
    },
    {
     "data": {
      "image/png": "[encoded data removed]",
      "text/plain": [
       "<Figure size 432x288 with 1 Axes>"
      ]
     },
     "metadata": {
      "needs_background": "light"
     },
     "output_type": "display_data"
    },
    {
     "data": {
      "image/png": "[encoded data removed]",
      "text/plain": [
       "<Figure size 432x288 with 1 Axes>"
      ]
     },
     "metadata": {
      "needs_background": "light"
     },
     "output_type": "display_data"
    },
    {
     "data": {
      "image/png": "[encoded data removed]",
      "text/plain": [
       "<Figure size 432x288 with 1 Axes>"
      ]
     },
     "metadata": {
      "needs_background": "light"
     },
     "output_type": "display_data"
    },
    {
     "data": {
      "image/png": "[encoded data removed]",
      "text/plain": [
       "<Figure size 432x288 with 1 Axes>"
      ]
     },
     "metadata": {
      "needs_background": "light"
     },
     "output_type": "display_data"
    },
    {
     "data": {
      "image/png": "[encoded data removed]",
      "text/plain": [
       "<Figure size 432x288 with 1 Axes>"
      ]
     },
     "metadata": {
      "needs_background": "light"
     },
     "output_type": "display_data"
    }
   ],
   "source": [
    "for i in range(7): Plot_ThroughputvsDay(i)"
   ]
  },
  {
   "cell_type": "markdown",
   "metadata": {},
   "source": [
    "#### Which is the busiest day?"
   ]
  },
  {
   "cell_type": "code",
   "execution_count": 68,
   "metadata": {},
   "outputs": [
    {
     "data": {
      "text/html": [
       "<div>\n",
       "<style scoped>\n",
       "    .dataframe tbody tr th:only-of-type {\n",
       "        vertical-align: middle;\n",
       "    }\n",
       "\n",
       "    .dataframe tbody tr th {\n",
       "        vertical-align: top;\n",
       "    }\n",
       "\n",
       "    .dataframe thead th {\n",
       "        text-align: right;\n",
       "    }\n",
       "</style>\n",
       "<table border=\"1\" class=\"dataframe\">\n",
       "  <thead>\n",
       "    <tr style=\"text-align: right;\">\n",
       "      <th></th>\n",
       "      <th>day</th>\n",
       "      <th>Throughput</th>\n",
       "    </tr>\n",
       "  </thead>\n",
       "  <tbody>\n",
       "    <tr>\n",
       "      <th>2</th>\n",
       "      <td>2</td>\n",
       "      <td>999909.0</td>\n",
       "    </tr>\n",
       "    <tr>\n",
       "      <th>3</th>\n",
       "      <td>3</td>\n",
       "      <td>998387.0</td>\n",
       "    </tr>\n",
       "    <tr>\n",
       "      <th>1</th>\n",
       "      <td>1</td>\n",
       "      <td>996420.0</td>\n",
       "    </tr>\n",
       "    <tr>\n",
       "      <th>4</th>\n",
       "      <td>4</td>\n",
       "      <td>951459.0</td>\n",
       "    </tr>\n",
       "    <tr>\n",
       "      <th>0</th>\n",
       "      <td>0</td>\n",
       "      <td>878940.0</td>\n",
       "    </tr>\n",
       "    <tr>\n",
       "      <th>5</th>\n",
       "      <td>5</td>\n",
       "      <td>541642.0</td>\n",
       "    </tr>\n",
       "    <tr>\n",
       "      <th>6</th>\n",
       "      <td>6</td>\n",
       "      <td>388995.0</td>\n",
       "    </tr>\n",
       "  </tbody>\n",
       "</table>\n",
       "</div>"
      ],
      "text/plain": [
       "   day  Throughput\n",
       "2    2    999909.0\n",
       "3    3    998387.0\n",
       "1    1    996420.0\n",
       "4    4    951459.0\n",
       "0    0    878940.0\n",
       "5    5    541642.0\n",
       "6    6    388995.0"
      ]
     },
     "execution_count": 68,
     "metadata": {},
     "output_type": "execute_result"
    }
   ],
   "source": [
    "df_best_throughput.groupby('day', as_index=False).sum().drop('hour', axis=1).sort_values('Throughput', ascending=False)"
   ]
  },
  {
   "cell_type": "code",
   "execution_count": null,
   "metadata": {},
   "outputs": [],
   "source": []
  }
 ],
 "metadata": {
  "kernelspec": {
   "display_name": "Python [conda env:myenv]",
   "language": "python",
   "name": "conda-env-myenv-py"
  },
  "language_info": {
   "codemirror_mode": {
    "name": "ipython",
    "version": 3
   },
   "file_extension": ".py",
   "mimetype": "text/x-python",
   "name": "python",
   "nbconvert_exporter": "python",
   "pygments_lexer": "ipython3",
   "version": "3.6.9"
  }
 },
 "nbformat": 4,
 "nbformat_minor": 2
}
