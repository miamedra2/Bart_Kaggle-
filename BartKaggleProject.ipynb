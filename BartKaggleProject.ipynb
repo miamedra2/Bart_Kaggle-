{
 "cells": [
  {
   "cell_type": "code",
   "execution_count": 1,
   "metadata": {},
   "outputs": [],
   "source": [
    "import pandas as pd\n",
    "import re\n",
    "import matplotlib.pyplot as plt\n",
    "import numpy as np\n",
    "from math import radians, sin, cos, acos"
   ]
  },
  {
   "cell_type": "code",
   "execution_count": 2,
   "metadata": {},
   "outputs": [
    {
     "name": "stdout",
     "output_type": "stream",
     "text": [
      "\u001b[31mdate-hour-soo-dest-2016.csv\u001b[m\u001b[m* \u001b[31mstation_info.csv\u001b[m\u001b[m*\r\n",
      "\u001b[31mdate-hour-soo-dest-2017.csv\u001b[m\u001b[m*\r\n"
     ]
    }
   ],
   "source": [
    "ls bart-ridership/"
   ]
  },
  {
   "cell_type": "code",
   "execution_count": 3,
   "metadata": {},
   "outputs": [],
   "source": [
    "df_2016 = pd.read_csv('bart-ridership/date-hour-soo-dest-2016.csv')\n",
    "df_2017 = pd.read_csv('bart-ridership/date-hour-soo-dest-2017.csv')\n",
    "df_station_info = pd.read_csv('bart-ridership/station_info.csv')"
   ]
  },
  {
   "cell_type": "code",
   "execution_count": null,
   "metadata": {},
   "outputs": [],
   "source": []
  },
  {
   "cell_type": "code",
   "execution_count": 4,
   "metadata": {},
   "outputs": [
    {
     "data": {
      "text/html": [
       "<div>\n",
       "<style scoped>\n",
       "    .dataframe tbody tr th:only-of-type {\n",
       "        vertical-align: middle;\n",
       "    }\n",
       "\n",
       "    .dataframe tbody tr th {\n",
       "        vertical-align: top;\n",
       "    }\n",
       "\n",
       "    .dataframe thead th {\n",
       "        text-align: right;\n",
       "    }\n",
       "</style>\n",
       "<table border=\"1\" class=\"dataframe\">\n",
       "  <thead>\n",
       "    <tr style=\"text-align: right;\">\n",
       "      <th></th>\n",
       "      <th>Origin</th>\n",
       "      <th>Destination</th>\n",
       "      <th>Throughput</th>\n",
       "      <th>DateTime</th>\n",
       "    </tr>\n",
       "  </thead>\n",
       "  <tbody>\n",
       "    <tr>\n",
       "      <th>0</th>\n",
       "      <td>12TH</td>\n",
       "      <td>12TH</td>\n",
       "      <td>1</td>\n",
       "      <td>2016-01-01 00:00:00</td>\n",
       "    </tr>\n",
       "    <tr>\n",
       "      <th>1</th>\n",
       "      <td>12TH</td>\n",
       "      <td>16TH</td>\n",
       "      <td>1</td>\n",
       "      <td>2016-01-01 00:00:00</td>\n",
       "    </tr>\n",
       "    <tr>\n",
       "      <th>2</th>\n",
       "      <td>12TH</td>\n",
       "      <td>24TH</td>\n",
       "      <td>4</td>\n",
       "      <td>2016-01-01 00:00:00</td>\n",
       "    </tr>\n",
       "    <tr>\n",
       "      <th>3</th>\n",
       "      <td>12TH</td>\n",
       "      <td>ASHB</td>\n",
       "      <td>4</td>\n",
       "      <td>2016-01-01 00:00:00</td>\n",
       "    </tr>\n",
       "    <tr>\n",
       "      <th>4</th>\n",
       "      <td>12TH</td>\n",
       "      <td>BALB</td>\n",
       "      <td>2</td>\n",
       "      <td>2016-01-01 00:00:00</td>\n",
       "    </tr>\n",
       "  </tbody>\n",
       "</table>\n",
       "</div>"
      ],
      "text/plain": [
       "  Origin Destination  Throughput             DateTime\n",
       "0   12TH        12TH           1  2016-01-01 00:00:00\n",
       "1   12TH        16TH           1  2016-01-01 00:00:00\n",
       "2   12TH        24TH           4  2016-01-01 00:00:00\n",
       "3   12TH        ASHB           4  2016-01-01 00:00:00\n",
       "4   12TH        BALB           2  2016-01-01 00:00:00"
      ]
     },
     "execution_count": 4,
     "metadata": {},
     "output_type": "execute_result"
    }
   ],
   "source": [
    "df_2016.head()"
   ]
  },
  {
   "cell_type": "code",
   "execution_count": 5,
   "metadata": {},
   "outputs": [
    {
     "data": {
      "text/plain": [
       "(9971582, 4)"
      ]
     },
     "execution_count": 5,
     "metadata": {},
     "output_type": "execute_result"
    }
   ],
   "source": [
    "df_2016.shape"
   ]
  },
  {
   "cell_type": "code",
   "execution_count": 6,
   "metadata": {},
   "outputs": [
    {
     "data": {
      "text/html": [
       "<div>\n",
       "<style scoped>\n",
       "    .dataframe tbody tr th:only-of-type {\n",
       "        vertical-align: middle;\n",
       "    }\n",
       "\n",
       "    .dataframe tbody tr th {\n",
       "        vertical-align: top;\n",
       "    }\n",
       "\n",
       "    .dataframe thead th {\n",
       "        text-align: right;\n",
       "    }\n",
       "</style>\n",
       "<table border=\"1\" class=\"dataframe\">\n",
       "  <thead>\n",
       "    <tr style=\"text-align: right;\">\n",
       "      <th></th>\n",
       "      <th>Origin</th>\n",
       "      <th>Destination</th>\n",
       "      <th>Throughput</th>\n",
       "      <th>DateTime</th>\n",
       "    </tr>\n",
       "  </thead>\n",
       "  <tbody>\n",
       "    <tr>\n",
       "      <th>0</th>\n",
       "      <td>12TH</td>\n",
       "      <td>19TH</td>\n",
       "      <td>1</td>\n",
       "      <td>2017-01-01 00:00:00</td>\n",
       "    </tr>\n",
       "    <tr>\n",
       "      <th>1</th>\n",
       "      <td>12TH</td>\n",
       "      <td>24TH</td>\n",
       "      <td>2</td>\n",
       "      <td>2017-01-01 00:00:00</td>\n",
       "    </tr>\n",
       "    <tr>\n",
       "      <th>2</th>\n",
       "      <td>12TH</td>\n",
       "      <td>BAYF</td>\n",
       "      <td>1</td>\n",
       "      <td>2017-01-01 00:00:00</td>\n",
       "    </tr>\n",
       "    <tr>\n",
       "      <th>3</th>\n",
       "      <td>12TH</td>\n",
       "      <td>CIVC</td>\n",
       "      <td>5</td>\n",
       "      <td>2017-01-01 00:00:00</td>\n",
       "    </tr>\n",
       "    <tr>\n",
       "      <th>4</th>\n",
       "      <td>12TH</td>\n",
       "      <td>COLS</td>\n",
       "      <td>2</td>\n",
       "      <td>2017-01-01 00:00:00</td>\n",
       "    </tr>\n",
       "  </tbody>\n",
       "</table>\n",
       "</div>"
      ],
      "text/plain": [
       "  Origin Destination  Throughput             DateTime\n",
       "0   12TH        19TH           1  2017-01-01 00:00:00\n",
       "1   12TH        24TH           2  2017-01-01 00:00:00\n",
       "2   12TH        BAYF           1  2017-01-01 00:00:00\n",
       "3   12TH        CIVC           5  2017-01-01 00:00:00\n",
       "4   12TH        COLS           2  2017-01-01 00:00:00"
      ]
     },
     "execution_count": 6,
     "metadata": {},
     "output_type": "execute_result"
    }
   ],
   "source": [
    "df_2017.head()"
   ]
  },
  {
   "cell_type": "code",
   "execution_count": 7,
   "metadata": {},
   "outputs": [
    {
     "data": {
      "text/plain": [
       "(3313625, 4)"
      ]
     },
     "execution_count": 7,
     "metadata": {},
     "output_type": "execute_result"
    }
   ],
   "source": [
    "df_2017.shape"
   ]
  },
  {
   "cell_type": "code",
   "execution_count": 8,
   "metadata": {},
   "outputs": [],
   "source": [
    "df = pd.concat([df_2016, df_2017])"
   ]
  },
  {
   "cell_type": "code",
   "execution_count": 9,
   "metadata": {},
   "outputs": [
    {
     "data": {
      "text/plain": [
       "(13285207, 4)"
      ]
     },
     "execution_count": 9,
     "metadata": {},
     "output_type": "execute_result"
    }
   ],
   "source": [
    "df.shape"
   ]
  },
  {
   "cell_type": "code",
   "execution_count": 10,
   "metadata": {},
   "outputs": [
    {
     "data": {
      "text/html": [
       "<div>\n",
       "<style scoped>\n",
       "    .dataframe tbody tr th:only-of-type {\n",
       "        vertical-align: middle;\n",
       "    }\n",
       "\n",
       "    .dataframe tbody tr th {\n",
       "        vertical-align: top;\n",
       "    }\n",
       "\n",
       "    .dataframe thead th {\n",
       "        text-align: right;\n",
       "    }\n",
       "</style>\n",
       "<table border=\"1\" class=\"dataframe\">\n",
       "  <thead>\n",
       "    <tr style=\"text-align: right;\">\n",
       "      <th></th>\n",
       "      <th>Origin</th>\n",
       "      <th>Destination</th>\n",
       "      <th>Throughput</th>\n",
       "      <th>DateTime</th>\n",
       "    </tr>\n",
       "  </thead>\n",
       "  <tbody>\n",
       "    <tr>\n",
       "      <th>0</th>\n",
       "      <td>12TH</td>\n",
       "      <td>12TH</td>\n",
       "      <td>1</td>\n",
       "      <td>2016-01-01 00:00:00</td>\n",
       "    </tr>\n",
       "    <tr>\n",
       "      <th>1</th>\n",
       "      <td>12TH</td>\n",
       "      <td>16TH</td>\n",
       "      <td>1</td>\n",
       "      <td>2016-01-01 00:00:00</td>\n",
       "    </tr>\n",
       "    <tr>\n",
       "      <th>2</th>\n",
       "      <td>12TH</td>\n",
       "      <td>24TH</td>\n",
       "      <td>4</td>\n",
       "      <td>2016-01-01 00:00:00</td>\n",
       "    </tr>\n",
       "    <tr>\n",
       "      <th>3</th>\n",
       "      <td>12TH</td>\n",
       "      <td>ASHB</td>\n",
       "      <td>4</td>\n",
       "      <td>2016-01-01 00:00:00</td>\n",
       "    </tr>\n",
       "    <tr>\n",
       "      <th>4</th>\n",
       "      <td>12TH</td>\n",
       "      <td>BALB</td>\n",
       "      <td>2</td>\n",
       "      <td>2016-01-01 00:00:00</td>\n",
       "    </tr>\n",
       "  </tbody>\n",
       "</table>\n",
       "</div>"
      ],
      "text/plain": [
       "  Origin Destination  Throughput             DateTime\n",
       "0   12TH        12TH           1  2016-01-01 00:00:00\n",
       "1   12TH        16TH           1  2016-01-01 00:00:00\n",
       "2   12TH        24TH           4  2016-01-01 00:00:00\n",
       "3   12TH        ASHB           4  2016-01-01 00:00:00\n",
       "4   12TH        BALB           2  2016-01-01 00:00:00"
      ]
     },
     "execution_count": 10,
     "metadata": {},
     "output_type": "execute_result"
    }
   ],
   "source": [
    "df.head()"
   ]
  },
  {
   "cell_type": "code",
   "execution_count": 11,
   "metadata": {},
   "outputs": [
    {
     "name": "stdout",
     "output_type": "stream",
     "text": [
      "<class 'pandas.core.frame.DataFrame'>\n",
      "Int64Index: 13285207 entries, 0 to 3313624\n",
      "Data columns (total 4 columns):\n",
      "Origin         object\n",
      "Destination    object\n",
      "Throughput     int64\n",
      "DateTime       object\n",
      "dtypes: int64(1), object(3)\n",
      "memory usage: 506.8+ MB\n"
     ]
    }
   ],
   "source": [
    "df.info()"
   ]
  },
  {
   "cell_type": "markdown",
   "metadata": {},
   "source": [
    "#### df_station cleanup"
   ]
  },
  {
   "cell_type": "code",
   "execution_count": 12,
   "metadata": {},
   "outputs": [
    {
     "data": {
      "text/html": [
       "<div>\n",
       "<style scoped>\n",
       "    .dataframe tbody tr th:only-of-type {\n",
       "        vertical-align: middle;\n",
       "    }\n",
       "\n",
       "    .dataframe tbody tr th {\n",
       "        vertical-align: top;\n",
       "    }\n",
       "\n",
       "    .dataframe thead th {\n",
       "        text-align: right;\n",
       "    }\n",
       "</style>\n",
       "<table border=\"1\" class=\"dataframe\">\n",
       "  <thead>\n",
       "    <tr style=\"text-align: right;\">\n",
       "      <th></th>\n",
       "      <th>Abbreviation</th>\n",
       "      <th>Description</th>\n",
       "      <th>Location</th>\n",
       "      <th>Name</th>\n",
       "    </tr>\n",
       "  </thead>\n",
       "  <tbody>\n",
       "    <tr>\n",
       "      <th>0</th>\n",
       "      <td>12TH</td>\n",
       "      <td>1245 Broadway, Oakland CA 94612&lt;br /&gt;12th St. ...</td>\n",
       "      <td>-122.271450,37.803768,0</td>\n",
       "      <td>12th St. Oakland City Center (12TH)</td>\n",
       "    </tr>\n",
       "    <tr>\n",
       "      <th>1</th>\n",
       "      <td>16TH</td>\n",
       "      <td>2000 Mission Street, San Francisco CA 94110&lt;br...</td>\n",
       "      <td>-122.419694,37.765062,0</td>\n",
       "      <td>16th St. Mission (16TH)</td>\n",
       "    </tr>\n",
       "    <tr>\n",
       "      <th>2</th>\n",
       "      <td>19TH</td>\n",
       "      <td>1900 Broadway, Oakland CA 94612&lt;br /&gt;19th Stre...</td>\n",
       "      <td>-122.268602,37.808350,0</td>\n",
       "      <td>19th St. Oakland (19TH)</td>\n",
       "    </tr>\n",
       "    <tr>\n",
       "      <th>3</th>\n",
       "      <td>24TH</td>\n",
       "      <td>2800 Mission Street, San Francisco CA 94110&lt;br...</td>\n",
       "      <td>-122.418143,37.752470,0</td>\n",
       "      <td>24th St. Mission (24TH)</td>\n",
       "    </tr>\n",
       "    <tr>\n",
       "      <th>4</th>\n",
       "      <td>ASHB</td>\n",
       "      <td>3100 Adeline Street, Berkeley CA 94703&lt;br /&gt;As...</td>\n",
       "      <td>-122.270062,37.852803,0</td>\n",
       "      <td>Ashby (ASHB)</td>\n",
       "    </tr>\n",
       "  </tbody>\n",
       "</table>\n",
       "</div>"
      ],
      "text/plain": [
       "  Abbreviation                                        Description  \\\n",
       "0         12TH  1245 Broadway, Oakland CA 94612<br />12th St. ...   \n",
       "1         16TH  2000 Mission Street, San Francisco CA 94110<br...   \n",
       "2         19TH  1900 Broadway, Oakland CA 94612<br />19th Stre...   \n",
       "3         24TH  2800 Mission Street, San Francisco CA 94110<br...   \n",
       "4         ASHB  3100 Adeline Street, Berkeley CA 94703<br />As...   \n",
       "\n",
       "                  Location                                 Name  \n",
       "0  -122.271450,37.803768,0  12th St. Oakland City Center (12TH)  \n",
       "1  -122.419694,37.765062,0              16th St. Mission (16TH)  \n",
       "2  -122.268602,37.808350,0              19th St. Oakland (19TH)  \n",
       "3  -122.418143,37.752470,0              24th St. Mission (24TH)  \n",
       "4  -122.270062,37.852803,0                         Ashby (ASHB)  "
      ]
     },
     "execution_count": 12,
     "metadata": {},
     "output_type": "execute_result"
    }
   ],
   "source": [
    "df_station_info.head()"
   ]
  },
  {
   "cell_type": "code",
   "execution_count": 13,
   "metadata": {},
   "outputs": [
    {
     "data": {
      "text/plain": [
       "(46, 4)"
      ]
     },
     "execution_count": 13,
     "metadata": {},
     "output_type": "execute_result"
    }
   ],
   "source": [
    "df_station_info.shape"
   ]
  },
  {
   "cell_type": "code",
   "execution_count": 14,
   "metadata": {},
   "outputs": [
    {
     "data": {
      "text/plain": [
       "\"1245 Broadway, Oakland CA 94612.  12th St. Oakland City Center Station is in the heart of Downtown Oakland, near historic Old Oakland and Oakland's Chinatown.\""
      ]
     },
     "execution_count": 14,
     "metadata": {},
     "output_type": "execute_result"
    }
   ],
   "source": [
    "df_station_info['Description'] = df_station_info['Description'].str.replace('<br />','.  ')\n",
    "df_station_info['Description'].iloc[0]"
   ]
  },
  {
   "cell_type": "markdown",
   "metadata": {},
   "source": [
    "#### Parse Logitude and Latitude from 'Location'"
   ]
  },
  {
   "cell_type": "code",
   "execution_count": 15,
   "metadata": {},
   "outputs": [],
   "source": [
    "longitude = []\n",
    "latitude = []\n",
    "\n",
    "for i in range(len(df_station_info['Location'].str.split(','))):\n",
    "    longitude.append(df_station_info['Location'].str.split(',')[i][0])\n",
    "    latitude.append(df_station_info['Location'].str.split(',')[i][1])"
   ]
  },
  {
   "cell_type": "code",
   "execution_count": 16,
   "metadata": {},
   "outputs": [],
   "source": [
    "df_station_info['Longitude'] = pd.Series(longitude)\n",
    "df_station_info['Latitude'] = pd.Series(latitude)\n",
    "df_station_info.drop('Location', axis =1, inplace = True)"
   ]
  },
  {
   "cell_type": "code",
   "execution_count": 17,
   "metadata": {},
   "outputs": [
    {
     "data": {
      "text/html": [
       "<div>\n",
       "<style scoped>\n",
       "    .dataframe tbody tr th:only-of-type {\n",
       "        vertical-align: middle;\n",
       "    }\n",
       "\n",
       "    .dataframe tbody tr th {\n",
       "        vertical-align: top;\n",
       "    }\n",
       "\n",
       "    .dataframe thead th {\n",
       "        text-align: right;\n",
       "    }\n",
       "</style>\n",
       "<table border=\"1\" class=\"dataframe\">\n",
       "  <thead>\n",
       "    <tr style=\"text-align: right;\">\n",
       "      <th></th>\n",
       "      <th>Abbreviation</th>\n",
       "      <th>Description</th>\n",
       "      <th>Name</th>\n",
       "      <th>Longitude</th>\n",
       "      <th>Latitude</th>\n",
       "    </tr>\n",
       "  </thead>\n",
       "  <tbody>\n",
       "    <tr>\n",
       "      <th>0</th>\n",
       "      <td>12TH</td>\n",
       "      <td>1245 Broadway, Oakland CA 94612.  12th St. Oak...</td>\n",
       "      <td>12th St. Oakland City Center (12TH)</td>\n",
       "      <td>-122.271450</td>\n",
       "      <td>37.803768</td>\n",
       "    </tr>\n",
       "    <tr>\n",
       "      <th>1</th>\n",
       "      <td>16TH</td>\n",
       "      <td>2000 Mission Street, San Francisco CA 94110.  ...</td>\n",
       "      <td>16th St. Mission (16TH)</td>\n",
       "      <td>-122.419694</td>\n",
       "      <td>37.765062</td>\n",
       "    </tr>\n",
       "    <tr>\n",
       "      <th>2</th>\n",
       "      <td>19TH</td>\n",
       "      <td>1900 Broadway, Oakland CA 94612.  19th Street ...</td>\n",
       "      <td>19th St. Oakland (19TH)</td>\n",
       "      <td>-122.268602</td>\n",
       "      <td>37.808350</td>\n",
       "    </tr>\n",
       "    <tr>\n",
       "      <th>3</th>\n",
       "      <td>24TH</td>\n",
       "      <td>2800 Mission Street, San Francisco CA 94110.  ...</td>\n",
       "      <td>24th St. Mission (24TH)</td>\n",
       "      <td>-122.418143</td>\n",
       "      <td>37.752470</td>\n",
       "    </tr>\n",
       "    <tr>\n",
       "      <th>4</th>\n",
       "      <td>ASHB</td>\n",
       "      <td>3100 Adeline Street, Berkeley CA 94703.  Ashby...</td>\n",
       "      <td>Ashby (ASHB)</td>\n",
       "      <td>-122.270062</td>\n",
       "      <td>37.852803</td>\n",
       "    </tr>\n",
       "  </tbody>\n",
       "</table>\n",
       "</div>"
      ],
      "text/plain": [
       "  Abbreviation                                        Description  \\\n",
       "0         12TH  1245 Broadway, Oakland CA 94612.  12th St. Oak...   \n",
       "1         16TH  2000 Mission Street, San Francisco CA 94110.  ...   \n",
       "2         19TH  1900 Broadway, Oakland CA 94612.  19th Street ...   \n",
       "3         24TH  2800 Mission Street, San Francisco CA 94110.  ...   \n",
       "4         ASHB  3100 Adeline Street, Berkeley CA 94703.  Ashby...   \n",
       "\n",
       "                                  Name    Longitude   Latitude  \n",
       "0  12th St. Oakland City Center (12TH)  -122.271450  37.803768  \n",
       "1              16th St. Mission (16TH)  -122.419694  37.765062  \n",
       "2              19th St. Oakland (19TH)  -122.268602  37.808350  \n",
       "3              24th St. Mission (24TH)  -122.418143  37.752470  \n",
       "4                         Ashby (ASHB)  -122.270062  37.852803  "
      ]
     },
     "execution_count": 17,
     "metadata": {},
     "output_type": "execute_result"
    }
   ],
   "source": [
    "df_station_info.head()"
   ]
  },
  {
   "cell_type": "code",
   "execution_count": 18,
   "metadata": {},
   "outputs": [],
   "source": [
    "df_location = df_station_info.drop(['Description', 'Name'], axis=1)"
   ]
  },
  {
   "cell_type": "code",
   "execution_count": 19,
   "metadata": {},
   "outputs": [
    {
     "data": {
      "text/html": [
       "<div>\n",
       "<style scoped>\n",
       "    .dataframe tbody tr th:only-of-type {\n",
       "        vertical-align: middle;\n",
       "    }\n",
       "\n",
       "    .dataframe tbody tr th {\n",
       "        vertical-align: top;\n",
       "    }\n",
       "\n",
       "    .dataframe thead th {\n",
       "        text-align: right;\n",
       "    }\n",
       "</style>\n",
       "<table border=\"1\" class=\"dataframe\">\n",
       "  <thead>\n",
       "    <tr style=\"text-align: right;\">\n",
       "      <th></th>\n",
       "      <th>Abbreviation</th>\n",
       "      <th>Longitude</th>\n",
       "      <th>Latitude</th>\n",
       "    </tr>\n",
       "  </thead>\n",
       "  <tbody>\n",
       "    <tr>\n",
       "      <th>0</th>\n",
       "      <td>12TH</td>\n",
       "      <td>-122.271450</td>\n",
       "      <td>37.803768</td>\n",
       "    </tr>\n",
       "    <tr>\n",
       "      <th>1</th>\n",
       "      <td>16TH</td>\n",
       "      <td>-122.419694</td>\n",
       "      <td>37.765062</td>\n",
       "    </tr>\n",
       "    <tr>\n",
       "      <th>2</th>\n",
       "      <td>19TH</td>\n",
       "      <td>-122.268602</td>\n",
       "      <td>37.808350</td>\n",
       "    </tr>\n",
       "    <tr>\n",
       "      <th>3</th>\n",
       "      <td>24TH</td>\n",
       "      <td>-122.418143</td>\n",
       "      <td>37.752470</td>\n",
       "    </tr>\n",
       "    <tr>\n",
       "      <th>4</th>\n",
       "      <td>ASHB</td>\n",
       "      <td>-122.270062</td>\n",
       "      <td>37.852803</td>\n",
       "    </tr>\n",
       "  </tbody>\n",
       "</table>\n",
       "</div>"
      ],
      "text/plain": [
       "  Abbreviation    Longitude   Latitude\n",
       "0         12TH  -122.271450  37.803768\n",
       "1         16TH  -122.419694  37.765062\n",
       "2         19TH  -122.268602  37.808350\n",
       "3         24TH  -122.418143  37.752470\n",
       "4         ASHB  -122.270062  37.852803"
      ]
     },
     "execution_count": 19,
     "metadata": {},
     "output_type": "execute_result"
    }
   ],
   "source": [
    "df_location.head()"
   ]
  },
  {
   "cell_type": "code",
   "execution_count": 20,
   "metadata": {},
   "outputs": [
    {
     "data": {
      "text/plain": [
       "(array(['12TH', '16TH', '19TH', '24TH', 'ASHB', 'BALB', 'BAYF', 'CAST',\n",
       "        'CIVC', 'COLS', 'COLM', 'CONC', 'DALY', 'DBRK', 'DELN', 'DUBL',\n",
       "        'EMBR', 'FRMT', 'FTVL', 'GLEN', 'HAYW', 'LAFY', 'LAKE', 'MCAR',\n",
       "        'MLBR', 'MONT', 'NBRK', 'NCON', 'OAKL', 'ORIN', 'PHIL', 'PITT',\n",
       "        'PLZA', 'POWL', 'RICH', 'ROCK', 'SANL', 'SBRN', 'SFIA', 'SHAY',\n",
       "        'SSAN', 'UCTY', 'WARM', 'WCRK', 'WDUB', 'WOAK'], dtype=object),\n",
       " array(['12TH', '16TH', '19TH', '24TH', 'ASHB', 'BALB', 'BAYF', 'CAST',\n",
       "        'CIVC', 'COLM', 'COLS', 'CONC', 'DALY', 'DBRK', 'DELN', 'DUBL',\n",
       "        'EMBR', 'FRMT', 'FTVL', 'GLEN', 'HAYW', 'LAFY', 'LAKE', 'MCAR',\n",
       "        'MLBR', 'MONT', 'NBRK', 'NCON', 'OAKL', 'ORIN', 'PHIL', 'PITT',\n",
       "        'PLZA', 'POWL', 'RICH', 'ROCK', 'SANL', 'SBRN', 'SFIA', 'SHAY',\n",
       "        'SSAN', 'UCTY', 'WCRK', 'WDUB', 'WOAK', 'WSPR'], dtype=object))"
      ]
     },
     "execution_count": 20,
     "metadata": {},
     "output_type": "execute_result"
    }
   ],
   "source": [
    "df_location['Abbreviation'].unique(), df['Origin'].unique()"
   ]
  },
  {
   "cell_type": "code",
   "execution_count": 21,
   "metadata": {},
   "outputs": [],
   "source": [
    "df['Origin'].replace('WSPR', 'WARM', inplace=True)\n",
    "df['Destination'].replace('WSPR', 'WARM', inplace=True)"
   ]
  },
  {
   "cell_type": "code",
   "execution_count": 22,
   "metadata": {},
   "outputs": [],
   "source": [
    "Longitude = df_location.drop('Latitude', axis=1).set_index('Abbreviation').T.to_dict('list')\n",
    "Latitude = df_location.drop('Longitude', axis=1).set_index('Abbreviation').T.to_dict('list')"
   ]
  },
  {
   "cell_type": "code",
   "execution_count": 23,
   "metadata": {},
   "outputs": [],
   "source": [
    "df['Longitude_Origin']= df['Origin'].apply(lambda x: Longitude[x][0])\n",
    "df['Latitude_Origin']= df['Origin'].apply(lambda x: Latitude[x][0])"
   ]
  },
  {
   "cell_type": "code",
   "execution_count": 24,
   "metadata": {},
   "outputs": [],
   "source": [
    "df['Longitude_Dest']= df['Destination'].apply(lambda x: Longitude[x][0])\n",
    "df['Latitude_Dest']= df['Destination'].apply(lambda x: Latitude[x][0])"
   ]
  },
  {
   "cell_type": "code",
   "execution_count": 25,
   "metadata": {},
   "outputs": [
    {
     "data": {
      "text/plain": [
       "0"
      ]
     },
     "execution_count": 25,
     "metadata": {},
     "output_type": "execute_result"
    }
   ],
   "source": [
    "df.duplicated().sum()"
   ]
  },
  {
   "cell_type": "code",
   "execution_count": 26,
   "metadata": {},
   "outputs": [
    {
     "data": {
      "text/html": [
       "<div>\n",
       "<style scoped>\n",
       "    .dataframe tbody tr th:only-of-type {\n",
       "        vertical-align: middle;\n",
       "    }\n",
       "\n",
       "    .dataframe tbody tr th {\n",
       "        vertical-align: top;\n",
       "    }\n",
       "\n",
       "    .dataframe thead th {\n",
       "        text-align: right;\n",
       "    }\n",
       "</style>\n",
       "<table border=\"1\" class=\"dataframe\">\n",
       "  <thead>\n",
       "    <tr style=\"text-align: right;\">\n",
       "      <th></th>\n",
       "      <th>Origin</th>\n",
       "      <th>Destination</th>\n",
       "      <th>Throughput</th>\n",
       "      <th>DateTime</th>\n",
       "      <th>Longitude_Origin</th>\n",
       "      <th>Latitude_Origin</th>\n",
       "      <th>Longitude_Dest</th>\n",
       "      <th>Latitude_Dest</th>\n",
       "    </tr>\n",
       "  </thead>\n",
       "  <tbody>\n",
       "    <tr>\n",
       "      <th>0</th>\n",
       "      <td>12TH</td>\n",
       "      <td>12TH</td>\n",
       "      <td>1</td>\n",
       "      <td>2016-01-01 00:00:00</td>\n",
       "      <td>-122.271450</td>\n",
       "      <td>37.803768</td>\n",
       "      <td>-122.271450</td>\n",
       "      <td>37.803768</td>\n",
       "    </tr>\n",
       "    <tr>\n",
       "      <th>1</th>\n",
       "      <td>12TH</td>\n",
       "      <td>16TH</td>\n",
       "      <td>1</td>\n",
       "      <td>2016-01-01 00:00:00</td>\n",
       "      <td>-122.271450</td>\n",
       "      <td>37.803768</td>\n",
       "      <td>-122.419694</td>\n",
       "      <td>37.765062</td>\n",
       "    </tr>\n",
       "    <tr>\n",
       "      <th>2</th>\n",
       "      <td>12TH</td>\n",
       "      <td>24TH</td>\n",
       "      <td>4</td>\n",
       "      <td>2016-01-01 00:00:00</td>\n",
       "      <td>-122.271450</td>\n",
       "      <td>37.803768</td>\n",
       "      <td>-122.418143</td>\n",
       "      <td>37.752470</td>\n",
       "    </tr>\n",
       "    <tr>\n",
       "      <th>3</th>\n",
       "      <td>12TH</td>\n",
       "      <td>ASHB</td>\n",
       "      <td>4</td>\n",
       "      <td>2016-01-01 00:00:00</td>\n",
       "      <td>-122.271450</td>\n",
       "      <td>37.803768</td>\n",
       "      <td>-122.270062</td>\n",
       "      <td>37.852803</td>\n",
       "    </tr>\n",
       "    <tr>\n",
       "      <th>4</th>\n",
       "      <td>12TH</td>\n",
       "      <td>BALB</td>\n",
       "      <td>2</td>\n",
       "      <td>2016-01-01 00:00:00</td>\n",
       "      <td>-122.271450</td>\n",
       "      <td>37.803768</td>\n",
       "      <td>-122.447506</td>\n",
       "      <td>37.721585</td>\n",
       "    </tr>\n",
       "    <tr>\n",
       "      <th>...</th>\n",
       "      <td>...</td>\n",
       "      <td>...</td>\n",
       "      <td>...</td>\n",
       "      <td>...</td>\n",
       "      <td>...</td>\n",
       "      <td>...</td>\n",
       "      <td>...</td>\n",
       "      <td>...</td>\n",
       "    </tr>\n",
       "    <tr>\n",
       "      <th>95</th>\n",
       "      <td>19TH</td>\n",
       "      <td>RICH</td>\n",
       "      <td>1</td>\n",
       "      <td>2016-01-01 00:00:00</td>\n",
       "      <td>-122.268602</td>\n",
       "      <td>37.808350</td>\n",
       "      <td>-122.353099</td>\n",
       "      <td>37.936853</td>\n",
       "    </tr>\n",
       "    <tr>\n",
       "      <th>96</th>\n",
       "      <td>19TH</td>\n",
       "      <td>ROCK</td>\n",
       "      <td>4</td>\n",
       "      <td>2016-01-01 00:00:00</td>\n",
       "      <td>-122.268602</td>\n",
       "      <td>37.808350</td>\n",
       "      <td>-122.251371</td>\n",
       "      <td>37.844702</td>\n",
       "    </tr>\n",
       "    <tr>\n",
       "      <th>97</th>\n",
       "      <td>19TH</td>\n",
       "      <td>SANL</td>\n",
       "      <td>9</td>\n",
       "      <td>2016-01-01 00:00:00</td>\n",
       "      <td>-122.268602</td>\n",
       "      <td>37.808350</td>\n",
       "      <td>-122.160844</td>\n",
       "      <td>37.721947</td>\n",
       "    </tr>\n",
       "    <tr>\n",
       "      <th>98</th>\n",
       "      <td>19TH</td>\n",
       "      <td>SBRN</td>\n",
       "      <td>2</td>\n",
       "      <td>2016-01-01 00:00:00</td>\n",
       "      <td>-122.268602</td>\n",
       "      <td>37.808350</td>\n",
       "      <td>-122.416287</td>\n",
       "      <td>37.637761</td>\n",
       "    </tr>\n",
       "    <tr>\n",
       "      <th>99</th>\n",
       "      <td>19TH</td>\n",
       "      <td>UCTY</td>\n",
       "      <td>3</td>\n",
       "      <td>2016-01-01 00:00:00</td>\n",
       "      <td>-122.268602</td>\n",
       "      <td>37.808350</td>\n",
       "      <td>-122.017388</td>\n",
       "      <td>37.590630</td>\n",
       "    </tr>\n",
       "  </tbody>\n",
       "</table>\n",
       "<p>100 rows × 8 columns</p>\n",
       "</div>"
      ],
      "text/plain": [
       "   Origin Destination  Throughput             DateTime Longitude_Origin  \\\n",
       "0    12TH        12TH           1  2016-01-01 00:00:00      -122.271450   \n",
       "1    12TH        16TH           1  2016-01-01 00:00:00      -122.271450   \n",
       "2    12TH        24TH           4  2016-01-01 00:00:00      -122.271450   \n",
       "3    12TH        ASHB           4  2016-01-01 00:00:00      -122.271450   \n",
       "4    12TH        BALB           2  2016-01-01 00:00:00      -122.271450   \n",
       "..    ...         ...         ...                  ...              ...   \n",
       "95   19TH        RICH           1  2016-01-01 00:00:00      -122.268602   \n",
       "96   19TH        ROCK           4  2016-01-01 00:00:00      -122.268602   \n",
       "97   19TH        SANL           9  2016-01-01 00:00:00      -122.268602   \n",
       "98   19TH        SBRN           2  2016-01-01 00:00:00      -122.268602   \n",
       "99   19TH        UCTY           3  2016-01-01 00:00:00      -122.268602   \n",
       "\n",
       "   Latitude_Origin Longitude_Dest Latitude_Dest  \n",
       "0        37.803768    -122.271450     37.803768  \n",
       "1        37.803768    -122.419694     37.765062  \n",
       "2        37.803768    -122.418143     37.752470  \n",
       "3        37.803768    -122.270062     37.852803  \n",
       "4        37.803768    -122.447506     37.721585  \n",
       "..             ...            ...           ...  \n",
       "95       37.808350    -122.353099     37.936853  \n",
       "96       37.808350    -122.251371     37.844702  \n",
       "97       37.808350    -122.160844     37.721947  \n",
       "98       37.808350    -122.416287     37.637761  \n",
       "99       37.808350    -122.017388     37.590630  \n",
       "\n",
       "[100 rows x 8 columns]"
      ]
     },
     "execution_count": 26,
     "metadata": {},
     "output_type": "execute_result"
    }
   ],
   "source": [
    "df.head(100)"
   ]
  },
  {
   "cell_type": "code",
   "execution_count": 27,
   "metadata": {},
   "outputs": [
    {
     "data": {
      "text/html": [
       "<div>\n",
       "<style scoped>\n",
       "    .dataframe tbody tr th:only-of-type {\n",
       "        vertical-align: middle;\n",
       "    }\n",
       "\n",
       "    .dataframe tbody tr th {\n",
       "        vertical-align: top;\n",
       "    }\n",
       "\n",
       "    .dataframe thead th {\n",
       "        text-align: right;\n",
       "    }\n",
       "</style>\n",
       "<table border=\"1\" class=\"dataframe\">\n",
       "  <thead>\n",
       "    <tr style=\"text-align: right;\">\n",
       "      <th></th>\n",
       "      <th>Origin</th>\n",
       "      <th>Destination</th>\n",
       "      <th>Throughput</th>\n",
       "    </tr>\n",
       "  </thead>\n",
       "  <tbody>\n",
       "    <tr>\n",
       "      <th>0</th>\n",
       "      <td>12TH</td>\n",
       "      <td>12TH</td>\n",
       "      <td>1</td>\n",
       "    </tr>\n",
       "    <tr>\n",
       "      <th>1</th>\n",
       "      <td>12TH</td>\n",
       "      <td>16TH</td>\n",
       "      <td>1</td>\n",
       "    </tr>\n",
       "    <tr>\n",
       "      <th>2</th>\n",
       "      <td>12TH</td>\n",
       "      <td>24TH</td>\n",
       "      <td>4</td>\n",
       "    </tr>\n",
       "    <tr>\n",
       "      <th>3</th>\n",
       "      <td>12TH</td>\n",
       "      <td>ASHB</td>\n",
       "      <td>4</td>\n",
       "    </tr>\n",
       "    <tr>\n",
       "      <th>4</th>\n",
       "      <td>12TH</td>\n",
       "      <td>BALB</td>\n",
       "      <td>2</td>\n",
       "    </tr>\n",
       "    <tr>\n",
       "      <th>5</th>\n",
       "      <td>12TH</td>\n",
       "      <td>BAYF</td>\n",
       "      <td>2</td>\n",
       "    </tr>\n",
       "    <tr>\n",
       "      <th>6</th>\n",
       "      <td>12TH</td>\n",
       "      <td>CIVC</td>\n",
       "      <td>7</td>\n",
       "    </tr>\n",
       "    <tr>\n",
       "      <th>7</th>\n",
       "      <td>12TH</td>\n",
       "      <td>CONC</td>\n",
       "      <td>2</td>\n",
       "    </tr>\n",
       "    <tr>\n",
       "      <th>8</th>\n",
       "      <td>12TH</td>\n",
       "      <td>DBRK</td>\n",
       "      <td>6</td>\n",
       "    </tr>\n",
       "    <tr>\n",
       "      <th>9</th>\n",
       "      <td>12TH</td>\n",
       "      <td>DELN</td>\n",
       "      <td>2</td>\n",
       "    </tr>\n",
       "    <tr>\n",
       "      <th>10</th>\n",
       "      <td>12TH</td>\n",
       "      <td>DUBL</td>\n",
       "      <td>1</td>\n",
       "    </tr>\n",
       "    <tr>\n",
       "      <th>11</th>\n",
       "      <td>12TH</td>\n",
       "      <td>EMBR</td>\n",
       "      <td>2</td>\n",
       "    </tr>\n",
       "    <tr>\n",
       "      <th>12</th>\n",
       "      <td>12TH</td>\n",
       "      <td>FTVL</td>\n",
       "      <td>1</td>\n",
       "    </tr>\n",
       "    <tr>\n",
       "      <th>13</th>\n",
       "      <td>12TH</td>\n",
       "      <td>LAFY</td>\n",
       "      <td>4</td>\n",
       "    </tr>\n",
       "    <tr>\n",
       "      <th>14</th>\n",
       "      <td>12TH</td>\n",
       "      <td>LAKE</td>\n",
       "      <td>2</td>\n",
       "    </tr>\n",
       "    <tr>\n",
       "      <th>15</th>\n",
       "      <td>12TH</td>\n",
       "      <td>MCAR</td>\n",
       "      <td>13</td>\n",
       "    </tr>\n",
       "    <tr>\n",
       "      <th>16</th>\n",
       "      <td>12TH</td>\n",
       "      <td>MONT</td>\n",
       "      <td>23</td>\n",
       "    </tr>\n",
       "    <tr>\n",
       "      <th>17</th>\n",
       "      <td>12TH</td>\n",
       "      <td>NBRK</td>\n",
       "      <td>5</td>\n",
       "    </tr>\n",
       "    <tr>\n",
       "      <th>18</th>\n",
       "      <td>12TH</td>\n",
       "      <td>ORIN</td>\n",
       "      <td>3</td>\n",
       "    </tr>\n",
       "    <tr>\n",
       "      <th>19</th>\n",
       "      <td>12TH</td>\n",
       "      <td>PHIL</td>\n",
       "      <td>3</td>\n",
       "    </tr>\n",
       "    <tr>\n",
       "      <th>20</th>\n",
       "      <td>12TH</td>\n",
       "      <td>PITT</td>\n",
       "      <td>2</td>\n",
       "    </tr>\n",
       "    <tr>\n",
       "      <th>21</th>\n",
       "      <td>12TH</td>\n",
       "      <td>PLZA</td>\n",
       "      <td>3</td>\n",
       "    </tr>\n",
       "    <tr>\n",
       "      <th>22</th>\n",
       "      <td>12TH</td>\n",
       "      <td>POWL</td>\n",
       "      <td>7</td>\n",
       "    </tr>\n",
       "    <tr>\n",
       "      <th>23</th>\n",
       "      <td>12TH</td>\n",
       "      <td>ROCK</td>\n",
       "      <td>2</td>\n",
       "    </tr>\n",
       "    <tr>\n",
       "      <th>24</th>\n",
       "      <td>12TH</td>\n",
       "      <td>SANL</td>\n",
       "      <td>3</td>\n",
       "    </tr>\n",
       "    <tr>\n",
       "      <th>25</th>\n",
       "      <td>12TH</td>\n",
       "      <td>SBRN</td>\n",
       "      <td>2</td>\n",
       "    </tr>\n",
       "    <tr>\n",
       "      <th>26</th>\n",
       "      <td>12TH</td>\n",
       "      <td>SHAY</td>\n",
       "      <td>5</td>\n",
       "    </tr>\n",
       "    <tr>\n",
       "      <th>27</th>\n",
       "      <td>12TH</td>\n",
       "      <td>WCRK</td>\n",
       "      <td>2</td>\n",
       "    </tr>\n",
       "    <tr>\n",
       "      <th>28</th>\n",
       "      <td>12TH</td>\n",
       "      <td>WOAK</td>\n",
       "      <td>4</td>\n",
       "    </tr>\n",
       "    <tr>\n",
       "      <th>29</th>\n",
       "      <td>16TH</td>\n",
       "      <td>12TH</td>\n",
       "      <td>9</td>\n",
       "    </tr>\n",
       "  </tbody>\n",
       "</table>\n",
       "</div>"
      ],
      "text/plain": [
       "   Origin Destination  Throughput\n",
       "0    12TH        12TH           1\n",
       "1    12TH        16TH           1\n",
       "2    12TH        24TH           4\n",
       "3    12TH        ASHB           4\n",
       "4    12TH        BALB           2\n",
       "5    12TH        BAYF           2\n",
       "6    12TH        CIVC           7\n",
       "7    12TH        CONC           2\n",
       "8    12TH        DBRK           6\n",
       "9    12TH        DELN           2\n",
       "10   12TH        DUBL           1\n",
       "11   12TH        EMBR           2\n",
       "12   12TH        FTVL           1\n",
       "13   12TH        LAFY           4\n",
       "14   12TH        LAKE           2\n",
       "15   12TH        MCAR          13\n",
       "16   12TH        MONT          23\n",
       "17   12TH        NBRK           5\n",
       "18   12TH        ORIN           3\n",
       "19   12TH        PHIL           3\n",
       "20   12TH        PITT           2\n",
       "21   12TH        PLZA           3\n",
       "22   12TH        POWL           7\n",
       "23   12TH        ROCK           2\n",
       "24   12TH        SANL           3\n",
       "25   12TH        SBRN           2\n",
       "26   12TH        SHAY           5\n",
       "27   12TH        WCRK           2\n",
       "28   12TH        WOAK           4\n",
       "29   16TH        12TH           9"
      ]
     },
     "execution_count": 27,
     "metadata": {},
     "output_type": "execute_result"
    }
   ],
   "source": [
    "df_through = df[df.columns[0:3]]\n",
    "df_through.head(30)"
   ]
  },
  {
   "cell_type": "code",
   "execution_count": 28,
   "metadata": {},
   "outputs": [],
   "source": [
    "df_though_sums_origin = pd.DataFrame(df_through.drop('Destination', axis=1).groupby('Origin', as_index=False)['Throughput'].sum())\n",
    "df_though_sums_dest = pd.DataFrame(df_through.drop('Origin', axis=1).groupby('Destination', as_index=False)['Throughput'].sum())"
   ]
  },
  {
   "cell_type": "code",
   "execution_count": 29,
   "metadata": {},
   "outputs": [],
   "source": [
    "df_though_sums_origin.rename(columns={'Origin': 'Station','Throughput': 'Origin_Through'}, inplace=True)"
   ]
  },
  {
   "cell_type": "code",
   "execution_count": 30,
   "metadata": {},
   "outputs": [],
   "source": [
    "df_though_sums_dest.rename(columns={'Destination': 'Station','Throughput': 'Dest_Through'}, inplace=True)"
   ]
  },
  {
   "cell_type": "code",
   "execution_count": 31,
   "metadata": {},
   "outputs": [
    {
     "data": {
      "text/html": [
       "<div>\n",
       "<style scoped>\n",
       "    .dataframe tbody tr th:only-of-type {\n",
       "        vertical-align: middle;\n",
       "    }\n",
       "\n",
       "    .dataframe tbody tr th {\n",
       "        vertical-align: top;\n",
       "    }\n",
       "\n",
       "    .dataframe thead th {\n",
       "        text-align: right;\n",
       "    }\n",
       "</style>\n",
       "<table border=\"1\" class=\"dataframe\">\n",
       "  <thead>\n",
       "    <tr style=\"text-align: right;\">\n",
       "      <th></th>\n",
       "      <th>Station</th>\n",
       "      <th>Origin_Through</th>\n",
       "      <th>Dest_Through</th>\n",
       "    </tr>\n",
       "  </thead>\n",
       "  <tbody>\n",
       "    <tr>\n",
       "      <th>0</th>\n",
       "      <td>12TH</td>\n",
       "      <td>5322811</td>\n",
       "      <td>5391954</td>\n",
       "    </tr>\n",
       "    <tr>\n",
       "      <th>1</th>\n",
       "      <td>16TH</td>\n",
       "      <td>5365000</td>\n",
       "      <td>5384505</td>\n",
       "    </tr>\n",
       "    <tr>\n",
       "      <th>2</th>\n",
       "      <td>19TH</td>\n",
       "      <td>5213690</td>\n",
       "      <td>5179220</td>\n",
       "    </tr>\n",
       "    <tr>\n",
       "      <th>3</th>\n",
       "      <td>24TH</td>\n",
       "      <td>5459492</td>\n",
       "      <td>5303096</td>\n",
       "    </tr>\n",
       "    <tr>\n",
       "      <th>4</th>\n",
       "      <td>ASHB</td>\n",
       "      <td>2297869</td>\n",
       "      <td>2219566</td>\n",
       "    </tr>\n",
       "  </tbody>\n",
       "</table>\n",
       "</div>"
      ],
      "text/plain": [
       "  Station  Origin_Through  Dest_Through\n",
       "0    12TH         5322811       5391954\n",
       "1    16TH         5365000       5384505\n",
       "2    19TH         5213690       5179220\n",
       "3    24TH         5459492       5303096\n",
       "4    ASHB         2297869       2219566"
      ]
     },
     "execution_count": 31,
     "metadata": {},
     "output_type": "execute_result"
    }
   ],
   "source": [
    "df_though_sums = pd.merge(df_though_sums_origin, df_though_sums_dest, on='Station')\n",
    "df_though_sums.head()"
   ]
  },
  {
   "cell_type": "code",
   "execution_count": 32,
   "metadata": {},
   "outputs": [],
   "source": [
    "df_though_sums['Total_Through'] = df_though_sums['Origin_Through'] + df_though_sums['Dest_Through']"
   ]
  },
  {
   "cell_type": "code",
   "execution_count": 33,
   "metadata": {},
   "outputs": [
    {
     "data": {
      "text/html": [
       "<div>\n",
       "<style scoped>\n",
       "    .dataframe tbody tr th:only-of-type {\n",
       "        vertical-align: middle;\n",
       "    }\n",
       "\n",
       "    .dataframe tbody tr th {\n",
       "        vertical-align: top;\n",
       "    }\n",
       "\n",
       "    .dataframe thead th {\n",
       "        text-align: right;\n",
       "    }\n",
       "</style>\n",
       "<table border=\"1\" class=\"dataframe\">\n",
       "  <thead>\n",
       "    <tr style=\"text-align: right;\">\n",
       "      <th></th>\n",
       "      <th>Station</th>\n",
       "      <th>Origin_Through</th>\n",
       "      <th>Dest_Through</th>\n",
       "      <th>Total_Through</th>\n",
       "    </tr>\n",
       "  </thead>\n",
       "  <tbody>\n",
       "    <tr>\n",
       "      <th>0</th>\n",
       "      <td>12TH</td>\n",
       "      <td>5322811</td>\n",
       "      <td>5391954</td>\n",
       "      <td>10714765</td>\n",
       "    </tr>\n",
       "    <tr>\n",
       "      <th>1</th>\n",
       "      <td>16TH</td>\n",
       "      <td>5365000</td>\n",
       "      <td>5384505</td>\n",
       "      <td>10749505</td>\n",
       "    </tr>\n",
       "    <tr>\n",
       "      <th>2</th>\n",
       "      <td>19TH</td>\n",
       "      <td>5213690</td>\n",
       "      <td>5179220</td>\n",
       "      <td>10392910</td>\n",
       "    </tr>\n",
       "    <tr>\n",
       "      <th>3</th>\n",
       "      <td>24TH</td>\n",
       "      <td>5459492</td>\n",
       "      <td>5303096</td>\n",
       "      <td>10762588</td>\n",
       "    </tr>\n",
       "    <tr>\n",
       "      <th>4</th>\n",
       "      <td>ASHB</td>\n",
       "      <td>2297869</td>\n",
       "      <td>2219566</td>\n",
       "      <td>4517435</td>\n",
       "    </tr>\n",
       "  </tbody>\n",
       "</table>\n",
       "</div>"
      ],
      "text/plain": [
       "  Station  Origin_Through  Dest_Through  Total_Through\n",
       "0    12TH         5322811       5391954       10714765\n",
       "1    16TH         5365000       5384505       10749505\n",
       "2    19TH         5213690       5179220       10392910\n",
       "3    24TH         5459492       5303096       10762588\n",
       "4    ASHB         2297869       2219566        4517435"
      ]
     },
     "execution_count": 33,
     "metadata": {},
     "output_type": "execute_result"
    }
   ],
   "source": [
    "df_though_sums.head()"
   ]
  },
  {
   "cell_type": "code",
   "execution_count": 34,
   "metadata": {},
   "outputs": [],
   "source": [
    "df_though_sums.drop(['Origin_Through', 'Dest_Through'], axis=1, inplace=True)"
   ]
  },
  {
   "cell_type": "markdown",
   "metadata": {},
   "source": [
    "#### So, the Station with the most Throughput is 'EMBR' - Embarcadero"
   ]
  },
  {
   "cell_type": "code",
   "execution_count": 35,
   "metadata": {},
   "outputs": [
    {
     "data": {
      "text/html": [
       "<div>\n",
       "<style scoped>\n",
       "    .dataframe tbody tr th:only-of-type {\n",
       "        vertical-align: middle;\n",
       "    }\n",
       "\n",
       "    .dataframe tbody tr th {\n",
       "        vertical-align: top;\n",
       "    }\n",
       "\n",
       "    .dataframe thead th {\n",
       "        text-align: right;\n",
       "    }\n",
       "</style>\n",
       "<table border=\"1\" class=\"dataframe\">\n",
       "  <thead>\n",
       "    <tr style=\"text-align: right;\">\n",
       "      <th></th>\n",
       "      <th>Station</th>\n",
       "      <th>Total_Through</th>\n",
       "    </tr>\n",
       "  </thead>\n",
       "  <tbody>\n",
       "    <tr>\n",
       "      <th>16</th>\n",
       "      <td>EMBR</td>\n",
       "      <td>34076644</td>\n",
       "    </tr>\n",
       "    <tr>\n",
       "      <th>25</th>\n",
       "      <td>MONT</td>\n",
       "      <td>33063895</td>\n",
       "    </tr>\n",
       "    <tr>\n",
       "      <th>33</th>\n",
       "      <td>POWL</td>\n",
       "      <td>26593039</td>\n",
       "    </tr>\n",
       "    <tr>\n",
       "      <th>8</th>\n",
       "      <td>CIVC</td>\n",
       "      <td>19536703</td>\n",
       "    </tr>\n",
       "    <tr>\n",
       "      <th>13</th>\n",
       "      <td>DBRK</td>\n",
       "      <td>10806360</td>\n",
       "    </tr>\n",
       "    <tr>\n",
       "      <th>3</th>\n",
       "      <td>24TH</td>\n",
       "      <td>10762588</td>\n",
       "    </tr>\n",
       "    <tr>\n",
       "      <th>1</th>\n",
       "      <td>16TH</td>\n",
       "      <td>10749505</td>\n",
       "    </tr>\n",
       "    <tr>\n",
       "      <th>0</th>\n",
       "      <td>12TH</td>\n",
       "      <td>10714765</td>\n",
       "    </tr>\n",
       "    <tr>\n",
       "      <th>2</th>\n",
       "      <td>19TH</td>\n",
       "      <td>10392910</td>\n",
       "    </tr>\n",
       "    <tr>\n",
       "      <th>5</th>\n",
       "      <td>BALB</td>\n",
       "      <td>9070671</td>\n",
       "    </tr>\n",
       "  </tbody>\n",
       "</table>\n",
       "</div>"
      ],
      "text/plain": [
       "   Station  Total_Through\n",
       "16    EMBR       34076644\n",
       "25    MONT       33063895\n",
       "33    POWL       26593039\n",
       "8     CIVC       19536703\n",
       "13    DBRK       10806360\n",
       "3     24TH       10762588\n",
       "1     16TH       10749505\n",
       "0     12TH       10714765\n",
       "2     19TH       10392910\n",
       "5     BALB        9070671"
      ]
     },
     "execution_count": 35,
     "metadata": {},
     "output_type": "execute_result"
    }
   ],
   "source": [
    "df_though_sums.sort_values('Total_Through', ascending=False).head(10)"
   ]
  },
  {
   "cell_type": "markdown",
   "metadata": {},
   "source": [
    "#### And the station that is least popular is 'WARM'"
   ]
  },
  {
   "cell_type": "code",
   "execution_count": 36,
   "metadata": {},
   "outputs": [
    {
     "data": {
      "text/html": [
       "<div>\n",
       "<style scoped>\n",
       "    .dataframe tbody tr th:only-of-type {\n",
       "        vertical-align: middle;\n",
       "    }\n",
       "\n",
       "    .dataframe tbody tr th {\n",
       "        vertical-align: top;\n",
       "    }\n",
       "\n",
       "    .dataframe thead th {\n",
       "        text-align: right;\n",
       "    }\n",
       "</style>\n",
       "<table border=\"1\" class=\"dataframe\">\n",
       "  <thead>\n",
       "    <tr style=\"text-align: right;\">\n",
       "      <th></th>\n",
       "      <th>Station</th>\n",
       "      <th>Total_Through</th>\n",
       "    </tr>\n",
       "  </thead>\n",
       "  <tbody>\n",
       "    <tr>\n",
       "      <th>37</th>\n",
       "      <td>SBRN</td>\n",
       "      <td>3081435</td>\n",
       "    </tr>\n",
       "    <tr>\n",
       "      <th>21</th>\n",
       "      <td>LAFY</td>\n",
       "      <td>2909804</td>\n",
       "    </tr>\n",
       "    <tr>\n",
       "      <th>40</th>\n",
       "      <td>SSAN</td>\n",
       "      <td>2870021</td>\n",
       "    </tr>\n",
       "    <tr>\n",
       "      <th>44</th>\n",
       "      <td>WDUB</td>\n",
       "      <td>2866915</td>\n",
       "    </tr>\n",
       "    <tr>\n",
       "      <th>39</th>\n",
       "      <td>SHAY</td>\n",
       "      <td>2427717</td>\n",
       "    </tr>\n",
       "    <tr>\n",
       "      <th>29</th>\n",
       "      <td>ORIN</td>\n",
       "      <td>2394412</td>\n",
       "    </tr>\n",
       "    <tr>\n",
       "      <th>7</th>\n",
       "      <td>CAST</td>\n",
       "      <td>2375800</td>\n",
       "    </tr>\n",
       "    <tr>\n",
       "      <th>27</th>\n",
       "      <td>NCON</td>\n",
       "      <td>2162392</td>\n",
       "    </tr>\n",
       "    <tr>\n",
       "      <th>28</th>\n",
       "      <td>OAKL</td>\n",
       "      <td>1320157</td>\n",
       "    </tr>\n",
       "    <tr>\n",
       "      <th>42</th>\n",
       "      <td>WARM</td>\n",
       "      <td>163509</td>\n",
       "    </tr>\n",
       "  </tbody>\n",
       "</table>\n",
       "</div>"
      ],
      "text/plain": [
       "   Station  Total_Through\n",
       "37    SBRN        3081435\n",
       "21    LAFY        2909804\n",
       "40    SSAN        2870021\n",
       "44    WDUB        2866915\n",
       "39    SHAY        2427717\n",
       "29    ORIN        2394412\n",
       "7     CAST        2375800\n",
       "27    NCON        2162392\n",
       "28    OAKL        1320157\n",
       "42    WARM         163509"
      ]
     },
     "execution_count": 36,
     "metadata": {},
     "output_type": "execute_result"
    }
   ],
   "source": [
    "df_though_sums.sort_values('Total_Through', ascending=False).tail(10)"
   ]
  },
  {
   "cell_type": "markdown",
   "metadata": {},
   "source": [
    "#### Best time to go from SF to Berkeley and get a seat"
   ]
  },
  {
   "cell_type": "code",
   "execution_count": 37,
   "metadata": {},
   "outputs": [
    {
     "data": {
      "text/html": [
       "<div>\n",
       "<style scoped>\n",
       "    .dataframe tbody tr th:only-of-type {\n",
       "        vertical-align: middle;\n",
       "    }\n",
       "\n",
       "    .dataframe tbody tr th {\n",
       "        vertical-align: top;\n",
       "    }\n",
       "\n",
       "    .dataframe thead th {\n",
       "        text-align: right;\n",
       "    }\n",
       "</style>\n",
       "<table border=\"1\" class=\"dataframe\">\n",
       "  <thead>\n",
       "    <tr style=\"text-align: right;\">\n",
       "      <th></th>\n",
       "      <th>Abbreviation</th>\n",
       "      <th>Description</th>\n",
       "    </tr>\n",
       "  </thead>\n",
       "  <tbody>\n",
       "    <tr>\n",
       "      <th>0</th>\n",
       "      <td>12TH</td>\n",
       "      <td>1245 Broadway, Oakland CA 94612.  12th St. Oak...</td>\n",
       "    </tr>\n",
       "    <tr>\n",
       "      <th>1</th>\n",
       "      <td>16TH</td>\n",
       "      <td>2000 Mission Street, San Francisco CA 94110.  ...</td>\n",
       "    </tr>\n",
       "    <tr>\n",
       "      <th>2</th>\n",
       "      <td>19TH</td>\n",
       "      <td>1900 Broadway, Oakland CA 94612.  19th Street ...</td>\n",
       "    </tr>\n",
       "    <tr>\n",
       "      <th>3</th>\n",
       "      <td>24TH</td>\n",
       "      <td>2800 Mission Street, San Francisco CA 94110.  ...</td>\n",
       "    </tr>\n",
       "    <tr>\n",
       "      <th>4</th>\n",
       "      <td>ASHB</td>\n",
       "      <td>3100 Adeline Street, Berkeley CA 94703.  Ashby...</td>\n",
       "    </tr>\n",
       "  </tbody>\n",
       "</table>\n",
       "</div>"
      ],
      "text/plain": [
       "  Abbreviation                                        Description\n",
       "0         12TH  1245 Broadway, Oakland CA 94612.  12th St. Oak...\n",
       "1         16TH  2000 Mission Street, San Francisco CA 94110.  ...\n",
       "2         19TH  1900 Broadway, Oakland CA 94612.  19th Street ...\n",
       "3         24TH  2800 Mission Street, San Francisco CA 94110.  ...\n",
       "4         ASHB  3100 Adeline Street, Berkeley CA 94703.  Ashby..."
      ]
     },
     "execution_count": 37,
     "metadata": {},
     "output_type": "execute_result"
    }
   ],
   "source": [
    "df_station_Descriptions = df_station_info.drop(['Name', 'Longitude', 'Latitude'], axis=1)\n",
    "df_station_Descriptions.head()"
   ]
  },
  {
   "cell_type": "code",
   "execution_count": 38,
   "metadata": {},
   "outputs": [],
   "source": [
    "df_station_in_SF_Berk = pd.DataFrame(df_station_Descriptions['Abbreviation'])\n",
    "df_station_in_SF_Berk.rename(columns={'Abbreviation': 'Station'}, inplace=True)\n",
    "df_station_in_SF_Berk['San_Francisco'] = df_station_Descriptions['Description'].str.contains('Francisco').replace([True, False], [1,0])\n",
    "df_station_in_SF_Berk['Berkeley'] = df_station_Descriptions['Description'].str.contains('Berkeley').replace([True, False], [1,0])\n"
   ]
  },
  {
   "cell_type": "code",
   "execution_count": 39,
   "metadata": {},
   "outputs": [
    {
     "data": {
      "text/html": [
       "<div>\n",
       "<style scoped>\n",
       "    .dataframe tbody tr th:only-of-type {\n",
       "        vertical-align: middle;\n",
       "    }\n",
       "\n",
       "    .dataframe tbody tr th {\n",
       "        vertical-align: top;\n",
       "    }\n",
       "\n",
       "    .dataframe thead th {\n",
       "        text-align: right;\n",
       "    }\n",
       "</style>\n",
       "<table border=\"1\" class=\"dataframe\">\n",
       "  <thead>\n",
       "    <tr style=\"text-align: right;\">\n",
       "      <th></th>\n",
       "      <th>Station</th>\n",
       "      <th>San_Francisco</th>\n",
       "      <th>Berkeley</th>\n",
       "    </tr>\n",
       "  </thead>\n",
       "  <tbody>\n",
       "    <tr>\n",
       "      <th>0</th>\n",
       "      <td>12TH</td>\n",
       "      <td>0</td>\n",
       "      <td>0</td>\n",
       "    </tr>\n",
       "    <tr>\n",
       "      <th>1</th>\n",
       "      <td>16TH</td>\n",
       "      <td>1</td>\n",
       "      <td>0</td>\n",
       "    </tr>\n",
       "    <tr>\n",
       "      <th>2</th>\n",
       "      <td>19TH</td>\n",
       "      <td>0</td>\n",
       "      <td>0</td>\n",
       "    </tr>\n",
       "    <tr>\n",
       "      <th>3</th>\n",
       "      <td>24TH</td>\n",
       "      <td>1</td>\n",
       "      <td>0</td>\n",
       "    </tr>\n",
       "    <tr>\n",
       "      <th>4</th>\n",
       "      <td>ASHB</td>\n",
       "      <td>0</td>\n",
       "      <td>1</td>\n",
       "    </tr>\n",
       "  </tbody>\n",
       "</table>\n",
       "</div>"
      ],
      "text/plain": [
       "  Station  San_Francisco  Berkeley\n",
       "0    12TH              0         0\n",
       "1    16TH              1         0\n",
       "2    19TH              0         0\n",
       "3    24TH              1         0\n",
       "4    ASHB              0         1"
      ]
     },
     "execution_count": 39,
     "metadata": {},
     "output_type": "execute_result"
    }
   ],
   "source": [
    "df_station_in_SF_Berk.head()"
   ]
  },
  {
   "cell_type": "code",
   "execution_count": 40,
   "metadata": {},
   "outputs": [],
   "source": [
    "df_berk = df_station_in_SF_Berk[df_station_in_SF_Berk['Berkeley'] == 1].drop('San_Francisco', axis=1)\n",
    "berkeley_stations = list(df_berk['Station'])"
   ]
  },
  {
   "cell_type": "code",
   "execution_count": 41,
   "metadata": {},
   "outputs": [],
   "source": [
    "df_sanfran = df_station_in_SF_Berk[df_station_in_SF_Berk['San_Francisco'] == 1].drop('Berkeley', axis=1)\n",
    "sanfran_stations = list(df_sanfran['Station'])"
   ]
  },
  {
   "cell_type": "code",
   "execution_count": 42,
   "metadata": {},
   "outputs": [],
   "source": [
    "df_time = df.iloc[:,0:4]"
   ]
  },
  {
   "cell_type": "code",
   "execution_count": 43,
   "metadata": {},
   "outputs": [
    {
     "data": {
      "text/html": [
       "<div>\n",
       "<style scoped>\n",
       "    .dataframe tbody tr th:only-of-type {\n",
       "        vertical-align: middle;\n",
       "    }\n",
       "\n",
       "    .dataframe tbody tr th {\n",
       "        vertical-align: top;\n",
       "    }\n",
       "\n",
       "    .dataframe thead th {\n",
       "        text-align: right;\n",
       "    }\n",
       "</style>\n",
       "<table border=\"1\" class=\"dataframe\">\n",
       "  <thead>\n",
       "    <tr style=\"text-align: right;\">\n",
       "      <th></th>\n",
       "      <th>Origin</th>\n",
       "      <th>Destination</th>\n",
       "      <th>Throughput</th>\n",
       "      <th>DateTime</th>\n",
       "    </tr>\n",
       "  </thead>\n",
       "  <tbody>\n",
       "    <tr>\n",
       "      <th>0</th>\n",
       "      <td>12TH</td>\n",
       "      <td>12TH</td>\n",
       "      <td>1</td>\n",
       "      <td>2016-01-01 00:00:00</td>\n",
       "    </tr>\n",
       "    <tr>\n",
       "      <th>1</th>\n",
       "      <td>12TH</td>\n",
       "      <td>16TH</td>\n",
       "      <td>1</td>\n",
       "      <td>2016-01-01 00:00:00</td>\n",
       "    </tr>\n",
       "    <tr>\n",
       "      <th>2</th>\n",
       "      <td>12TH</td>\n",
       "      <td>24TH</td>\n",
       "      <td>4</td>\n",
       "      <td>2016-01-01 00:00:00</td>\n",
       "    </tr>\n",
       "    <tr>\n",
       "      <th>3</th>\n",
       "      <td>12TH</td>\n",
       "      <td>ASHB</td>\n",
       "      <td>4</td>\n",
       "      <td>2016-01-01 00:00:00</td>\n",
       "    </tr>\n",
       "    <tr>\n",
       "      <th>4</th>\n",
       "      <td>12TH</td>\n",
       "      <td>BALB</td>\n",
       "      <td>2</td>\n",
       "      <td>2016-01-01 00:00:00</td>\n",
       "    </tr>\n",
       "  </tbody>\n",
       "</table>\n",
       "</div>"
      ],
      "text/plain": [
       "  Origin Destination  Throughput             DateTime\n",
       "0   12TH        12TH           1  2016-01-01 00:00:00\n",
       "1   12TH        16TH           1  2016-01-01 00:00:00\n",
       "2   12TH        24TH           4  2016-01-01 00:00:00\n",
       "3   12TH        ASHB           4  2016-01-01 00:00:00\n",
       "4   12TH        BALB           2  2016-01-01 00:00:00"
      ]
     },
     "execution_count": 43,
     "metadata": {},
     "output_type": "execute_result"
    }
   ],
   "source": [
    "df_time.head()"
   ]
  },
  {
   "cell_type": "code",
   "execution_count": 44,
   "metadata": {},
   "outputs": [
    {
     "data": {
      "text/html": [
       "<div>\n",
       "<style scoped>\n",
       "    .dataframe tbody tr th:only-of-type {\n",
       "        vertical-align: middle;\n",
       "    }\n",
       "\n",
       "    .dataframe tbody tr th {\n",
       "        vertical-align: top;\n",
       "    }\n",
       "\n",
       "    .dataframe thead th {\n",
       "        text-align: right;\n",
       "    }\n",
       "</style>\n",
       "<table border=\"1\" class=\"dataframe\">\n",
       "  <thead>\n",
       "    <tr style=\"text-align: right;\">\n",
       "      <th></th>\n",
       "      <th>Origin</th>\n",
       "      <th>Destination</th>\n",
       "      <th>Throughput</th>\n",
       "      <th>DateTime</th>\n",
       "    </tr>\n",
       "  </thead>\n",
       "  <tbody>\n",
       "    <tr>\n",
       "      <th>3313594</th>\n",
       "      <td>WOAK</td>\n",
       "      <td>ASHB</td>\n",
       "      <td>1</td>\n",
       "      <td>2017-05-03 23:00:00</td>\n",
       "    </tr>\n",
       "    <tr>\n",
       "      <th>2541381</th>\n",
       "      <td>GLEN</td>\n",
       "      <td>NBRK</td>\n",
       "      <td>1</td>\n",
       "      <td>2016-04-03 10:00:00</td>\n",
       "    </tr>\n",
       "    <tr>\n",
       "      <th>2541363</th>\n",
       "      <td>GLEN</td>\n",
       "      <td>ASHB</td>\n",
       "      <td>1</td>\n",
       "      <td>2016-04-03 10:00:00</td>\n",
       "    </tr>\n",
       "    <tr>\n",
       "      <th>8560674</th>\n",
       "      <td>SFIA</td>\n",
       "      <td>PLZA</td>\n",
       "      <td>1</td>\n",
       "      <td>2016-11-09 00:00:00</td>\n",
       "    </tr>\n",
       "    <tr>\n",
       "      <th>8560688</th>\n",
       "      <td>SSAN</td>\n",
       "      <td>ASHB</td>\n",
       "      <td>1</td>\n",
       "      <td>2016-11-09 00:00:00</td>\n",
       "    </tr>\n",
       "  </tbody>\n",
       "</table>\n",
       "</div>"
      ],
      "text/plain": [
       "        Origin Destination  Throughput             DateTime\n",
       "3313594   WOAK        ASHB           1  2017-05-03 23:00:00\n",
       "2541381   GLEN        NBRK           1  2016-04-03 10:00:00\n",
       "2541363   GLEN        ASHB           1  2016-04-03 10:00:00\n",
       "8560674   SFIA        PLZA           1  2016-11-09 00:00:00\n",
       "8560688   SSAN        ASHB           1  2016-11-09 00:00:00"
      ]
     },
     "execution_count": 44,
     "metadata": {},
     "output_type": "execute_result"
    }
   ],
   "source": [
    "df_best_throughput = df_time[(df_time['Destination'].isin(berkeley_stations)) & (df_time['Origin'].isin(sanfran_stations))].sort_values('Throughput', ascending=True)\n",
    "df_best_throughput.head()"
   ]
  },
  {
   "cell_type": "code",
   "execution_count": 45,
   "metadata": {},
   "outputs": [
    {
     "data": {
      "image/png": "[encoded data removed]",
      "text/plain": [
       "<Figure size 432x288 with 1 Axes>"
      ]
     },
     "metadata": {
      "needs_background": "light"
     },
     "output_type": "display_data"
    }
   ],
   "source": [
    "df_best_throughput['Throughput'].hist(bins = 100)\n",
    "plt.show()"
   ]
  },
  {
   "cell_type": "markdown",
   "metadata": {},
   "source": [
    "#### If there are at least 200 seats.."
   ]
  },
  {
   "cell_type": "code",
   "execution_count": 46,
   "metadata": {},
   "outputs": [
    {
     "data": {
      "text/plain": [
       "(351477, 4)"
      ]
     },
     "execution_count": 46,
     "metadata": {},
     "output_type": "execute_result"
    }
   ],
   "source": [
    "#df_best_throughput = df_best_throughput[df_best_throughput['Throughput'] < 200]\n",
    "#df_best_throughput['Throughput'] = np.log(df_best_throughput['Throughput'])\n",
    "df_best_throughput.shape"
   ]
  },
  {
   "cell_type": "code",
   "execution_count": 47,
   "metadata": {},
   "outputs": [
    {
     "data": {
      "image/png": "[encoded data removed]",
      "text/plain": [
       "<Figure size 432x288 with 1 Axes>"
      ]
     },
     "metadata": {
      "needs_background": "light"
     },
     "output_type": "display_data"
    }
   ],
   "source": [
    "df_best_throughput['Throughput'].hist(bins = 100)\n",
    "plt.show()"
   ]
  },
  {
   "cell_type": "code",
   "execution_count": 48,
   "metadata": {},
   "outputs": [
    {
     "data": {
      "text/html": [
       "<div>\n",
       "<style scoped>\n",
       "    .dataframe tbody tr th:only-of-type {\n",
       "        vertical-align: middle;\n",
       "    }\n",
       "\n",
       "    .dataframe tbody tr th {\n",
       "        vertical-align: top;\n",
       "    }\n",
       "\n",
       "    .dataframe thead th {\n",
       "        text-align: right;\n",
       "    }\n",
       "</style>\n",
       "<table border=\"1\" class=\"dataframe\">\n",
       "  <thead>\n",
       "    <tr style=\"text-align: right;\">\n",
       "      <th></th>\n",
       "      <th>Origin</th>\n",
       "      <th>Destination</th>\n",
       "      <th>Throughput</th>\n",
       "      <th>DateTime</th>\n",
       "    </tr>\n",
       "  </thead>\n",
       "  <tbody>\n",
       "    <tr>\n",
       "      <th>3313594</th>\n",
       "      <td>WOAK</td>\n",
       "      <td>ASHB</td>\n",
       "      <td>1</td>\n",
       "      <td>2017-05-03 23:00:00</td>\n",
       "    </tr>\n",
       "    <tr>\n",
       "      <th>2541381</th>\n",
       "      <td>GLEN</td>\n",
       "      <td>NBRK</td>\n",
       "      <td>1</td>\n",
       "      <td>2016-04-03 10:00:00</td>\n",
       "    </tr>\n",
       "    <tr>\n",
       "      <th>2541363</th>\n",
       "      <td>GLEN</td>\n",
       "      <td>ASHB</td>\n",
       "      <td>1</td>\n",
       "      <td>2016-04-03 10:00:00</td>\n",
       "    </tr>\n",
       "    <tr>\n",
       "      <th>8560674</th>\n",
       "      <td>SFIA</td>\n",
       "      <td>PLZA</td>\n",
       "      <td>1</td>\n",
       "      <td>2016-11-09 00:00:00</td>\n",
       "    </tr>\n",
       "    <tr>\n",
       "      <th>8560688</th>\n",
       "      <td>SSAN</td>\n",
       "      <td>ASHB</td>\n",
       "      <td>1</td>\n",
       "      <td>2016-11-09 00:00:00</td>\n",
       "    </tr>\n",
       "  </tbody>\n",
       "</table>\n",
       "</div>"
      ],
      "text/plain": [
       "        Origin Destination  Throughput             DateTime\n",
       "3313594   WOAK        ASHB           1  2017-05-03 23:00:00\n",
       "2541381   GLEN        NBRK           1  2016-04-03 10:00:00\n",
       "2541363   GLEN        ASHB           1  2016-04-03 10:00:00\n",
       "8560674   SFIA        PLZA           1  2016-11-09 00:00:00\n",
       "8560688   SSAN        ASHB           1  2016-11-09 00:00:00"
      ]
     },
     "execution_count": 48,
     "metadata": {},
     "output_type": "execute_result"
    }
   ],
   "source": [
    "df_best_throughput.head()"
   ]
  },
  {
   "cell_type": "code",
   "execution_count": 49,
   "metadata": {},
   "outputs": [
    {
     "name": "stdout",
     "output_type": "stream",
     "text": [
      "<class 'pandas.core.frame.DataFrame'>\n",
      "Int64Index: 351477 entries, 3313594 to 5743538\n",
      "Data columns (total 4 columns):\n",
      "Origin         351477 non-null object\n",
      "Destination    351477 non-null object\n",
      "Throughput     351477 non-null int64\n",
      "DateTime       351477 non-null object\n",
      "dtypes: int64(1), object(3)\n",
      "memory usage: 13.4+ MB\n"
     ]
    }
   ],
   "source": [
    "df_best_throughput.info()"
   ]
  },
  {
   "cell_type": "code",
   "execution_count": 50,
   "metadata": {},
   "outputs": [],
   "source": [
    "df_best_throughput['DateTime'] = pd.to_datetime(df_best_throughput['DateTime'])"
   ]
  },
  {
   "cell_type": "code",
   "execution_count": 51,
   "metadata": {},
   "outputs": [],
   "source": [
    "df_best_throughput['day'] = df_best_throughput['DateTime'].apply(lambda x: x.weekday())\n",
    "df_best_throughput['hour'] = df_best_throughput['DateTime'].apply(lambda x: x.hour)\n",
    "df_best_throughput['month'] = df_best_throughput['DateTime'].apply(lambda x: x.month)\n",
    "#df_best_throughput['Throughput'] = np.exp(df_best_throughput['Throughput'])"
   ]
  },
  {
   "cell_type": "code",
   "execution_count": 52,
   "metadata": {},
   "outputs": [
    {
     "data": {
      "text/html": [
       "<div>\n",
       "<style scoped>\n",
       "    .dataframe tbody tr th:only-of-type {\n",
       "        vertical-align: middle;\n",
       "    }\n",
       "\n",
       "    .dataframe tbody tr th {\n",
       "        vertical-align: top;\n",
       "    }\n",
       "\n",
       "    .dataframe thead th {\n",
       "        text-align: right;\n",
       "    }\n",
       "</style>\n",
       "<table border=\"1\" class=\"dataframe\">\n",
       "  <thead>\n",
       "    <tr style=\"text-align: right;\">\n",
       "      <th></th>\n",
       "      <th>Origin</th>\n",
       "      <th>Destination</th>\n",
       "      <th>Throughput</th>\n",
       "      <th>DateTime</th>\n",
       "      <th>day</th>\n",
       "      <th>hour</th>\n",
       "      <th>month</th>\n",
       "    </tr>\n",
       "  </thead>\n",
       "  <tbody>\n",
       "    <tr>\n",
       "      <th>3313594</th>\n",
       "      <td>WOAK</td>\n",
       "      <td>ASHB</td>\n",
       "      <td>1</td>\n",
       "      <td>2017-05-03 23:00:00</td>\n",
       "      <td>2</td>\n",
       "      <td>23</td>\n",
       "      <td>5</td>\n",
       "    </tr>\n",
       "    <tr>\n",
       "      <th>2541381</th>\n",
       "      <td>GLEN</td>\n",
       "      <td>NBRK</td>\n",
       "      <td>1</td>\n",
       "      <td>2016-04-03 10:00:00</td>\n",
       "      <td>6</td>\n",
       "      <td>10</td>\n",
       "      <td>4</td>\n",
       "    </tr>\n",
       "    <tr>\n",
       "      <th>2541363</th>\n",
       "      <td>GLEN</td>\n",
       "      <td>ASHB</td>\n",
       "      <td>1</td>\n",
       "      <td>2016-04-03 10:00:00</td>\n",
       "      <td>6</td>\n",
       "      <td>10</td>\n",
       "      <td>4</td>\n",
       "    </tr>\n",
       "    <tr>\n",
       "      <th>8560674</th>\n",
       "      <td>SFIA</td>\n",
       "      <td>PLZA</td>\n",
       "      <td>1</td>\n",
       "      <td>2016-11-09 00:00:00</td>\n",
       "      <td>2</td>\n",
       "      <td>0</td>\n",
       "      <td>11</td>\n",
       "    </tr>\n",
       "    <tr>\n",
       "      <th>8560688</th>\n",
       "      <td>SSAN</td>\n",
       "      <td>ASHB</td>\n",
       "      <td>1</td>\n",
       "      <td>2016-11-09 00:00:00</td>\n",
       "      <td>2</td>\n",
       "      <td>0</td>\n",
       "      <td>11</td>\n",
       "    </tr>\n",
       "  </tbody>\n",
       "</table>\n",
       "</div>"
      ],
      "text/plain": [
       "        Origin Destination  Throughput            DateTime  day  hour  month\n",
       "3313594   WOAK        ASHB           1 2017-05-03 23:00:00    2    23      5\n",
       "2541381   GLEN        NBRK           1 2016-04-03 10:00:00    6    10      4\n",
       "2541363   GLEN        ASHB           1 2016-04-03 10:00:00    6    10      4\n",
       "8560674   SFIA        PLZA           1 2016-11-09 00:00:00    2     0     11\n",
       "8560688   SSAN        ASHB           1 2016-11-09 00:00:00    2     0     11"
      ]
     },
     "execution_count": 52,
     "metadata": {},
     "output_type": "execute_result"
    }
   ],
   "source": [
    "df_best_throughput.head()"
   ]
  },
  {
   "cell_type": "markdown",
   "metadata": {},
   "source": [
    "#### Best Time to travel on Sunday"
   ]
  },
  {
   "cell_type": "code",
   "execution_count": 53,
   "metadata": {},
   "outputs": [
    {
     "data": {
      "image/png": "[encoded data removed]",
      "text/plain": [
       "<Figure size 432x288 with 1 Axes>"
      ]
     },
     "metadata": {
      "needs_background": "light"
     },
     "output_type": "display_data"
    }
   ],
   "source": [
    "df_best_throughput[df_best_throughput['day'] == 0]['Throughput'].hist(bins=100)\n",
    "plt.show()"
   ]
  },
  {
   "cell_type": "markdown",
   "metadata": {},
   "source": [
    "#### Plot Throughput vs Time according to the Day.  Here the red vertical line correspond to 9am and 5pm."
   ]
  },
  {
   "cell_type": "code",
   "execution_count": 54,
   "metadata": {},
   "outputs": [],
   "source": [
    "def GetMinVal9to5(df_through_grouped, Day, hour_lowerbound, hour_upperbound):\n",
    "    return df_through_grouped[(df_through_grouped['day'] == 0) & \n",
    "                       (df_through_grouped['hour'] > hour_lowerbound) &\n",
    "                       (df_through_grouped['hour'] < hour_upperbound)].sort_values('Throughput', ascending=True).iloc[0]['hour']"
   ]
  },
  {
   "cell_type": "code",
   "execution_count": 55,
   "metadata": {},
   "outputs": [],
   "source": [
    "def Plot_ThroughputvsDay(Day):\n",
    "    df_through_grouped = df_best_throughput.groupby(['day', 'hour'], as_index=False).sum()\n",
    "    plt.plot(df_through_grouped[df_through_grouped['day'] == Day]['hour'], df_through_grouped[df_through_grouped['day'] == Day]['Throughput'], '-o')\n",
    "    plt.axvline(x=9, color='r')\n",
    "    plt.axvline(x=19, color='r')\n",
    "    plt.title('Total Throughput on day ' + str(Day))\n",
    "    plt.xlabel(\"Time (hrs)\")\n",
    "    plt.ylabel(\"Throughput (unitless)\")\n",
    "    \n",
    "    plt.figtext(.2, .7, \"Best Time to \\nTravel between \\n9-7: \" + str(GetMinVal9to5(df_through_grouped, Day,9,19)))\n",
    "\n",
    "    plt.figtext(.2, .55, \"Best Time to \\nTravel: \" + str(GetMinVal9to5(df_through_grouped, Day,0,25)))\n",
    "    \n",
    "    plt.show()"
   ]
  },
  {
   "cell_type": "code",
   "execution_count": 56,
   "metadata": {
    "scrolled": false
   },
   "outputs": [
    {
     "data": {
      "image/png": "[encoded data removed]",
      "text/plain": [
       "<Figure size 432x288 with 1 Axes>"
      ]
     },
     "metadata": {
      "needs_background": "light"
     },
     "output_type": "display_data"
    },
    {
     "data": {
      "image/png": "[encoded data removed]",
      "text/plain": [
       "<Figure size 432x288 with 1 Axes>"
      ]
     },
     "metadata": {
      "needs_background": "light"
     },
     "output_type": "display_data"
    },
    {
     "data": {
      "image/png": "[encoded data removed]",
      "text/plain": [
       "<Figure size 432x288 with 1 Axes>"
      ]
     },
     "metadata": {
      "needs_background": "light"
     },
     "output_type": "display_data"
    },
    {
     "data": {
      "image/png": "[encoded data removed]",
      "text/plain": [
       "<Figure size 432x288 with 1 Axes>"
      ]
     },
     "metadata": {
      "needs_background": "light"
     },
     "output_type": "display_data"
    },
    {
     "data": {
      "image/png": "[encoded data removed]",
      "text/plain": [
       "<Figure size 432x288 with 1 Axes>"
      ]
     },
     "metadata": {
      "needs_background": "light"
     },
     "output_type": "display_data"
    },
    {
     "data": {
      "image/png": "[encoded data removed]",
      "text/plain": [
       "<Figure size 432x288 with 1 Axes>"
      ]
     },
     "metadata": {
      "needs_background": "light"
     },
     "output_type": "display_data"
    },
    {
     "data": {
      "image/png": "[encoded data removed]",
      "text/plain": [
       "<Figure size 432x288 with 1 Axes>"
      ]
     },
     "metadata": {
      "needs_background": "light"
     },
     "output_type": "display_data"
    }
   ],
   "source": [
    "for i in range(7): Plot_ThroughputvsDay(i)"
   ]
  },
  {
   "cell_type": "markdown",
   "metadata": {},
   "source": [
    "#### Which is the busiest day?   Day2 is the busiest day with a Throughput of almost 1M people.  "
   ]
  },
  {
   "cell_type": "code",
   "execution_count": 57,
   "metadata": {},
   "outputs": [
    {
     "data": {
      "text/html": [
       "<div>\n",
       "<style scoped>\n",
       "    .dataframe tbody tr th:only-of-type {\n",
       "        vertical-align: middle;\n",
       "    }\n",
       "\n",
       "    .dataframe tbody tr th {\n",
       "        vertical-align: top;\n",
       "    }\n",
       "\n",
       "    .dataframe thead th {\n",
       "        text-align: right;\n",
       "    }\n",
       "</style>\n",
       "<table border=\"1\" class=\"dataframe\">\n",
       "  <thead>\n",
       "    <tr style=\"text-align: right;\">\n",
       "      <th></th>\n",
       "      <th>day</th>\n",
       "      <th>Throughput</th>\n",
       "      <th>month</th>\n",
       "    </tr>\n",
       "  </thead>\n",
       "  <tbody>\n",
       "    <tr>\n",
       "      <th>2</th>\n",
       "      <td>2</td>\n",
       "      <td>999909</td>\n",
       "      <td>293904</td>\n",
       "    </tr>\n",
       "    <tr>\n",
       "      <th>3</th>\n",
       "      <td>3</td>\n",
       "      <td>998387</td>\n",
       "      <td>288633</td>\n",
       "    </tr>\n",
       "    <tr>\n",
       "      <th>1</th>\n",
       "      <td>1</td>\n",
       "      <td>996420</td>\n",
       "      <td>288968</td>\n",
       "    </tr>\n",
       "    <tr>\n",
       "      <th>4</th>\n",
       "      <td>4</td>\n",
       "      <td>951459</td>\n",
       "      <td>291929</td>\n",
       "    </tr>\n",
       "    <tr>\n",
       "      <th>0</th>\n",
       "      <td>0</td>\n",
       "      <td>878940</td>\n",
       "      <td>278810</td>\n",
       "    </tr>\n",
       "    <tr>\n",
       "      <th>5</th>\n",
       "      <td>5</td>\n",
       "      <td>541642</td>\n",
       "      <td>262297</td>\n",
       "    </tr>\n",
       "    <tr>\n",
       "      <th>6</th>\n",
       "      <td>6</td>\n",
       "      <td>388995</td>\n",
       "      <td>233559</td>\n",
       "    </tr>\n",
       "  </tbody>\n",
       "</table>\n",
       "</div>"
      ],
      "text/plain": [
       "   day  Throughput   month\n",
       "2    2      999909  293904\n",
       "3    3      998387  288633\n",
       "1    1      996420  288968\n",
       "4    4      951459  291929\n",
       "0    0      878940  278810\n",
       "5    5      541642  262297\n",
       "6    6      388995  233559"
      ]
     },
     "execution_count": 57,
     "metadata": {},
     "output_type": "execute_result"
    }
   ],
   "source": [
    "df_best_throughput.groupby('day', as_index=False).sum().drop('hour', axis=1).sort_values('Throughput', ascending=False)"
   ]
  },
  {
   "cell_type": "markdown",
   "metadata": {},
   "source": [
    "#### How many people take Bart at night?  If night is considered between 7pm - 7am:"
   ]
  },
  {
   "cell_type": "code",
   "execution_count": 58,
   "metadata": {},
   "outputs": [
    {
     "data": {
      "text/html": [
       "<div>\n",
       "<style scoped>\n",
       "    .dataframe tbody tr th:only-of-type {\n",
       "        vertical-align: middle;\n",
       "    }\n",
       "\n",
       "    .dataframe tbody tr th {\n",
       "        vertical-align: top;\n",
       "    }\n",
       "\n",
       "    .dataframe thead th {\n",
       "        text-align: right;\n",
       "    }\n",
       "</style>\n",
       "<table border=\"1\" class=\"dataframe\">\n",
       "  <thead>\n",
       "    <tr style=\"text-align: right;\">\n",
       "      <th></th>\n",
       "      <th>Origin</th>\n",
       "      <th>Destination</th>\n",
       "      <th>Throughput</th>\n",
       "      <th>DateTime</th>\n",
       "      <th>day</th>\n",
       "      <th>hour</th>\n",
       "      <th>month</th>\n",
       "    </tr>\n",
       "  </thead>\n",
       "  <tbody>\n",
       "    <tr>\n",
       "      <th>3313594</th>\n",
       "      <td>WOAK</td>\n",
       "      <td>ASHB</td>\n",
       "      <td>1</td>\n",
       "      <td>2017-05-03 23:00:00</td>\n",
       "      <td>2</td>\n",
       "      <td>23</td>\n",
       "      <td>5</td>\n",
       "    </tr>\n",
       "    <tr>\n",
       "      <th>2541381</th>\n",
       "      <td>GLEN</td>\n",
       "      <td>NBRK</td>\n",
       "      <td>1</td>\n",
       "      <td>2016-04-03 10:00:00</td>\n",
       "      <td>6</td>\n",
       "      <td>10</td>\n",
       "      <td>4</td>\n",
       "    </tr>\n",
       "    <tr>\n",
       "      <th>2541363</th>\n",
       "      <td>GLEN</td>\n",
       "      <td>ASHB</td>\n",
       "      <td>1</td>\n",
       "      <td>2016-04-03 10:00:00</td>\n",
       "      <td>6</td>\n",
       "      <td>10</td>\n",
       "      <td>4</td>\n",
       "    </tr>\n",
       "    <tr>\n",
       "      <th>8560674</th>\n",
       "      <td>SFIA</td>\n",
       "      <td>PLZA</td>\n",
       "      <td>1</td>\n",
       "      <td>2016-11-09 00:00:00</td>\n",
       "      <td>2</td>\n",
       "      <td>0</td>\n",
       "      <td>11</td>\n",
       "    </tr>\n",
       "    <tr>\n",
       "      <th>8560688</th>\n",
       "      <td>SSAN</td>\n",
       "      <td>ASHB</td>\n",
       "      <td>1</td>\n",
       "      <td>2016-11-09 00:00:00</td>\n",
       "      <td>2</td>\n",
       "      <td>0</td>\n",
       "      <td>11</td>\n",
       "    </tr>\n",
       "  </tbody>\n",
       "</table>\n",
       "</div>"
      ],
      "text/plain": [
       "        Origin Destination  Throughput            DateTime  day  hour  month\n",
       "3313594   WOAK        ASHB           1 2017-05-03 23:00:00    2    23      5\n",
       "2541381   GLEN        NBRK           1 2016-04-03 10:00:00    6    10      4\n",
       "2541363   GLEN        ASHB           1 2016-04-03 10:00:00    6    10      4\n",
       "8560674   SFIA        PLZA           1 2016-11-09 00:00:00    2     0     11\n",
       "8560688   SSAN        ASHB           1 2016-11-09 00:00:00    2     0     11"
      ]
     },
     "execution_count": 58,
     "metadata": {},
     "output_type": "execute_result"
    }
   ],
   "source": [
    "df_best_throughput.head()"
   ]
  },
  {
   "cell_type": "code",
   "execution_count": 59,
   "metadata": {},
   "outputs": [
    {
     "data": {
      "text/html": [
       "<div>\n",
       "<style scoped>\n",
       "    .dataframe tbody tr th:only-of-type {\n",
       "        vertical-align: middle;\n",
       "    }\n",
       "\n",
       "    .dataframe tbody tr th {\n",
       "        vertical-align: top;\n",
       "    }\n",
       "\n",
       "    .dataframe thead th {\n",
       "        text-align: right;\n",
       "    }\n",
       "</style>\n",
       "<table border=\"1\" class=\"dataframe\">\n",
       "  <thead>\n",
       "    <tr style=\"text-align: right;\">\n",
       "      <th></th>\n",
       "      <th>Throughput</th>\n",
       "      <th>month</th>\n",
       "    </tr>\n",
       "    <tr>\n",
       "      <th>day</th>\n",
       "      <th></th>\n",
       "      <th></th>\n",
       "    </tr>\n",
       "  </thead>\n",
       "  <tbody>\n",
       "    <tr>\n",
       "      <th>3</th>\n",
       "      <td>226389</td>\n",
       "      <td>100273</td>\n",
       "    </tr>\n",
       "    <tr>\n",
       "      <th>2</th>\n",
       "      <td>208534</td>\n",
       "      <td>103238</td>\n",
       "    </tr>\n",
       "    <tr>\n",
       "      <th>4</th>\n",
       "      <td>207821</td>\n",
       "      <td>100983</td>\n",
       "    </tr>\n",
       "    <tr>\n",
       "      <th>1</th>\n",
       "      <td>203615</td>\n",
       "      <td>100305</td>\n",
       "    </tr>\n",
       "    <tr>\n",
       "      <th>0</th>\n",
       "      <td>164745</td>\n",
       "      <td>94741</td>\n",
       "    </tr>\n",
       "    <tr>\n",
       "      <th>5</th>\n",
       "      <td>164633</td>\n",
       "      <td>86079</td>\n",
       "    </tr>\n",
       "    <tr>\n",
       "      <th>6</th>\n",
       "      <td>110495</td>\n",
       "      <td>70672</td>\n",
       "    </tr>\n",
       "  </tbody>\n",
       "</table>\n",
       "</div>"
      ],
      "text/plain": [
       "     Throughput   month\n",
       "day                    \n",
       "3        226389  100273\n",
       "2        208534  103238\n",
       "4        207821  100983\n",
       "1        203615  100305\n",
       "0        164745   94741\n",
       "5        164633   86079\n",
       "6        110495   70672"
      ]
     },
     "execution_count": 59,
     "metadata": {},
     "output_type": "execute_result"
    }
   ],
   "source": [
    "df_best_throughput[(df_best_throughput['hour'] < 8) | \n",
    "                   (df_best_throughput['hour'] > 19)].groupby('day').sum().drop('hour', axis = 1).sort_values('Throughput', ascending=False)"
   ]
  },
  {
   "cell_type": "code",
   "execution_count": 60,
   "metadata": {},
   "outputs": [
    {
     "data": {
      "image/png": "[encoded data removed]",
      "text/plain": [
       "<Figure size 432x288 with 1 Axes>"
      ]
     },
     "metadata": {
      "needs_background": "light"
     },
     "output_type": "display_data"
    }
   ],
   "source": [
    "plt.scatter(df_best_throughput['month'], df_best_throughput['Throughput'])\n",
    "plt.xlabel('Month')\n",
    "plt.ylabel('Throughput')\n",
    "plt.show()"
   ]
  },
  {
   "cell_type": "markdown",
   "metadata": {},
   "source": [
    "#### Straight Line Distance Between Every Station:"
   ]
  },
  {
   "cell_type": "code",
   "execution_count": 61,
   "metadata": {},
   "outputs": [],
   "source": [
    "df_straight_line = df_station_info"
   ]
  },
  {
   "cell_type": "code",
   "execution_count": 62,
   "metadata": {},
   "outputs": [],
   "source": [
    "df_straight_line.drop(['Name', 'Description'], axis=1, inplace=True)"
   ]
  },
  {
   "cell_type": "code",
   "execution_count": 63,
   "metadata": {},
   "outputs": [],
   "source": [
    "df_straight_line.rename(columns={'Abbreviation': 'Station'}, inplace=True)"
   ]
  },
  {
   "cell_type": "code",
   "execution_count": 64,
   "metadata": {},
   "outputs": [
    {
     "data": {
      "text/html": [
       "<div>\n",
       "<style scoped>\n",
       "    .dataframe tbody tr th:only-of-type {\n",
       "        vertical-align: middle;\n",
       "    }\n",
       "\n",
       "    .dataframe tbody tr th {\n",
       "        vertical-align: top;\n",
       "    }\n",
       "\n",
       "    .dataframe thead th {\n",
       "        text-align: right;\n",
       "    }\n",
       "</style>\n",
       "<table border=\"1\" class=\"dataframe\">\n",
       "  <thead>\n",
       "    <tr style=\"text-align: right;\">\n",
       "      <th></th>\n",
       "      <th>Station</th>\n",
       "      <th>Longitude</th>\n",
       "      <th>Latitude</th>\n",
       "    </tr>\n",
       "  </thead>\n",
       "  <tbody>\n",
       "    <tr>\n",
       "      <th>0</th>\n",
       "      <td>12TH</td>\n",
       "      <td>-122.271450</td>\n",
       "      <td>37.803768</td>\n",
       "    </tr>\n",
       "    <tr>\n",
       "      <th>1</th>\n",
       "      <td>16TH</td>\n",
       "      <td>-122.419694</td>\n",
       "      <td>37.765062</td>\n",
       "    </tr>\n",
       "    <tr>\n",
       "      <th>2</th>\n",
       "      <td>19TH</td>\n",
       "      <td>-122.268602</td>\n",
       "      <td>37.808350</td>\n",
       "    </tr>\n",
       "    <tr>\n",
       "      <th>3</th>\n",
       "      <td>24TH</td>\n",
       "      <td>-122.418143</td>\n",
       "      <td>37.752470</td>\n",
       "    </tr>\n",
       "    <tr>\n",
       "      <th>4</th>\n",
       "      <td>ASHB</td>\n",
       "      <td>-122.270062</td>\n",
       "      <td>37.852803</td>\n",
       "    </tr>\n",
       "  </tbody>\n",
       "</table>\n",
       "</div>"
      ],
      "text/plain": [
       "  Station    Longitude   Latitude\n",
       "0    12TH  -122.271450  37.803768\n",
       "1    16TH  -122.419694  37.765062\n",
       "2    19TH  -122.268602  37.808350\n",
       "3    24TH  -122.418143  37.752470\n",
       "4    ASHB  -122.270062  37.852803"
      ]
     },
     "execution_count": 64,
     "metadata": {},
     "output_type": "execute_result"
    }
   ],
   "source": [
    "df_straight_line.head()"
   ]
  },
  {
   "cell_type": "markdown",
   "metadata": {},
   "source": [
    "#### Returns distance between two stations in km"
   ]
  },
  {
   "cell_type": "code",
   "execution_count": 65,
   "metadata": {},
   "outputs": [],
   "source": [
    "def find_distance(df_straight_line, Station1, Station2):\n",
    "    \n",
    "    if Station1 == Station2:\n",
    "        return 0.0\n",
    "    \n",
    "    else:\n",
    "    \n",
    "        Station1_loc =  df_straight_line[df_straight_line['Station'] == Station1]['Longitude'], df_straight_line[df_straight_line['Station'] == Station1]['Latitude']\n",
    "        Station2_loc =  df_straight_line[df_straight_line['Station'] == Station2]['Longitude'], df_straight_line[df_straight_line['Station'] == Station2]['Latitude']\n",
    "    \n",
    "        Station1_loc = radians(float(Station1_loc[0])), radians(float(Station1_loc[1]))\n",
    "        Station2_loc = radians(float(Station2_loc[0])), radians(float(Station2_loc[1]))\n",
    "\n",
    "        return 6371.01 * acos(sin(Station1_loc[1])*sin(Station2_loc[1]) + cos(Station1_loc[1])*cos(Station2_loc[1])*cos(Station1_loc[0] - Station2_loc[0]))\n",
    "    \n",
    "    "
   ]
  },
  {
   "cell_type": "code",
   "execution_count": 66,
   "metadata": {},
   "outputs": [
    {
     "data": {
      "text/plain": [
       "13.720196391359398"
      ]
     },
     "execution_count": 66,
     "metadata": {},
     "output_type": "execute_result"
    }
   ],
   "source": [
    "find_distance(df_straight_line, '12TH', '16TH')"
   ]
  },
  {
   "cell_type": "code",
   "execution_count": 67,
   "metadata": {},
   "outputs": [],
   "source": [
    "df_distance = pd.DataFrame()\n",
    "\n",
    "for i in df_straight_line['Station']:\n",
    "    temp_list = []\n",
    "    \n",
    "    for j in df_straight_line['Station']:\n",
    "        temp_list.append(find_distance(df_straight_line, i, j))\n",
    "        \n",
    "    temp_series = pd.Series(temp_list, name=i)\n",
    "    df_distance[i] = temp_series\n",
    "\n",
    "df_distance.set_index(df_distance.columns.values, inplace=True) "
   ]
  },
  {
   "cell_type": "code",
   "execution_count": 68,
   "metadata": {},
   "outputs": [
    {
     "data": {
      "text/html": [
       "<div>\n",
       "<style scoped>\n",
       "    .dataframe tbody tr th:only-of-type {\n",
       "        vertical-align: middle;\n",
       "    }\n",
       "\n",
       "    .dataframe tbody tr th {\n",
       "        vertical-align: top;\n",
       "    }\n",
       "\n",
       "    .dataframe thead th {\n",
       "        text-align: right;\n",
       "    }\n",
       "</style>\n",
       "<table border=\"1\" class=\"dataframe\">\n",
       "  <thead>\n",
       "    <tr style=\"text-align: right;\">\n",
       "      <th></th>\n",
       "      <th>12TH</th>\n",
       "      <th>16TH</th>\n",
       "      <th>19TH</th>\n",
       "      <th>24TH</th>\n",
       "      <th>ASHB</th>\n",
       "      <th>BALB</th>\n",
       "      <th>BAYF</th>\n",
       "      <th>CAST</th>\n",
       "      <th>CIVC</th>\n",
       "      <th>COLS</th>\n",
       "      <th>...</th>\n",
       "      <th>SANL</th>\n",
       "      <th>SBRN</th>\n",
       "      <th>SFIA</th>\n",
       "      <th>SHAY</th>\n",
       "      <th>SSAN</th>\n",
       "      <th>UCTY</th>\n",
       "      <th>WARM</th>\n",
       "      <th>WCRK</th>\n",
       "      <th>WDUB</th>\n",
       "      <th>WOAK</th>\n",
       "    </tr>\n",
       "  </thead>\n",
       "  <tbody>\n",
       "    <tr>\n",
       "      <th>12TH</th>\n",
       "      <td>0.000000</td>\n",
       "      <td>13.720196</td>\n",
       "      <td>0.567618</td>\n",
       "      <td>14.097949</td>\n",
       "      <td>5.453814</td>\n",
       "      <td>17.972927</td>\n",
       "      <td>17.422013</td>\n",
       "      <td>21.318100</td>\n",
       "      <td>12.818568</td>\n",
       "      <td>8.602737</td>\n",
       "      <td>...</td>\n",
       "      <td>13.315767</td>\n",
       "      <td>22.428287</td>\n",
       "      <td>23.437303</td>\n",
       "      <td>26.644859</td>\n",
       "      <td>21.698762</td>\n",
       "      <td>32.578396</td>\n",
       "      <td>44.493167</td>\n",
       "      <td>21.179252</td>\n",
       "      <td>32.315126</td>\n",
       "      <td>2.084931</td>\n",
       "    </tr>\n",
       "    <tr>\n",
       "      <th>16TH</th>\n",
       "      <td>13.720196</td>\n",
       "      <td>0.000000</td>\n",
       "      <td>14.123099</td>\n",
       "      <td>1.406792</td>\n",
       "      <td>16.370249</td>\n",
       "      <td>5.417753</td>\n",
       "      <td>26.873404</td>\n",
       "      <td>31.369835</td>\n",
       "      <td>1.703139</td>\n",
       "      <td>19.629450</td>\n",
       "      <td>...</td>\n",
       "      <td>23.259727</td>\n",
       "      <td>14.158421</td>\n",
       "      <td>16.751682</td>\n",
       "      <td>35.047922</td>\n",
       "      <td>11.411757</td>\n",
       "      <td>40.370176</td>\n",
       "      <td>51.419381</td>\n",
       "      <td>34.647056</td>\n",
       "      <td>43.825057</td>\n",
       "      <td>11.806949</td>\n",
       "    </tr>\n",
       "    <tr>\n",
       "      <th>19TH</th>\n",
       "      <td>0.567618</td>\n",
       "      <td>14.123099</td>\n",
       "      <td>0.000000</td>\n",
       "      <td>14.537199</td>\n",
       "      <td>4.944619</td>\n",
       "      <td>18.449772</td>\n",
       "      <td>17.594425</td>\n",
       "      <td>21.423074</td>\n",
       "      <td>13.176725</td>\n",
       "      <td>8.759169</td>\n",
       "      <td>...</td>\n",
       "      <td>13.491808</td>\n",
       "      <td>22.989822</td>\n",
       "      <td>24.004856</td>\n",
       "      <td>26.832833</td>\n",
       "      <td>22.238519</td>\n",
       "      <td>32.780964</td>\n",
       "      <td>44.714908</td>\n",
       "      <td>20.697358</td>\n",
       "      <td>32.267762</td>\n",
       "      <td>2.363314</td>\n",
       "    </tr>\n",
       "    <tr>\n",
       "      <th>24TH</th>\n",
       "      <td>14.097949</td>\n",
       "      <td>1.406792</td>\n",
       "      <td>14.537199</td>\n",
       "      <td>0.000000</td>\n",
       "      <td>17.138605</td>\n",
       "      <td>4.296654</td>\n",
       "      <td>26.382193</td>\n",
       "      <td>30.899894</td>\n",
       "      <td>3.051927</td>\n",
       "      <td>19.454229</td>\n",
       "      <td>...</td>\n",
       "      <td>22.878982</td>\n",
       "      <td>12.756124</td>\n",
       "      <td>15.346577</td>\n",
       "      <td>34.367273</td>\n",
       "      <td>10.069648</td>\n",
       "      <td>39.597486</td>\n",
       "      <td>50.525429</td>\n",
       "      <td>35.183392</td>\n",
       "      <td>43.483391</td>\n",
       "      <td>12.280691</td>\n",
       "    </tr>\n",
       "    <tr>\n",
       "      <th>ASHB</th>\n",
       "      <td>5.453814</td>\n",
       "      <td>16.370249</td>\n",
       "      <td>4.944619</td>\n",
       "      <td>17.138605</td>\n",
       "      <td>0.000000</td>\n",
       "      <td>21.355050</td>\n",
       "      <td>21.438537</td>\n",
       "      <td>24.836583</td>\n",
       "      <td>15.038513</td>\n",
       "      <td>12.762558</td>\n",
       "      <td>...</td>\n",
       "      <td>17.430829</td>\n",
       "      <td>27.149002</td>\n",
       "      <td>28.448134</td>\n",
       "      <td>30.663654</td>\n",
       "      <td>25.948224</td>\n",
       "      <td>36.657248</td>\n",
       "      <td>48.655796</td>\n",
       "      <td>18.717561</td>\n",
       "      <td>34.527810</td>\n",
       "      <td>5.766866</td>\n",
       "    </tr>\n",
       "  </tbody>\n",
       "</table>\n",
       "<p>5 rows × 46 columns</p>\n",
       "</div>"
      ],
      "text/plain": [
       "           12TH       16TH       19TH       24TH       ASHB       BALB  \\\n",
       "12TH   0.000000  13.720196   0.567618  14.097949   5.453814  17.972927   \n",
       "16TH  13.720196   0.000000  14.123099   1.406792  16.370249   5.417753   \n",
       "19TH   0.567618  14.123099   0.000000  14.537199   4.944619  18.449772   \n",
       "24TH  14.097949   1.406792  14.537199   0.000000  17.138605   4.296654   \n",
       "ASHB   5.453814  16.370249   4.944619  17.138605   0.000000  21.355050   \n",
       "\n",
       "           BAYF       CAST       CIVC       COLS  ...       SANL       SBRN  \\\n",
       "12TH  17.422013  21.318100  12.818568   8.602737  ...  13.315767  22.428287   \n",
       "16TH  26.873404  31.369835   1.703139  19.629450  ...  23.259727  14.158421   \n",
       "19TH  17.594425  21.423074  13.176725   8.759169  ...  13.491808  22.989822   \n",
       "24TH  26.382193  30.899894   3.051927  19.454229  ...  22.878982  12.756124   \n",
       "ASHB  21.438537  24.836583  15.038513  12.762558  ...  17.430829  27.149002   \n",
       "\n",
       "           SFIA       SHAY       SSAN       UCTY       WARM       WCRK  \\\n",
       "12TH  23.437303  26.644859  21.698762  32.578396  44.493167  21.179252   \n",
       "16TH  16.751682  35.047922  11.411757  40.370176  51.419381  34.647056   \n",
       "19TH  24.004856  26.832833  22.238519  32.780964  44.714908  20.697358   \n",
       "24TH  15.346577  34.367273  10.069648  39.597486  50.525429  35.183392   \n",
       "ASHB  28.448134  30.663654  25.948224  36.657248  48.655796  18.717561   \n",
       "\n",
       "           WDUB       WOAK  \n",
       "12TH  32.315126   2.084931  \n",
       "16TH  43.825057  11.806949  \n",
       "19TH  32.267762   2.363314  \n",
       "24TH  43.483391  12.280691  \n",
       "ASHB  34.527810   5.766866  \n",
       "\n",
       "[5 rows x 46 columns]"
      ]
     },
     "execution_count": 68,
     "metadata": {},
     "output_type": "execute_result"
    }
   ],
   "source": [
    "df_distance.head()"
   ]
  },
  {
   "cell_type": "code",
   "execution_count": 69,
   "metadata": {},
   "outputs": [],
   "source": [
    "def find_distance_table(df_distance, Station1, Station2):\n",
    "    return df_distance[Station1][Station2]"
   ]
  },
  {
   "cell_type": "markdown",
   "metadata": {},
   "source": [
    "#### Predicting throughput on a given day:"
   ]
  },
  {
   "cell_type": "code",
   "execution_count": 70,
   "metadata": {},
   "outputs": [],
   "source": [
    "df_recommender = df\n",
    "df_recommender['DateTime'] = pd.to_datetime(df_recommender['DateTime'])\n",
    "df_recommender['day'] = df_recommender['DateTime'].apply(lambda x: x.weekday())\n",
    "df_recommender['hour'] = df_recommender['DateTime'].apply(lambda x: x.hour)\n",
    "df_recommender['month'] = df_recommender['DateTime'].apply(lambda x: x.month)"
   ]
  },
  {
   "cell_type": "code",
   "execution_count": 71,
   "metadata": {},
   "outputs": [],
   "source": [
    "df_recommender.drop('DateTime', axis=1, inplace=True)"
   ]
  },
  {
   "cell_type": "code",
   "execution_count": 72,
   "metadata": {},
   "outputs": [],
   "source": [
    "df_recommender.reset_index(inplace = True, drop= True)"
   ]
  },
  {
   "cell_type": "code",
   "execution_count": 73,
   "metadata": {},
   "outputs": [
    {
     "data": {
      "text/html": [
       "<div>\n",
       "<style scoped>\n",
       "    .dataframe tbody tr th:only-of-type {\n",
       "        vertical-align: middle;\n",
       "    }\n",
       "\n",
       "    .dataframe tbody tr th {\n",
       "        vertical-align: top;\n",
       "    }\n",
       "\n",
       "    .dataframe thead th {\n",
       "        text-align: right;\n",
       "    }\n",
       "</style>\n",
       "<table border=\"1\" class=\"dataframe\">\n",
       "  <thead>\n",
       "    <tr style=\"text-align: right;\">\n",
       "      <th></th>\n",
       "      <th>Origin</th>\n",
       "      <th>Destination</th>\n",
       "      <th>Throughput</th>\n",
       "      <th>Longitude_Origin</th>\n",
       "      <th>Latitude_Origin</th>\n",
       "      <th>Longitude_Dest</th>\n",
       "      <th>Latitude_Dest</th>\n",
       "      <th>day</th>\n",
       "      <th>hour</th>\n",
       "      <th>month</th>\n",
       "    </tr>\n",
       "  </thead>\n",
       "  <tbody>\n",
       "    <tr>\n",
       "      <th>0</th>\n",
       "      <td>12TH</td>\n",
       "      <td>12TH</td>\n",
       "      <td>1</td>\n",
       "      <td>-122.271450</td>\n",
       "      <td>37.803768</td>\n",
       "      <td>-122.271450</td>\n",
       "      <td>37.803768</td>\n",
       "      <td>4</td>\n",
       "      <td>0</td>\n",
       "      <td>1</td>\n",
       "    </tr>\n",
       "    <tr>\n",
       "      <th>1</th>\n",
       "      <td>12TH</td>\n",
       "      <td>16TH</td>\n",
       "      <td>1</td>\n",
       "      <td>-122.271450</td>\n",
       "      <td>37.803768</td>\n",
       "      <td>-122.419694</td>\n",
       "      <td>37.765062</td>\n",
       "      <td>4</td>\n",
       "      <td>0</td>\n",
       "      <td>1</td>\n",
       "    </tr>\n",
       "    <tr>\n",
       "      <th>2</th>\n",
       "      <td>12TH</td>\n",
       "      <td>24TH</td>\n",
       "      <td>4</td>\n",
       "      <td>-122.271450</td>\n",
       "      <td>37.803768</td>\n",
       "      <td>-122.418143</td>\n",
       "      <td>37.752470</td>\n",
       "      <td>4</td>\n",
       "      <td>0</td>\n",
       "      <td>1</td>\n",
       "    </tr>\n",
       "    <tr>\n",
       "      <th>3</th>\n",
       "      <td>12TH</td>\n",
       "      <td>ASHB</td>\n",
       "      <td>4</td>\n",
       "      <td>-122.271450</td>\n",
       "      <td>37.803768</td>\n",
       "      <td>-122.270062</td>\n",
       "      <td>37.852803</td>\n",
       "      <td>4</td>\n",
       "      <td>0</td>\n",
       "      <td>1</td>\n",
       "    </tr>\n",
       "    <tr>\n",
       "      <th>4</th>\n",
       "      <td>12TH</td>\n",
       "      <td>BALB</td>\n",
       "      <td>2</td>\n",
       "      <td>-122.271450</td>\n",
       "      <td>37.803768</td>\n",
       "      <td>-122.447506</td>\n",
       "      <td>37.721585</td>\n",
       "      <td>4</td>\n",
       "      <td>0</td>\n",
       "      <td>1</td>\n",
       "    </tr>\n",
       "  </tbody>\n",
       "</table>\n",
       "</div>"
      ],
      "text/plain": [
       "  Origin Destination  Throughput Longitude_Origin Latitude_Origin  \\\n",
       "0   12TH        12TH           1      -122.271450       37.803768   \n",
       "1   12TH        16TH           1      -122.271450       37.803768   \n",
       "2   12TH        24TH           4      -122.271450       37.803768   \n",
       "3   12TH        ASHB           4      -122.271450       37.803768   \n",
       "4   12TH        BALB           2      -122.271450       37.803768   \n",
       "\n",
       "  Longitude_Dest Latitude_Dest  day  hour  month  \n",
       "0    -122.271450     37.803768    4     0      1  \n",
       "1    -122.419694     37.765062    4     0      1  \n",
       "2    -122.418143     37.752470    4     0      1  \n",
       "3    -122.270062     37.852803    4     0      1  \n",
       "4    -122.447506     37.721585    4     0      1  "
      ]
     },
     "execution_count": 73,
     "metadata": {},
     "output_type": "execute_result"
    }
   ],
   "source": [
    "df_recommender.head()"
   ]
  },
  {
   "cell_type": "code",
   "execution_count": 74,
   "metadata": {},
   "outputs": [],
   "source": [
    "result = [find_distance_table(df_distance, x, y) for x, y in zip(df_recommender['Origin'], df_recommender['Destination'])]"
   ]
  },
  {
   "cell_type": "code",
   "execution_count": 75,
   "metadata": {},
   "outputs": [],
   "source": [
    "df_recommender['distance'] = pd.Series(result)"
   ]
  },
  {
   "cell_type": "code",
   "execution_count": 76,
   "metadata": {},
   "outputs": [
    {
     "data": {
      "text/html": [
       "<div>\n",
       "<style scoped>\n",
       "    .dataframe tbody tr th:only-of-type {\n",
       "        vertical-align: middle;\n",
       "    }\n",
       "\n",
       "    .dataframe tbody tr th {\n",
       "        vertical-align: top;\n",
       "    }\n",
       "\n",
       "    .dataframe thead th {\n",
       "        text-align: right;\n",
       "    }\n",
       "</style>\n",
       "<table border=\"1\" class=\"dataframe\">\n",
       "  <thead>\n",
       "    <tr style=\"text-align: right;\">\n",
       "      <th></th>\n",
       "      <th>Origin</th>\n",
       "      <th>Destination</th>\n",
       "      <th>Throughput</th>\n",
       "      <th>Longitude_Origin</th>\n",
       "      <th>Latitude_Origin</th>\n",
       "      <th>Longitude_Dest</th>\n",
       "      <th>Latitude_Dest</th>\n",
       "      <th>day</th>\n",
       "      <th>hour</th>\n",
       "      <th>month</th>\n",
       "      <th>distance</th>\n",
       "    </tr>\n",
       "  </thead>\n",
       "  <tbody>\n",
       "    <tr>\n",
       "      <th>0</th>\n",
       "      <td>12TH</td>\n",
       "      <td>12TH</td>\n",
       "      <td>1</td>\n",
       "      <td>-122.271450</td>\n",
       "      <td>37.803768</td>\n",
       "      <td>-122.271450</td>\n",
       "      <td>37.803768</td>\n",
       "      <td>4</td>\n",
       "      <td>0</td>\n",
       "      <td>1</td>\n",
       "      <td>0.000000</td>\n",
       "    </tr>\n",
       "    <tr>\n",
       "      <th>1</th>\n",
       "      <td>12TH</td>\n",
       "      <td>16TH</td>\n",
       "      <td>1</td>\n",
       "      <td>-122.271450</td>\n",
       "      <td>37.803768</td>\n",
       "      <td>-122.419694</td>\n",
       "      <td>37.765062</td>\n",
       "      <td>4</td>\n",
       "      <td>0</td>\n",
       "      <td>1</td>\n",
       "      <td>13.720196</td>\n",
       "    </tr>\n",
       "    <tr>\n",
       "      <th>2</th>\n",
       "      <td>12TH</td>\n",
       "      <td>24TH</td>\n",
       "      <td>4</td>\n",
       "      <td>-122.271450</td>\n",
       "      <td>37.803768</td>\n",
       "      <td>-122.418143</td>\n",
       "      <td>37.752470</td>\n",
       "      <td>4</td>\n",
       "      <td>0</td>\n",
       "      <td>1</td>\n",
       "      <td>14.097949</td>\n",
       "    </tr>\n",
       "    <tr>\n",
       "      <th>3</th>\n",
       "      <td>12TH</td>\n",
       "      <td>ASHB</td>\n",
       "      <td>4</td>\n",
       "      <td>-122.271450</td>\n",
       "      <td>37.803768</td>\n",
       "      <td>-122.270062</td>\n",
       "      <td>37.852803</td>\n",
       "      <td>4</td>\n",
       "      <td>0</td>\n",
       "      <td>1</td>\n",
       "      <td>5.453814</td>\n",
       "    </tr>\n",
       "    <tr>\n",
       "      <th>4</th>\n",
       "      <td>12TH</td>\n",
       "      <td>BALB</td>\n",
       "      <td>2</td>\n",
       "      <td>-122.271450</td>\n",
       "      <td>37.803768</td>\n",
       "      <td>-122.447506</td>\n",
       "      <td>37.721585</td>\n",
       "      <td>4</td>\n",
       "      <td>0</td>\n",
       "      <td>1</td>\n",
       "      <td>17.972927</td>\n",
       "    </tr>\n",
       "  </tbody>\n",
       "</table>\n",
       "</div>"
      ],
      "text/plain": [
       "  Origin Destination  Throughput Longitude_Origin Latitude_Origin  \\\n",
       "0   12TH        12TH           1      -122.271450       37.803768   \n",
       "1   12TH        16TH           1      -122.271450       37.803768   \n",
       "2   12TH        24TH           4      -122.271450       37.803768   \n",
       "3   12TH        ASHB           4      -122.271450       37.803768   \n",
       "4   12TH        BALB           2      -122.271450       37.803768   \n",
       "\n",
       "  Longitude_Dest Latitude_Dest  day  hour  month   distance  \n",
       "0    -122.271450     37.803768    4     0      1   0.000000  \n",
       "1    -122.419694     37.765062    4     0      1  13.720196  \n",
       "2    -122.418143     37.752470    4     0      1  14.097949  \n",
       "3    -122.270062     37.852803    4     0      1   5.453814  \n",
       "4    -122.447506     37.721585    4     0      1  17.972927  "
      ]
     },
     "execution_count": 76,
     "metadata": {},
     "output_type": "execute_result"
    }
   ],
   "source": [
    "df_recommender.head()"
   ]
  },
  {
   "cell_type": "code",
   "execution_count": 77,
   "metadata": {},
   "outputs": [],
   "source": [
    "df_recommender.drop(['Longitude_Origin', 'Latitude_Origin', 'Longitude_Dest', 'Latitude_Dest'], axis=1, inplace=True)"
   ]
  },
  {
   "cell_type": "code",
   "execution_count": 78,
   "metadata": {},
   "outputs": [],
   "source": [
    "df_recommender = pd.get_dummies(df_recommender, drop_first=True)"
   ]
  },
  {
   "cell_type": "code",
   "execution_count": 79,
   "metadata": {},
   "outputs": [
    {
     "data": {
      "text/html": [
       "<div>\n",
       "<style scoped>\n",
       "    .dataframe tbody tr th:only-of-type {\n",
       "        vertical-align: middle;\n",
       "    }\n",
       "\n",
       "    .dataframe tbody tr th {\n",
       "        vertical-align: top;\n",
       "    }\n",
       "\n",
       "    .dataframe thead th {\n",
       "        text-align: right;\n",
       "    }\n",
       "</style>\n",
       "<table border=\"1\" class=\"dataframe\">\n",
       "  <thead>\n",
       "    <tr style=\"text-align: right;\">\n",
       "      <th></th>\n",
       "      <th>Throughput</th>\n",
       "      <th>day</th>\n",
       "      <th>hour</th>\n",
       "      <th>month</th>\n",
       "      <th>distance</th>\n",
       "      <th>Origin_16TH</th>\n",
       "      <th>Origin_19TH</th>\n",
       "      <th>Origin_24TH</th>\n",
       "      <th>Origin_ASHB</th>\n",
       "      <th>Origin_BALB</th>\n",
       "      <th>...</th>\n",
       "      <th>Destination_SANL</th>\n",
       "      <th>Destination_SBRN</th>\n",
       "      <th>Destination_SFIA</th>\n",
       "      <th>Destination_SHAY</th>\n",
       "      <th>Destination_SSAN</th>\n",
       "      <th>Destination_UCTY</th>\n",
       "      <th>Destination_WARM</th>\n",
       "      <th>Destination_WCRK</th>\n",
       "      <th>Destination_WDUB</th>\n",
       "      <th>Destination_WOAK</th>\n",
       "    </tr>\n",
       "  </thead>\n",
       "  <tbody>\n",
       "    <tr>\n",
       "      <th>0</th>\n",
       "      <td>1</td>\n",
       "      <td>4</td>\n",
       "      <td>0</td>\n",
       "      <td>1</td>\n",
       "      <td>0.000000</td>\n",
       "      <td>0</td>\n",
       "      <td>0</td>\n",
       "      <td>0</td>\n",
       "      <td>0</td>\n",
       "      <td>0</td>\n",
       "      <td>...</td>\n",
       "      <td>0</td>\n",
       "      <td>0</td>\n",
       "      <td>0</td>\n",
       "      <td>0</td>\n",
       "      <td>0</td>\n",
       "      <td>0</td>\n",
       "      <td>0</td>\n",
       "      <td>0</td>\n",
       "      <td>0</td>\n",
       "      <td>0</td>\n",
       "    </tr>\n",
       "    <tr>\n",
       "      <th>1</th>\n",
       "      <td>1</td>\n",
       "      <td>4</td>\n",
       "      <td>0</td>\n",
       "      <td>1</td>\n",
       "      <td>13.720196</td>\n",
       "      <td>0</td>\n",
       "      <td>0</td>\n",
       "      <td>0</td>\n",
       "      <td>0</td>\n",
       "      <td>0</td>\n",
       "      <td>...</td>\n",
       "      <td>0</td>\n",
       "      <td>0</td>\n",
       "      <td>0</td>\n",
       "      <td>0</td>\n",
       "      <td>0</td>\n",
       "      <td>0</td>\n",
       "      <td>0</td>\n",
       "      <td>0</td>\n",
       "      <td>0</td>\n",
       "      <td>0</td>\n",
       "    </tr>\n",
       "    <tr>\n",
       "      <th>2</th>\n",
       "      <td>4</td>\n",
       "      <td>4</td>\n",
       "      <td>0</td>\n",
       "      <td>1</td>\n",
       "      <td>14.097949</td>\n",
       "      <td>0</td>\n",
       "      <td>0</td>\n",
       "      <td>0</td>\n",
       "      <td>0</td>\n",
       "      <td>0</td>\n",
       "      <td>...</td>\n",
       "      <td>0</td>\n",
       "      <td>0</td>\n",
       "      <td>0</td>\n",
       "      <td>0</td>\n",
       "      <td>0</td>\n",
       "      <td>0</td>\n",
       "      <td>0</td>\n",
       "      <td>0</td>\n",
       "      <td>0</td>\n",
       "      <td>0</td>\n",
       "    </tr>\n",
       "    <tr>\n",
       "      <th>3</th>\n",
       "      <td>4</td>\n",
       "      <td>4</td>\n",
       "      <td>0</td>\n",
       "      <td>1</td>\n",
       "      <td>5.453814</td>\n",
       "      <td>0</td>\n",
       "      <td>0</td>\n",
       "      <td>0</td>\n",
       "      <td>0</td>\n",
       "      <td>0</td>\n",
       "      <td>...</td>\n",
       "      <td>0</td>\n",
       "      <td>0</td>\n",
       "      <td>0</td>\n",
       "      <td>0</td>\n",
       "      <td>0</td>\n",
       "      <td>0</td>\n",
       "      <td>0</td>\n",
       "      <td>0</td>\n",
       "      <td>0</td>\n",
       "      <td>0</td>\n",
       "    </tr>\n",
       "    <tr>\n",
       "      <th>4</th>\n",
       "      <td>2</td>\n",
       "      <td>4</td>\n",
       "      <td>0</td>\n",
       "      <td>1</td>\n",
       "      <td>17.972927</td>\n",
       "      <td>0</td>\n",
       "      <td>0</td>\n",
       "      <td>0</td>\n",
       "      <td>0</td>\n",
       "      <td>0</td>\n",
       "      <td>...</td>\n",
       "      <td>0</td>\n",
       "      <td>0</td>\n",
       "      <td>0</td>\n",
       "      <td>0</td>\n",
       "      <td>0</td>\n",
       "      <td>0</td>\n",
       "      <td>0</td>\n",
       "      <td>0</td>\n",
       "      <td>0</td>\n",
       "      <td>0</td>\n",
       "    </tr>\n",
       "  </tbody>\n",
       "</table>\n",
       "<p>5 rows × 95 columns</p>\n",
       "</div>"
      ],
      "text/plain": [
       "   Throughput  day  hour  month   distance  Origin_16TH  Origin_19TH  \\\n",
       "0           1    4     0      1   0.000000            0            0   \n",
       "1           1    4     0      1  13.720196            0            0   \n",
       "2           4    4     0      1  14.097949            0            0   \n",
       "3           4    4     0      1   5.453814            0            0   \n",
       "4           2    4     0      1  17.972927            0            0   \n",
       "\n",
       "   Origin_24TH  Origin_ASHB  Origin_BALB  ...  Destination_SANL  \\\n",
       "0            0            0            0  ...                 0   \n",
       "1            0            0            0  ...                 0   \n",
       "2            0            0            0  ...                 0   \n",
       "3            0            0            0  ...                 0   \n",
       "4            0            0            0  ...                 0   \n",
       "\n",
       "   Destination_SBRN  Destination_SFIA  Destination_SHAY  Destination_SSAN  \\\n",
       "0                 0                 0                 0                 0   \n",
       "1                 0                 0                 0                 0   \n",
       "2                 0                 0                 0                 0   \n",
       "3                 0                 0                 0                 0   \n",
       "4                 0                 0                 0                 0   \n",
       "\n",
       "   Destination_UCTY  Destination_WARM  Destination_WCRK  Destination_WDUB  \\\n",
       "0                 0                 0                 0                 0   \n",
       "1                 0                 0                 0                 0   \n",
       "2                 0                 0                 0                 0   \n",
       "3                 0                 0                 0                 0   \n",
       "4                 0                 0                 0                 0   \n",
       "\n",
       "   Destination_WOAK  \n",
       "0                 0  \n",
       "1                 0  \n",
       "2                 0  \n",
       "3                 0  \n",
       "4                 0  \n",
       "\n",
       "[5 rows x 95 columns]"
      ]
     },
     "execution_count": 79,
     "metadata": {},
     "output_type": "execute_result"
    }
   ],
   "source": [
    "df_recommender.head()"
   ]
  },
  {
   "cell_type": "code",
   "execution_count": 80,
   "metadata": {},
   "outputs": [],
   "source": [
    "from sklearn.linear_model import Ridge, Lasso, ElasticNet\n",
    "from sklearn.tree import ExtraTreeRegressor\n",
    "from sklearn.ensemble import GradientBoostingRegressor\n",
    "from sklearn.isotonic import IsotonicRegression\n",
    "from sklearn.model_selection import train_test_split\n",
    "from sklearn.metrics import r2_score, mean_squared_error\n",
    "import pandas as pd\n",
    "from xgboost import XGBRegressor"
   ]
  },
  {
   "cell_type": "code",
   "execution_count": 81,
   "metadata": {},
   "outputs": [],
   "source": [
    "def OptimalRegression(dataset, y_name):\n",
    "    \n",
    "    r = Ridge()\n",
    "    l = Lasso()\n",
    "    e = ElasticNet()\n",
    "    et = ExtraTreeRegressor()\n",
    "    gbr = GradientBoostingRegressor()\n",
    "    ir = IsotonicRegression()\n",
    "    xgb = XGBRegressor()\n",
    "    \n",
    "    x = dataset.drop(y_name,axis = 1) \n",
    "    y = dataset[y_name]\n",
    "    \n",
    "    x_train, x_test, y_train, y_test = train_test_split(x,y, train_size=0.8, random_state=0)\n",
    "    \n",
    "    algos = [gbr, xgb]\n",
    "    algo_names = ['Gradient Boost', 'XGBoost']\n",
    "    \n",
    "    result = pd.DataFrame(columns = ['Mean Squared Error', 'R2'], index = algo_names)\n",
    "    \n",
    "    meansquarederror = []\n",
    "    r2 = []\n",
    "    largest_r2 = 0\n",
    "    bestmodel = 0\n",
    "    \n",
    "    for algo in algos:\n",
    "        algo.fit(x_train,y_train)\n",
    "        #algo.predict(x_test)\n",
    "        \n",
    "        meansquarederror.append(mean_squared_error(y_test, algo.predict(x_test)))\n",
    "        r2val = r2_score(y_test, algo.predict(x_test))\n",
    "        r2.append(r2val)\n",
    "        if(r2val > largest_r2):\n",
    "            largest_r2 = r2val\n",
    "            bestmodel = algo\n",
    "        \n",
    "    result['Mean Squared Error'] = meansquarederror\n",
    "    result['R2'] = r2\n",
    "    \n",
    "    stats = result.sort_values('R2', ascending = False)\n",
    "    \n",
    "    return bestmodel, stats"
   ]
  },
  {
   "cell_type": "code",
   "execution_count": 82,
   "metadata": {},
   "outputs": [
    {
     "name": "stderr",
     "output_type": "stream",
     "text": [
      "/Users/michael/opt/anaconda3/envs/myenv/lib/python3.6/site-packages/xgboost/core.py:587: FutureWarning: Series.base is deprecated and will be removed in a future version\n",
      "  if getattr(data, 'base', None) is not None and \\\n"
     ]
    },
    {
     "name": "stdout",
     "output_type": "stream",
     "text": [
      "[11:21:14] WARNING: src/objective/regression_obj.cu:152: reg:linear is now deprecated in favor of reg:squarederror.\n",
      "[11:21:14] WARNING: src/learner.cc:686: Tree method is automatically selected to be 'approx' for faster speed. To use old behavior (exact greedy algorithm on single machine), set tree_method to 'exact'.\n"
     ]
    },
    {
     "ename": "KeyboardInterrupt",
     "evalue": "",
     "output_type": "error",
     "traceback": [
      "\u001b[0;31m---------------------------------------------------------------------------\u001b[0m",
      "\u001b[0;31mKeyboardInterrupt\u001b[0m                         Traceback (most recent call last)",
      "\u001b[0;32m<ipython-input-82-43ef1404ee79>\u001b[0m in \u001b[0;36m<module>\u001b[0;34m()\u001b[0m\n\u001b[0;32m----> 1\u001b[0;31m \u001b[0mmodel\u001b[0m\u001b[0;34m,\u001b[0m \u001b[0mstats\u001b[0m \u001b[0;34m=\u001b[0m \u001b[0mOptimalRegression\u001b[0m\u001b[0;34m(\u001b[0m\u001b[0mdf_recommender\u001b[0m\u001b[0;34m,\u001b[0m \u001b[0;34m'Throughput'\u001b[0m\u001b[0;34m)\u001b[0m\u001b[0;34m\u001b[0m\u001b[0;34m\u001b[0m\u001b[0m\n\u001b[0m",
      "\u001b[0;32m<ipython-input-81-b447309676a7>\u001b[0m in \u001b[0;36mOptimalRegression\u001b[0;34m(dataset, y_name)\u001b[0m\n\u001b[1;32m     25\u001b[0m \u001b[0;34m\u001b[0m\u001b[0m\n\u001b[1;32m     26\u001b[0m     \u001b[0;32mfor\u001b[0m \u001b[0malgo\u001b[0m \u001b[0;32min\u001b[0m \u001b[0malgos\u001b[0m\u001b[0;34m:\u001b[0m\u001b[0;34m\u001b[0m\u001b[0;34m\u001b[0m\u001b[0m\n\u001b[0;32m---> 27\u001b[0;31m         \u001b[0malgo\u001b[0m\u001b[0;34m.\u001b[0m\u001b[0mfit\u001b[0m\u001b[0;34m(\u001b[0m\u001b[0mx_train\u001b[0m\u001b[0;34m,\u001b[0m\u001b[0my_train\u001b[0m\u001b[0;34m)\u001b[0m\u001b[0;34m\u001b[0m\u001b[0;34m\u001b[0m\u001b[0m\n\u001b[0m\u001b[1;32m     28\u001b[0m         \u001b[0;31m#algo.predict(x_test)\u001b[0m\u001b[0;34m\u001b[0m\u001b[0;34m\u001b[0m\u001b[0;34m\u001b[0m\u001b[0m\n\u001b[1;32m     29\u001b[0m \u001b[0;34m\u001b[0m\u001b[0m\n",
      "\u001b[0;32m/Users/michael/opt/anaconda3/envs/myenv/lib/python3.6/site-packages/xgboost/sklearn.py\u001b[0m in \u001b[0;36mfit\u001b[0;34m(self, X, y, sample_weight, eval_set, eval_metric, early_stopping_rounds, verbose, xgb_model, sample_weight_eval_set, callbacks)\u001b[0m\n\u001b[1;32m    394\u001b[0m                               \u001b[0mevals_result\u001b[0m\u001b[0;34m=\u001b[0m\u001b[0mevals_result\u001b[0m\u001b[0;34m,\u001b[0m \u001b[0mobj\u001b[0m\u001b[0;34m=\u001b[0m\u001b[0mobj\u001b[0m\u001b[0;34m,\u001b[0m \u001b[0mfeval\u001b[0m\u001b[0;34m=\u001b[0m\u001b[0mfeval\u001b[0m\u001b[0;34m,\u001b[0m\u001b[0;34m\u001b[0m\u001b[0;34m\u001b[0m\u001b[0m\n\u001b[1;32m    395\u001b[0m                               \u001b[0mverbose_eval\u001b[0m\u001b[0;34m=\u001b[0m\u001b[0mverbose\u001b[0m\u001b[0;34m,\u001b[0m \u001b[0mxgb_model\u001b[0m\u001b[0;34m=\u001b[0m\u001b[0mxgb_model\u001b[0m\u001b[0;34m,\u001b[0m\u001b[0;34m\u001b[0m\u001b[0;34m\u001b[0m\u001b[0m\n\u001b[0;32m--> 396\u001b[0;31m                               callbacks=callbacks)\n\u001b[0m\u001b[1;32m    397\u001b[0m \u001b[0;34m\u001b[0m\u001b[0m\n\u001b[1;32m    398\u001b[0m         \u001b[0;32mif\u001b[0m \u001b[0mevals_result\u001b[0m\u001b[0;34m:\u001b[0m\u001b[0;34m\u001b[0m\u001b[0;34m\u001b[0m\u001b[0m\n",
      "\u001b[0;32m/Users/michael/opt/anaconda3/envs/myenv/lib/python3.6/site-packages/xgboost/training.py\u001b[0m in \u001b[0;36mtrain\u001b[0;34m(params, dtrain, num_boost_round, evals, obj, feval, maximize, early_stopping_rounds, evals_result, verbose_eval, xgb_model, callbacks, learning_rates)\u001b[0m\n\u001b[1;32m    214\u001b[0m                            \u001b[0mevals\u001b[0m\u001b[0;34m=\u001b[0m\u001b[0mevals\u001b[0m\u001b[0;34m,\u001b[0m\u001b[0;34m\u001b[0m\u001b[0;34m\u001b[0m\u001b[0m\n\u001b[1;32m    215\u001b[0m                            \u001b[0mobj\u001b[0m\u001b[0;34m=\u001b[0m\u001b[0mobj\u001b[0m\u001b[0;34m,\u001b[0m \u001b[0mfeval\u001b[0m\u001b[0;34m=\u001b[0m\u001b[0mfeval\u001b[0m\u001b[0;34m,\u001b[0m\u001b[0;34m\u001b[0m\u001b[0;34m\u001b[0m\u001b[0m\n\u001b[0;32m--> 216\u001b[0;31m                            xgb_model=xgb_model, callbacks=callbacks)\n\u001b[0m\u001b[1;32m    217\u001b[0m \u001b[0;34m\u001b[0m\u001b[0m\n\u001b[1;32m    218\u001b[0m \u001b[0;34m\u001b[0m\u001b[0m\n",
      "\u001b[0;32m/Users/michael/opt/anaconda3/envs/myenv/lib/python3.6/site-packages/xgboost/training.py\u001b[0m in \u001b[0;36m_train_internal\u001b[0;34m(params, dtrain, num_boost_round, evals, obj, feval, xgb_model, callbacks)\u001b[0m\n\u001b[1;32m     72\u001b[0m         \u001b[0;31m# Skip the first update if it is a recovery step.\u001b[0m\u001b[0;34m\u001b[0m\u001b[0;34m\u001b[0m\u001b[0;34m\u001b[0m\u001b[0m\n\u001b[1;32m     73\u001b[0m         \u001b[0;32mif\u001b[0m \u001b[0mversion\u001b[0m \u001b[0;34m%\u001b[0m \u001b[0;36m2\u001b[0m \u001b[0;34m==\u001b[0m \u001b[0;36m0\u001b[0m\u001b[0;34m:\u001b[0m\u001b[0;34m\u001b[0m\u001b[0;34m\u001b[0m\u001b[0m\n\u001b[0;32m---> 74\u001b[0;31m             \u001b[0mbst\u001b[0m\u001b[0;34m.\u001b[0m\u001b[0mupdate\u001b[0m\u001b[0;34m(\u001b[0m\u001b[0mdtrain\u001b[0m\u001b[0;34m,\u001b[0m \u001b[0mi\u001b[0m\u001b[0;34m,\u001b[0m \u001b[0mobj\u001b[0m\u001b[0;34m)\u001b[0m\u001b[0;34m\u001b[0m\u001b[0;34m\u001b[0m\u001b[0m\n\u001b[0m\u001b[1;32m     75\u001b[0m             \u001b[0mbst\u001b[0m\u001b[0;34m.\u001b[0m\u001b[0msave_rabit_checkpoint\u001b[0m\u001b[0;34m(\u001b[0m\u001b[0;34m)\u001b[0m\u001b[0;34m\u001b[0m\u001b[0;34m\u001b[0m\u001b[0m\n\u001b[1;32m     76\u001b[0m             \u001b[0mversion\u001b[0m \u001b[0;34m+=\u001b[0m \u001b[0;36m1\u001b[0m\u001b[0;34m\u001b[0m\u001b[0;34m\u001b[0m\u001b[0m\n",
      "\u001b[0;32m/Users/michael/opt/anaconda3/envs/myenv/lib/python3.6/site-packages/xgboost/core.py\u001b[0m in \u001b[0;36mupdate\u001b[0;34m(self, dtrain, iteration, fobj)\u001b[0m\n\u001b[1;32m   1107\u001b[0m         \u001b[0;32mif\u001b[0m \u001b[0mfobj\u001b[0m \u001b[0;32mis\u001b[0m \u001b[0;32mNone\u001b[0m\u001b[0;34m:\u001b[0m\u001b[0;34m\u001b[0m\u001b[0;34m\u001b[0m\u001b[0m\n\u001b[1;32m   1108\u001b[0m             _check_call(_LIB.XGBoosterUpdateOneIter(self.handle, ctypes.c_int(iteration),\n\u001b[0;32m-> 1109\u001b[0;31m                                                     dtrain.handle))\n\u001b[0m\u001b[1;32m   1110\u001b[0m         \u001b[0;32melse\u001b[0m\u001b[0;34m:\u001b[0m\u001b[0;34m\u001b[0m\u001b[0;34m\u001b[0m\u001b[0m\n\u001b[1;32m   1111\u001b[0m             \u001b[0mpred\u001b[0m \u001b[0;34m=\u001b[0m \u001b[0mself\u001b[0m\u001b[0;34m.\u001b[0m\u001b[0mpredict\u001b[0m\u001b[0;34m(\u001b[0m\u001b[0mdtrain\u001b[0m\u001b[0;34m)\u001b[0m\u001b[0;34m\u001b[0m\u001b[0;34m\u001b[0m\u001b[0m\n",
      "\u001b[0;31mKeyboardInterrupt\u001b[0m: "
     ]
    }
   ],
   "source": [
    "model, stats = OptimalRegression(df_recommender, 'Throughput')"
   ]
  },
  {
   "cell_type": "code",
   "execution_count": null,
   "metadata": {},
   "outputs": [],
   "source": []
  }
 ],
 "metadata": {
  "kernelspec": {
   "display_name": "Python 3",
   "language": "python",
   "name": "python3"
  },
  "language_info": {
   "codemirror_mode": {
    "name": "ipython",
    "version": 3
   },
   "file_extension": ".py",
   "mimetype": "text/x-python",
   "name": "python",
   "nbconvert_exporter": "python",
   "pygments_lexer": "ipython3",
   "version": "3.7.4"
  }
 },
 "nbformat": 4,
 "nbformat_minor": 2
}
